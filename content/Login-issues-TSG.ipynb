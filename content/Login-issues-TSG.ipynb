{
    "metadata": {
        "kernelspec": {
            "name": "python3",
            "display_name": "Python 3 (ipykernel)",
            "language": "python"
        },
        "language_info": {
            "name": "python",
            "version": "3.8.10",
            "mimetype": "text/x-python",
            "codemirror_mode": {
                "name": "ipython",
                "version": 3
            },
            "pygments_lexer": "ipython3",
            "nbconvert_exporter": "python",
            "file_extension": ".py"
        },
        "extensions": {
            "azuredatastudio": {
                "version": 1,
                "views": []
            }
        }
    },
    "nbformat_minor": 2,
    "nbformat": 4,
    "cells": [
        {
            "cell_type": "markdown",
            "source": [
                "# Dynamics 365 Business Central Troubleshooting Guide (TSG) - Login issues (SaaS)\r\n",
                "\r\n",
                "This notebook contains Kusto queries that can help getting to the root cause of a login issue for an environment in the online version of Business Central (SaaS). Each section in the notebook contains links to the TSG part of the authorization telemetry documentation in [aka.ms/bctelemetry](aka.ms/bctelemetry), as well as Kusto queries that help dive into a specific area. \r\n",
                "\r\n",
                "NB! The signal used in this notebook is only available in version 16.2 (or newer) of Business Central online, so check the version of your environment."
            ],
            "metadata": {
                "azdata_cell_guid": "1f608a1d-2436-4b48-80d4-5c4d2f8ca7d0",
                "extensions": {
                    "azuredatastudio": {
                        "views": []
                    }
                }
            }
        },
        {
            "cell_type": "markdown",
            "source": [
                "## 1\\. Get setup: Load up Python libraries and connect to Application Insights\n",
                "First you need to set the notebook Kernel to Python3, load the KQLmagic module (did you install it? ) and connect to your Application Insights resource (get appid and appkey from the API access page in the Application Insights portal)"
            ],
            "metadata": {
                "extensions": {
                    "azuredatastudio": {
                        "views": []
                    }
                },
                "azdata_cell_guid": "79148a67-d690-45c0-827b-e7c5a49ee2d2"
            }
        },
        {
            "cell_type": "code",
            "source": [
                "# load the KQLmagic module\r\n",
                "%reload_ext Kqlmagic"
            ],
            "metadata": {
                "azdata_cell_guid": "a253fa8e-6ac2-4722-a00a-1c52aedab4ed",
                "tags": [],
                "extensions": {
                    "azuredatastudio": {
                        "views": []
                    }
                }
            },
            "outputs": [
                {
                    "data": {
                        "text/plain": "<IPython.core.display.HTML object>",
                        "text/html": "<html>\n            <head>\n            <title>Kqlmagic - banner</title>\n            <style>\n            .kql-magic-banner {\n                display: flex; \n                background-color: #d9edf7;\n            }\n            .kql-magic-banner > div {\n                margin: 10px; \n                padding: 20px; \n                color: #3a87ad; \n                font-size: 13px;\n            }\n            </style>\n            </head>\n            <body>\n                <div class='kql-magic-banner'>\n                    <div><img src='data:image/png;base64,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'></div>\n                    <div>\n                        <p>Kql Query Language, aka kql, is the query language for advanced analytics on Azure Monitor resources. The current supported data sources are \n                        Azure Data Explorer (Kusto), Log Analytics and Application Insights. To get more information execute '%kql --help \"kql\"'</p>\n                        <p>   \n                          &bull; \n                kql reference: Click on 'Help' tab > and Select 'kql reference' or execute '%kql --help \"kql\"'<br>\n                          &bull; \n                Kqlmagic configuration: execute '%config Kqlmagic'<br>\n                          &bull; \n                Kqlmagic usage: execute '%kql --usage'<br>\n                          &bull; \n                To report bug/issue: execute '%kql --bug-report'<br>                \n                        </p> \n                    </div>\n                </div>\n            </body>\n            </html>"
                    },
                    "metadata": {},
                    "output_type": "display_data"
                },
                {
                    "data": {
                        "text/plain": "<IPython.core.display.HTML object>",
                        "text/html": "<html>\n        <head>\n            \n            \n        </head>\n        <body>\n            <div><p style=' padding: 10px; color: #3a87ad; background-color: #d9edf7; border-color: #bce9f1'>Kqlmagic&nbsp;package&nbsp;is&nbsp;updated&nbsp;frequently.&nbsp;Run&nbsp;&apos;!pip&nbsp;install&nbsp;Kqlmagic&nbsp;--no-cache-dir&nbsp;--upgrade&apos;&nbsp;to&nbsp;use&nbsp;the&nbsp;latest&nbsp;version.<br>Kqlmagic&nbsp;version:&nbsp;0.1.114,&nbsp;source:&nbsp;https://github.com/Microsoft/jupyter-Kqlmagic</p></div>\n        </body>\n        </html>"
                    },
                    "metadata": {},
                    "output_type": "display_data"
                },
                {
                    "data": {
                        "text/plain": "<IPython.core.display.HTML object>",
                        "text/html": "<!DOCTYPE html>\n            <html><body>\n            <div style='padding: 10px; color: #3a87ad; background-color: #d9edf7; border-color: #bce9f1'>\n            Click&nbsp;to&nbsp;find&nbsp;out&nbsp;what's&nbsp;new&nbsp;in&nbsp;Kqlmagic&nbsp;&nbsp;<a href='http://127.0.0.1:59293/webbrowser?url=http%3A//127.0.0.1%3A59293/files/.kqlmagic/temp_files/0066f657-cfa6-4275-b114-e106eaa17813/popup_what_new_history.html%3Fkernelid%3D0066f657-cfa6-4275-b114-e106eaa17813&kernelid=0066f657-cfa6-4275-b114-e106eaa17813' style='padding: 2px 6px 2px 6px; color: #333333; background-color: #EEEEEE; border-top: 1px solid #CCCCCC; border-right: 1px solid #333333; border-bottom: 1px solid #333333; border-left: 1px solid #CCCCCC' target='popup_what_new_history'>What's New? </a>\n            </div>\n            </body></html>"
                    },
                    "metadata": {},
                    "output_type": "display_data"
                }
            ],
            "execution_count": 14
        },
        {
            "cell_type": "code",
            "source": [
                "# Connect to the Application Insights API\r\n",
                "%kql appinsights://appid='<add app id from the Application Insights portal>';appkey='<add API key from the Application Insights portal>'"
            ],
            "metadata": {
                "azdata_cell_guid": "76c5fa02-b403-4c57-8c7d-3150e9d4270a",
                "extensions": {
                    "azuredatastudio": {
                        "views": []
                    }
                }
            },
            "outputs": [],
            "execution_count": 15
        },
        {
            "cell_type": "markdown",
            "source": [
                "## 2\\. Define filters\n",
                "\n",
                "This workbook is designed for troubleshooting a single environment. Please provide values for aadTenantId and environmentName (or use a config file)."
            ],
            "metadata": {
                "azdata_cell_guid": "9ef1220c-d9cc-4552-9297-1428efcafb32",
                "extensions": {
                    "azuredatastudio": {
                        "views": []
                    }
                }
            }
        },
        {
            "cell_type": "code",
            "source": [
                "# Add values for AAD tenant id, environment name, and date range.\r\n",
                "# It is possible to leave the value for AAD tenant id or environment name blank (if you want to analyze across all values of the parameter)\r\n",
                "\r\n",
                "# You can either use configuration file (INI file format) or set filters directly. \r\n",
                "\r\n",
                "# If you specify a config file, then variables set here takes precedence over manually set filter variables\r\n",
                "# config file name and directory (full path)\r\n",
                "configFile = \"c:\\\\tmp\\\\notebook.ini\"\r\n",
                "\r\n",
                "\r\n",
                "# Add AAD tenant id and environment name here (or leave blank)\r\n",
                "aadTenantId = \"\"\r\n",
                "environmentName = \"\"\r\n",
                "\r\n",
                "# date filters for the analysis\r\n",
                "# use YYYY-MM-DD format for the dates (ISO 8601)\r\n",
                "startDate = \"2021-11-01\"\r\n",
                "endDate = \"2022-01-01\"\r\n",
                "\r\n",
                "\r\n",
                "\r\n",
                "\r\n",
                "# Do not edit this code section\r\n",
                "import configparser\r\n",
                "config = configparser.ConfigParser()\r\n",
                "\r\n",
                "config.read(configFile)\r\n",
                "\r\n",
                "if bool(config.defaults()):\r\n",
                "    if config.has_option('DEFAULT', 'aadTenantId'):\r\n",
                "        aadTenantId = config['DEFAULT']['aadTenantId']\r\n",
                "    if config.has_option('DEFAULT', 'environmentName'):\r\n",
                "        environmentName = config['DEFAULT']['environmentName']\r\n",
                "    if config.has_option('DEFAULT', 'extensionId'):\r\n",
                "        extensionId = config['DEFAULT']['extensionId']\r\n",
                "    if config.has_option('DEFAULT', 'startDate'):    \r\n",
                "        startDate = config['DEFAULT']['startDate']\r\n",
                "    if config.has_option('DEFAULT', 'endDate'):\r\n",
                "        endDate = config['DEFAULT']['endDate']\r\n",
                "\r\n",
                "print(\"Using these parameters for the analysis:\")\r\n",
                "print(\"----------------------------------------\")\r\n",
                "print(\"aadTenantId         \" + aadTenantId)\r\n",
                "print(\"environmentName     \" + environmentName)\r\n",
                "print(\"startDate           \" + startDate)\r\n",
                "print(\"endDate             \" + endDate)"
            ],
            "metadata": {
                "azdata_cell_guid": "0a0785f7-a85e-4ccf-9020-732e1d4c058a",
                "tags": [],
                "extensions": {
                    "azuredatastudio": {
                        "views": []
                    }
                }
            },
            "outputs": [
                {
                    "name": "stdout",
                    "text": "Using these parameters for the analysis:\n----------------------------------------\naadTenantId         \nenvironmentName     \nstartDate           2021-11-01\nendDate             2022-01-01\n",
                    "output_type": "stream"
                }
            ],
            "execution_count": 16
        },
        {
            "cell_type": "markdown",
            "source": [
                "# Analyze the login flow\r\n",
                "Now you can run Kusto queries to look for possible root causes for login issues.\r\n",
                "\r\n",
                "Either click **Run All** above to run all sections, or scroll down to the type of analysis you want to do and manually run queries\r\n",
                "\r\n",
                "Documentation of the authentication and authorization flow: https://docs.microsoft.com/en-us/dynamics365/business-central/dev-itpro/security/security-application\r\n",
                "\r\n",
                "Kusto sample: https://github.com/microsoft/BCTech/blob/master/samples/AppInsights/KQL/RawData/Authorization.kql"
            ],
            "metadata": {
                "azdata_cell_guid": "5f9b698d-8a7e-4757-b27d-02f219d6c589",
                "extensions": {
                    "azuredatastudio": {
                        "views": []
                    }
                }
            }
        },
        {
            "cell_type": "markdown",
            "source": [
                "## Authentication\r\n",
                "\r\n",
                "Authentication in the online version of Business Central happens strictly in Azure Active Directory (AAD). Only when a user is authenticated in AAD, a session is attempted to be created in the Business Central server (NST). When dealing with login issues, check for *absense* of signal in eventIds for Authorization in the pre-open company of opening a session in the NST (eventIds RT0001 and RT0003) to determine if the issue is related to AAD (e.g. user is disabled, wrong password, failed MFA) or maybe something happening in the customer network (could be a DNS issue, or a changed firewall rule). \r\n",
                "\r\n",
                "**If you do not see any signal for eventIds RT0001 and RT0003, then start troubleshooting network issues first.**\r\n",
                "\r\n",
                "Read more in the Security Guide here: https://docs.microsoft.com/en-us/dynamics365/business-central/dev-itpro/security/security-application#authentication"
            ],
            "metadata": {
                "azdata_cell_guid": "810235a1-c202-47a2-b9dc-4d4d1ffd123c",
                "extensions": {
                    "azuredatastudio": {
                        "views": []
                    }
                }
            }
        },
        {
            "cell_type": "code",
            "source": [
                "%%kql\r\n",
                "let _aadTenantId = aadTenantId;\r\n",
                "let _environmentName = environmentName;\r\n",
                "let _startDate = startDate;\r\n",
                "let _endDate = endDate;\r\n",
                "traces\r\n",
                "| where 1==1 \r\n",
                "    and timestamp >= todatetime(_startDate)\r\n",
                "    and timestamp <= todatetime(_endDate) + totimespan(24h) - totimespan(1ms)   \r\n",
                "    and (_aadTenantId == '' or customDimensions.aadTenantId == _aadTenantId)\r\n",
                "    and (_environmentName == '' or customDimensions.environmentName == _environmentName )\r\n",
                "    and customDimensions.eventId in ('RT0001', 'RT0003' )\r\n",
                "| summarize request_count=count() by bin(timestamp, 1h) | render timechart title= 'Number of pre-open company authorization attempts in the last day'"
            ],
            "metadata": {
                "azdata_cell_guid": "6426410c-182a-486c-8466-228cb9ce3228",
                "tags": [],
                "extensions": {
                    "azuredatastudio": {
                        "views": []
                    }
                }
            },
            "outputs": [
                {
                    "data": {
                        "text/plain": "<IPython.core.display.HTML object>",
                        "text/html": "<html>\n        <head>\n            \n            \n        </head>\n        <body>\n            <div><p style=' padding: 10px; color: #3a87ad; background-color: #d9edf7; border-color: #bce9f1'>&nbsp;*&nbsp;43d7cb5e-452b-4c08-93ca-a35109847936@applicationinsights</p></div>\n        </body>\n        </html>"
                    },
                    "metadata": {},
                    "output_type": "display_data"
                },
                {
                    "data": {
                        "text/plain": "<IPython.core.display.HTML object>",
                        "text/html": "<html>\n        <head>\n            <style>#uuid-57112ab454a244eca9b0c0a56a29a273 {\n                    display: block; \n                    font-style:italic;\n                    font-size:300%;\n                    text-align:center;\n                } </style>\n            <title>Kqlmagic - chart</title>\n        </head>\n        <body>\n            <div id=\"uuid-57112ab454a244eca9b0c0a56a29a273\"><br><br>EMPTY CHART (no data)<br><br>.</div>\n        </body>\n        </html>"
                    },
                    "metadata": {},
                    "output_type": "display_data"
                },
                {
                    "data": {
                        "text/plain": "<IPython.core.display.HTML object>",
                        "text/html": "<html>\n        <head>\n            \n            \n        </head>\n        <body>\n            <div><p style=' padding: 10px; color: #3a87ad; background-color: #d9edf7; border-color: #bce9f1'>Done&nbsp;(00:01.285):&nbsp;0&nbsp;records</p></div>\n        </body>\n        </html>"
                    },
                    "metadata": {},
                    "output_type": "display_data"
                },
                {
                    "data": {
                        "text/plain": "[]",
                        "text/html": ""
                    },
                    "metadata": {},
                    "execution_count": 17,
                    "output_type": "execute_result"
                }
            ],
            "execution_count": 17
        },
        {
            "cell_type": "markdown",
            "source": [
                "## Authorization failures (pre-open company)\r\n",
                "\r\n",
                "A user can fail authorization before the open company trigger is executed for a number of different reasons:\r\n",
                "* The user was successfully authenticated in Azure Active Directory but the user account is disabled in Business Central.\r\n",
                "* A user successfully authenticated in Azure Active Directory but the user does not have any entitlements in Business Central (license issue)\r\n",
                "\r\n",
                "Read more about these types of failures in the authorization signal docs here: https://docs.microsoft.com/en-us/dynamics365/business-central/dev-itpro/administration/telemetry-authorization-trace#authorizationfailedpreopencompany\r\n",
                "\r\n",
                "Kusto query: https://github.com/microsoft/BCTech/blob/master/samples/AppInsights/KQL/RawData/Authorization.kql"
            ],
            "metadata": {
                "azdata_cell_guid": "2f9c2d0d-df3c-482b-af58-48416a517117",
                "extensions": {
                    "azuredatastudio": {
                        "views": []
                    }
                }
            }
        },
        {
            "cell_type": "code",
            "source": [
                "%%kql\r\n",
                "let _aadTenantId = aadTenantId;\r\n",
                "let _environmentName = environmentName;\r\n",
                "let _startDate = startDate;\r\n",
                "let _endDate = endDate;\r\n",
                "traces\r\n",
                "| where 1==1 \r\n",
                "    and timestamp >= todatetime(_startDate)\r\n",
                "    and timestamp <= todatetime(_endDate) + totimespan(24h) - totimespan(1ms)   \r\n",
                "    and (_aadTenantId == '' or customDimensions.aadTenantId == _aadTenantId)\r\n",
                "    and (_environmentName == '' or customDimensions.environmentName == _environmentName )\r\n",
                "    and customDimensions.eventId == 'RT0001'\r\n",
                "| project timestamp\r\n",
                ", guestUser = customDimensions.guestUser\r\n",
                ", userType = customDimensions.userType\r\n",
                ", failureReason = customDimensions.failureReason\r\n",
                ", entitlementSetIds = customDimensions.entitlementSetIds\r\n",
                "| order by timestamp desc\r\n",
                "| limit 100"
            ],
            "metadata": {
                "azdata_cell_guid": "a9e923e9-1d05-4acf-a230-4c5142bc3582",
                "tags": [],
                "extensions": {
                    "azuredatastudio": {
                        "views": []
                    }
                }
            },
            "outputs": [
                {
                    "data": {
                        "text/plain": "<IPython.core.display.HTML object>",
                        "text/html": "<html>\n        <head>\n            \n            \n        </head>\n        <body>\n            <div><p style=' padding: 10px; color: #3a87ad; background-color: #d9edf7; border-color: #bce9f1'>&nbsp;*&nbsp;43d7cb5e-452b-4c08-93ca-a35109847936@applicationinsights</p></div>\n        </body>\n        </html>"
                    },
                    "metadata": {},
                    "output_type": "display_data"
                },
                {
                    "data": {
                        "text/plain": "Empty DataFrame\nColumns: [timestamp, guestUser, userType, failureReason, entitlementSetIds]\nIndex: []",
                        "text/html": "<div>\n<style scoped>\n    .dataframe tbody tr th:only-of-type {\n        vertical-align: middle;\n    }\n\n    .dataframe tbody tr th {\n        vertical-align: top;\n    }\n\n    .dataframe thead th {\n        text-align: right;\n    }\n</style>\n<table border=\"1\" class=\"dataframe\">\n  <thead>\n    <tr style=\"text-align: right;\">\n      <th></th>\n      <th>timestamp</th>\n      <th>guestUser</th>\n      <th>userType</th>\n      <th>failureReason</th>\n      <th>entitlementSetIds</th>\n    </tr>\n  </thead>\n  <tbody>\n  </tbody>\n</table>\n</div>",
                        "application/vnd.dataresource+json": {
                            "schema": {
                                "fields": [
                                    {
                                        "name": "timestamp",
                                        "type": "datetime"
                                    },
                                    {
                                        "name": "guestUser",
                                        "type": "string"
                                    },
                                    {
                                        "name": "userType",
                                        "type": "string"
                                    },
                                    {
                                        "name": "failureReason",
                                        "type": "string"
                                    },
                                    {
                                        "name": "entitlementSetIds",
                                        "type": "string"
                                    }
                                ],
                                "kqmagic_version": "0.1.114"
                            },
                            "data": []
                        }
                    },
                    "metadata": {},
                    "output_type": "display_data"
                },
                {
                    "data": {
                        "text/plain": "<IPython.core.display.HTML object>",
                        "text/html": "<html>\n        <head>\n            \n            \n        </head>\n        <body>\n            <div><p style=' padding: 10px; color: #3a87ad; background-color: #d9edf7; border-color: #bce9f1'>Done&nbsp;(00:01.123):&nbsp;0&nbsp;records</p></div>\n        </body>\n        </html>"
                    },
                    "metadata": {},
                    "output_type": "display_data"
                },
                {
                    "data": {
                        "text/plain": "[]",
                        "text/html": ""
                    },
                    "metadata": {},
                    "execution_count": 18,
                    "output_type": "execute_result"
                }
            ],
            "execution_count": 18
        },
        {
            "cell_type": "markdown",
            "source": [
                "## Authorization failures (in the open company process)\r\n",
                "\r\n",
                "Events show up here for a number of different reasons\r\n",
                "* The company name is invalid\r\n",
                "* User has no permission to access the company\r\n",
                "* The environment is locked\r\n",
                "* The license has expired or the trial period has ended\r\n",
                "* The user's license is not valid for use on production companies\r\n",
                "\r\n",
                "Read more in the authorization signal docs here: https://docs.microsoft.com/en-us/dynamics365/business-central/dev-itpro/administration/telemetry-authorization-trace#authorization-failed-open-company\r\n",
                "\r\n",
                "Kusto query: https://github.com/microsoft/BCTech/blob/master/samples/AppInsights/KQL/RawData/Authorization.kql\r\n",
                ""
            ],
            "metadata": {
                "azdata_cell_guid": "2f7e604a-0d02-484e-9bcb-a6aa148d5f0b",
                "extensions": {
                    "azuredatastudio": {
                        "views": []
                    }
                }
            }
        },
        {
            "cell_type": "code",
            "source": [
                "%%kql\r\n",
                "let _aadTenantId = aadTenantId;\r\n",
                "let _environmentName = environmentName;\r\n",
                "let _startDate = startDate;\r\n",
                "let _endDate = endDate;\r\n",
                "traces\r\n",
                "| where 1==1 \r\n",
                "    and timestamp >= todatetime(_startDate)\r\n",
                "    and timestamp <= todatetime(_endDate) + totimespan(24h) - totimespan(1ms)   \r\n",
                "    and (_aadTenantId == '' or customDimensions.aadTenantId == _aadTenantId)\r\n",
                "    and (_environmentName == '' or customDimensions.environmentName == _environmentName )\r\n",
                "    and customDimensions.eventId == 'RT0002'\r\n",
                "| project timestamp\r\n",
                ", clientType = customDimensions.clientType\r\n",
                ", companyName = customDimensions.companyName\r\n",
                ", failureReason = customDimensions.failureReason\r\n",
                "| order by timestamp desc\r\n",
                "| limit 100"
            ],
            "metadata": {
                "azdata_cell_guid": "9ec9b678-7d66-4758-9101-4e9e5025dfcf",
                "tags": [],
                "extensions": {
                    "azuredatastudio": {
                        "views": []
                    }
                }
            },
            "outputs": [
                {
                    "data": {
                        "text/plain": "<IPython.core.display.HTML object>",
                        "text/html": "<html>\n        <head>\n            \n            \n        </head>\n        <body>\n            <div><p style=' padding: 10px; color: #3a87ad; background-color: #d9edf7; border-color: #bce9f1'>&nbsp;*&nbsp;43d7cb5e-452b-4c08-93ca-a35109847936@applicationinsights</p></div>\n        </body>\n        </html>"
                    },
                    "metadata": {},
                    "output_type": "display_data"
                },
                {
                    "data": {
                        "text/plain": "Empty DataFrame\nColumns: [timestamp, clientType, companyName, failureReason]\nIndex: []",
                        "text/html": "<div>\n<style scoped>\n    .dataframe tbody tr th:only-of-type {\n        vertical-align: middle;\n    }\n\n    .dataframe tbody tr th {\n        vertical-align: top;\n    }\n\n    .dataframe thead th {\n        text-align: right;\n    }\n</style>\n<table border=\"1\" class=\"dataframe\">\n  <thead>\n    <tr style=\"text-align: right;\">\n      <th></th>\n      <th>timestamp</th>\n      <th>clientType</th>\n      <th>companyName</th>\n      <th>failureReason</th>\n    </tr>\n  </thead>\n  <tbody>\n  </tbody>\n</table>\n</div>",
                        "application/vnd.dataresource+json": {
                            "schema": {
                                "fields": [
                                    {
                                        "name": "timestamp",
                                        "type": "datetime"
                                    },
                                    {
                                        "name": "clientType",
                                        "type": "string"
                                    },
                                    {
                                        "name": "companyName",
                                        "type": "string"
                                    },
                                    {
                                        "name": "failureReason",
                                        "type": "string"
                                    }
                                ],
                                "kqmagic_version": "0.1.114"
                            },
                            "data": []
                        }
                    },
                    "metadata": {},
                    "output_type": "display_data"
                },
                {
                    "data": {
                        "text/plain": "<IPython.core.display.HTML object>",
                        "text/html": "<html>\n        <head>\n            \n            \n        </head>\n        <body>\n            <div><p style=' padding: 10px; color: #3a87ad; background-color: #d9edf7; border-color: #bce9f1'>Done&nbsp;(00:00.971):&nbsp;0&nbsp;records</p></div>\n        </body>\n        </html>"
                    },
                    "metadata": {},
                    "output_type": "display_data"
                },
                {
                    "data": {
                        "text/plain": "[]",
                        "text/html": ""
                    },
                    "metadata": {},
                    "execution_count": 19,
                    "output_type": "execute_result"
                }
            ],
            "execution_count": 19
        },
        {
            "cell_type": "markdown",
            "source": [
                "## Successful logins (authentication in AAD succeded, authorization in the Business Central server succeeded)\r\n",
                "\r\n",
                "If the user can authenticate against AAD and the two authorization steps inside the Business Central server succeeds, then a session is created and the user has successfully logged in.\r\n",
                "\r\n",
                "Read more about application security in the Security Guide here:  https://docs.microsoft.com/en-us/dynamics365/business-central/dev-itpro/security/security-application#authentication\r\n",
                "\r\n",
                "Kusto query: https://github.com/microsoft/BCTech/blob/master/samples/AppInsights/KQL/RawData/Authorization.kql"
            ],
            "metadata": {
                "azdata_cell_guid": "7ed10cbf-6380-4591-ad66-8dc6b886ba48",
                "extensions": {
                    "azuredatastudio": {
                        "views": []
                    }
                }
            }
        },
        {
            "cell_type": "code",
            "source": [
                "%%kql\r\n",
                "let _aadTenantId = aadTenantId;\r\n",
                "let _environmentName = environmentName;\r\n",
                "let _startDate = startDate;\r\n",
                "let _endDate = endDate;\r\n",
                "traces\r\n",
                "| where 1==1 \r\n",
                "    and timestamp >= todatetime(_startDate)\r\n",
                "    and timestamp <= todatetime(_endDate) + totimespan(24h) - totimespan(1ms)   \r\n",
                "    and (_aadTenantId == '' or customDimensions.aadTenantId == _aadTenantId)\r\n",
                "    and (_environmentName == '' or customDimensions.environmentName == _environmentName )\r\n",
                "    and customDimensions.eventId == 'RT0004'\r\n",
                "| project timestamp\r\n",
                ", clientType = customDimensions.clientType\r\n",
                ", companyName = customDimensions.companyName\r\n",
                ", totalTimeInMS = toreal(totimespan(customDimensions.totalTime))/10000 // totalTime is measured in ticks, divide by 10000 to get milliseconds\r\n",
                "| order by timestamp desc\r\n",
                "| limit 100"
            ],
            "metadata": {
                "azdata_cell_guid": "f8e7955e-2b86-410b-98ad-f4979d85e879",
                "extensions": {
                    "azuredatastudio": {
                        "views": []
                    }
                }
            },
            "outputs": [
                {
                    "data": {
                        "text/plain": "<IPython.core.display.HTML object>",
                        "text/html": "<html>\n        <head>\n            \n            \n        </head>\n        <body>\n            <div><p style=' padding: 10px; color: #3a87ad; background-color: #d9edf7; border-color: #bce9f1'>&nbsp;*&nbsp;43d7cb5e-452b-4c08-93ca-a35109847936@applicationinsights</p></div>\n        </body>\n        </html>"
                    },
                    "metadata": {},
                    "output_type": "display_data"
                },
                {
                    "data": {
                        "text/plain": "                          timestamp    clientType                companyName  \\\n0  2021-12-09 01:09:28.184000+00:00  ChildSession  CRONUS International Ltd.   \n1  2021-12-09 01:09:27.152000+00:00    Background  CRONUS International Ltd.   \n2  2021-12-09 01:09:19.149000+00:00     WebClient  CRONUS International Ltd.   \n3  2021-11-10 12:57:52.906000+00:00    Background  CRONUS International Ltd.   \n4  2021-11-10 12:57:50.094000+00:00    Background  CRONUS International Ltd.   \n5  2021-11-10 12:57:50.094000+00:00    Background  CRONUS International Ltd.   \n6  2021-11-08 20:46:53.175000+00:00    Background  CRONUS International Ltd.   \n7  2021-11-08 20:46:50.644000+00:00    Background  CRONUS International Ltd.   \n8  2021-11-08 20:46:50.644000+00:00    Background  CRONUS International Ltd.   \n9  2021-11-07 20:57:01.501000+00:00    Background  CRONUS International Ltd.   \n10 2021-11-07 20:56:27.433000+00:00    Background  CRONUS International Ltd.   \n11 2021-11-07 20:56:19.999000+00:00     WebClient  CRONUS International Ltd.   \n12 2021-11-06 19:47:25.658000+00:00    Background  CRONUS International Ltd.   \n13 2021-11-06 19:47:22.754000+00:00    Background  CRONUS International Ltd.   \n14 2021-11-06 19:47:22.754000+00:00    Background  CRONUS International Ltd.   \n15 2021-11-05 19:47:16.331000+00:00    Background  CRONUS International Ltd.   \n16 2021-11-05 19:47:11.347000+00:00    Background  CRONUS International Ltd.   \n17 2021-11-05 19:47:10.330000+00:00    Background  CRONUS International Ltd.   \n18 2021-11-05 14:18:23.665000+00:00  ChildSession  CRONUS International Ltd.   \n19 2021-11-05 14:18:15.574000+00:00     WebClient  CRONUS International Ltd.   \n20 2021-11-05 13:53:07.551000+00:00  ChildSession  CRONUS International Ltd.   \n21 2021-11-05 13:53:06.854000+00:00     WebClient  CRONUS International Ltd.   \n22 2021-11-05 13:24:12.246000+00:00  ChildSession  CRONUS International Ltd.   \n23 2021-11-05 13:24:11.238000+00:00    Background  CRONUS International Ltd.   \n24 2021-11-05 13:24:01.747000+00:00     WebClient  CRONUS International Ltd.   \n25 2021-11-04 22:59:47.746000+00:00  ChildSession  CRONUS International Ltd.   \n26 2021-11-04 22:59:41.121000+00:00     WebClient  CRONUS International Ltd.   \n27 2021-11-04 22:47:28.643000+00:00  ChildSession  CRONUS International Ltd.   \n28 2021-11-04 22:47:20.052000+00:00     WebClient  CRONUS International Ltd.   \n29 2021-11-04 22:37:37.597000+00:00  ChildSession  CRONUS International Ltd.   \n30 2021-11-04 22:37:29.240000+00:00     WebClient  CRONUS International Ltd.   \n31 2021-11-04 22:28:34.023000+00:00  ChildSession  CRONUS International Ltd.   \n32 2021-11-04 22:28:27.266000+00:00     WebClient  CRONUS International Ltd.   \n33 2021-11-04 22:16:42.522000+00:00  ChildSession  CRONUS International Ltd.   \n34 2021-11-04 22:16:42.409000+00:00    Background  CRONUS International Ltd.   \n35 2021-11-04 22:16:32.931000+00:00     WebClient  CRONUS International Ltd.   \n36 2021-11-04 21:28:13.384000+00:00  ChildSession  CRONUS International Ltd.   \n37 2021-11-04 21:28:05.064000+00:00     WebClient  CRONUS International Ltd.   \n38 2021-11-04 21:15:54.824000+00:00  ChildSession  CRONUS International Ltd.   \n39 2021-11-04 21:15:53.908000+00:00     WebClient  CRONUS International Ltd.   \n40 2021-11-04 20:50:45.240000+00:00  ChildSession  CRONUS International Ltd.   \n41 2021-11-04 20:50:44.878000+00:00    Background  CRONUS International Ltd.   \n42 2021-11-04 20:50:36.816000+00:00     WebClient  CRONUS International Ltd.   \n43 2021-11-04 20:38:55.944000+00:00  ChildSession  CRONUS International Ltd.   \n44 2021-11-04 20:38:47.363000+00:00     WebClient  CRONUS International Ltd.   \n45 2021-11-04 20:22:36.833000+00:00  ChildSession  CRONUS International Ltd.   \n46 2021-11-04 20:22:29.759000+00:00     WebClient  CRONUS International Ltd.   \n47 2021-11-04 20:13:47.862000+00:00  ChildSession  CRONUS International Ltd.   \n48 2021-11-04 20:13:41.410000+00:00     WebClient  CRONUS International Ltd.   \n49 2021-11-04 20:10:33.756000+00:00  ChildSession  CRONUS International Ltd.   \n50 2021-11-04 20:10:26.349000+00:00     WebClient  CRONUS International Ltd.   \n51 2021-11-04 20:02:44.231000+00:00  ChildSession  CRONUS International Ltd.   \n52 2021-11-04 20:02:35.894000+00:00     WebClient  CRONUS International Ltd.   \n53 2021-11-04 19:49:48.339000+00:00  ChildSession  CRONUS International Ltd.   \n54 2021-11-04 19:49:47.678000+00:00    Background  CRONUS International Ltd.   \n55 2021-11-04 19:49:43.128000+00:00     WebClient  CRONUS International Ltd.   \n56 2021-11-04 19:48:56.900000+00:00     WebClient  CRONUS International Ltd.   \n57 2021-11-04 19:47:10.167000+00:00    Background  CRONUS International Ltd.   \n58 2021-11-04 19:46:55.543000+00:00    Background  CRONUS International Ltd.   \n59 2021-11-04 19:46:55.543000+00:00    Background  CRONUS International Ltd.   \n60 2021-11-04 00:33:01.987000+00:00  ChildSession  CRONUS International Ltd.   \n61 2021-11-04 00:33:01.869000+00:00  ChildSession  CRONUS International Ltd.   \n62 2021-11-04 00:31:56.281000+00:00  ChildSession  CRONUS International Ltd.   \n63 2021-11-04 00:31:55.751000+00:00  ChildSession  CRONUS International Ltd.   \n64 2021-11-04 00:28:47.760000+00:00  ChildSession  CRONUS International Ltd.   \n65 2021-11-04 00:28:31.735000+00:00  ChildSession  CRONUS International Ltd.   \n66 2021-11-04 00:26:59.713000+00:00    Background  CRONUS International Ltd.   \n67 2021-11-04 00:25:29.220000+00:00  ChildSession  CRONUS International Ltd.   \n68 2021-11-04 00:25:28.375000+00:00     WebClient  CRONUS International Ltd.   \n69 2021-11-03 21:47:36.066000+00:00  ChildSession  CRONUS International Ltd.   \n70 2021-11-03 21:41:55.925000+00:00  ChildSession  CRONUS International Ltd.   \n71 2021-11-03 21:41:49.311000+00:00     WebClient  CRONUS International Ltd.   \n72 2021-11-03 21:28:19.710000+00:00  ChildSession  CRONUS International Ltd.   \n73 2021-11-03 21:28:11.609000+00:00     WebClient  CRONUS International Ltd.   \n74 2021-11-03 21:19:42.041000+00:00    Background  CRONUS International Ltd.   \n75 2021-11-03 21:19:41.503000+00:00  ChildSession  CRONUS International Ltd.   \n76 2021-11-03 21:19:33.181000+00:00     WebClient  CRONUS International Ltd.   \n77 2021-11-03 21:07:56.466000+00:00     WebClient  CRONUS International Ltd.   \n78 2021-11-03 18:48:38.293000+00:00  ChildSession  CRONUS International Ltd.   \n79 2021-11-03 18:48:36.903000+00:00    Background  CRONUS International Ltd.   \n80 2021-11-03 18:48:29.736000+00:00     WebClient  CRONUS International Ltd.   \n\n    totalTimeInMS  \n0          1.1000  \n1         12.1472  \n2       6667.4392  \n3          3.6174  \n4      10630.9501  \n5      10630.4960  \n6          2.9601  \n7       7418.9702  \n8       7419.8216  \n9          2.2338  \n10         2.5455  \n11      1417.9688  \n12         3.4127  \n13      8004.4742  \n14      4615.7110  \n15         2.2262  \n16         2.4030  \n17         2.4149  \n18         1.8854  \n19      5852.6887  \n20         0.9626  \n21        15.5036  \n22         1.2263  \n23         2.7740  \n24      7774.5011  \n25         2.2452  \n26      2062.1776  \n27         2.2991  \n28      6226.3184  \n29         2.4109  \n30      6388.3745  \n31         1.1498  \n32      2061.2965  \n33         3.9756  \n34         4.0417  \n35      6184.5094  \n36         1.5353  \n37      6334.5836  \n38         1.6419  \n39        18.1752  \n40         1.6359  \n41         3.3164  \n42      6208.6195  \n43         1.7878  \n44      6226.6466  \n45         1.3560  \n46      2260.5106  \n47         2.0798  \n48      1960.3236  \n49         1.9356  \n50      2222.0690  \n51         1.8139  \n52      6198.9818  \n53         1.6727  \n54         2.8682  \n55        17.7290  \n56      1752.0612  \n57         5.7779  \n58      7439.8989  \n59      7439.2164  \n60         1.3293  \n61         1.2958  \n62         1.4723  \n63         1.4840  \n64         1.4300  \n65         1.3319  \n66         2.4542  \n67         1.4560  \n68        52.5328  \n69         1.5168  \n70         1.2051  \n71      5938.1929  \n72         1.8020  \n73      6925.6148  \n74         2.5002  \n75         1.8348  \n76      1896.3355  \n77      7108.7523  \n78         1.0436  \n79         1.9697  \n80      1952.3829  ",
                        "text/html": "<div>\n<style scoped>\n    .dataframe tbody tr th:only-of-type {\n        vertical-align: middle;\n    }\n\n    .dataframe tbody tr th {\n        vertical-align: top;\n    }\n\n    .dataframe thead th {\n        text-align: right;\n    }\n</style>\n<table border=\"1\" class=\"dataframe\">\n  <thead>\n    <tr style=\"text-align: right;\">\n      <th></th>\n      <th>timestamp</th>\n      <th>clientType</th>\n      <th>companyName</th>\n      <th>totalTimeInMS</th>\n    </tr>\n  </thead>\n  <tbody>\n    <tr>\n      <th>0</th>\n      <td>2021-12-09 01:09:28.184000+00:00</td>\n      <td>ChildSession</td>\n      <td>CRONUS International Ltd.</td>\n      <td>1.1000</td>\n    </tr>\n    <tr>\n      <th>1</th>\n      <td>2021-12-09 01:09:27.152000+00:00</td>\n      <td>Background</td>\n      <td>CRONUS International Ltd.</td>\n      <td>12.1472</td>\n    </tr>\n    <tr>\n      <th>2</th>\n      <td>2021-12-09 01:09:19.149000+00:00</td>\n      <td>WebClient</td>\n      <td>CRONUS International Ltd.</td>\n      <td>6667.4392</td>\n    </tr>\n    <tr>\n      <th>3</th>\n      <td>2021-11-10 12:57:52.906000+00:00</td>\n      <td>Background</td>\n      <td>CRONUS International Ltd.</td>\n      <td>3.6174</td>\n    </tr>\n    <tr>\n      <th>4</th>\n      <td>2021-11-10 12:57:50.094000+00:00</td>\n      <td>Background</td>\n      <td>CRONUS International Ltd.</td>\n      <td>10630.9501</td>\n    </tr>\n    <tr>\n      <th>5</th>\n      <td>2021-11-10 12:57:50.094000+00:00</td>\n      <td>Background</td>\n      <td>CRONUS International Ltd.</td>\n      <td>10630.4960</td>\n    </tr>\n    <tr>\n      <th>6</th>\n      <td>2021-11-08 20:46:53.175000+00:00</td>\n      <td>Background</td>\n      <td>CRONUS International Ltd.</td>\n      <td>2.9601</td>\n    </tr>\n    <tr>\n      <th>7</th>\n      <td>2021-11-08 20:46:50.644000+00:00</td>\n      <td>Background</td>\n      <td>CRONUS International Ltd.</td>\n      <td>7418.9702</td>\n    </tr>\n    <tr>\n      <th>8</th>\n      <td>2021-11-08 20:46:50.644000+00:00</td>\n      <td>Background</td>\n      <td>CRONUS International Ltd.</td>\n      <td>7419.8216</td>\n    </tr>\n    <tr>\n      <th>9</th>\n      <td>2021-11-07 20:57:01.501000+00:00</td>\n      <td>Background</td>\n      <td>CRONUS International Ltd.</td>\n      <td>2.2338</td>\n    </tr>\n    <tr>\n      <th>10</th>\n      <td>2021-11-07 20:56:27.433000+00:00</td>\n      <td>Background</td>\n      <td>CRONUS International Ltd.</td>\n      <td>2.5455</td>\n    </tr>\n    <tr>\n      <th>11</th>\n      <td>2021-11-07 20:56:19.999000+00:00</td>\n      <td>WebClient</td>\n      <td>CRONUS International Ltd.</td>\n      <td>1417.9688</td>\n    </tr>\n    <tr>\n      <th>12</th>\n      <td>2021-11-06 19:47:25.658000+00:00</td>\n      <td>Background</td>\n      <td>CRONUS International Ltd.</td>\n      <td>3.4127</td>\n    </tr>\n    <tr>\n      <th>13</th>\n      <td>2021-11-06 19:47:22.754000+00:00</td>\n      <td>Background</td>\n      <td>CRONUS International Ltd.</td>\n      <td>8004.4742</td>\n    </tr>\n    <tr>\n      <th>14</th>\n      <td>2021-11-06 19:47:22.754000+00:00</td>\n      <td>Background</td>\n      <td>CRONUS International Ltd.</td>\n      <td>4615.7110</td>\n    </tr>\n    <tr>\n      <th>15</th>\n      <td>2021-11-05 19:47:16.331000+00:00</td>\n      <td>Background</td>\n      <td>CRONUS International Ltd.</td>\n      <td>2.2262</td>\n    </tr>\n    <tr>\n      <th>16</th>\n      <td>2021-11-05 19:47:11.347000+00:00</td>\n      <td>Background</td>\n      <td>CRONUS International Ltd.</td>\n      <td>2.4030</td>\n    </tr>\n    <tr>\n      <th>17</th>\n      <td>2021-11-05 19:47:10.330000+00:00</td>\n      <td>Background</td>\n      <td>CRONUS International Ltd.</td>\n      <td>2.4149</td>\n    </tr>\n    <tr>\n      <th>18</th>\n      <td>2021-11-05 14:18:23.665000+00:00</td>\n      <td>ChildSession</td>\n      <td>CRONUS International Ltd.</td>\n      <td>1.8854</td>\n    </tr>\n    <tr>\n      <th>19</th>\n      <td>2021-11-05 14:18:15.574000+00:00</td>\n      <td>WebClient</td>\n      <td>CRONUS International Ltd.</td>\n      <td>5852.6887</td>\n    </tr>\n    <tr>\n      <th>20</th>\n      <td>2021-11-05 13:53:07.551000+00:00</td>\n      <td>ChildSession</td>\n      <td>CRONUS International Ltd.</td>\n      <td>0.9626</td>\n    </tr>\n    <tr>\n      <th>21</th>\n      <td>2021-11-05 13:53:06.854000+00:00</td>\n      <td>WebClient</td>\n      <td>CRONUS International Ltd.</td>\n      <td>15.5036</td>\n    </tr>\n    <tr>\n      <th>22</th>\n      <td>2021-11-05 13:24:12.246000+00:00</td>\n      <td>ChildSession</td>\n      <td>CRONUS International Ltd.</td>\n      <td>1.2263</td>\n    </tr>\n    <tr>\n      <th>23</th>\n      <td>2021-11-05 13:24:11.238000+00:00</td>\n      <td>Background</td>\n      <td>CRONUS International Ltd.</td>\n      <td>2.7740</td>\n    </tr>\n    <tr>\n      <th>24</th>\n      <td>2021-11-05 13:24:01.747000+00:00</td>\n      <td>WebClient</td>\n      <td>CRONUS International Ltd.</td>\n      <td>7774.5011</td>\n    </tr>\n    <tr>\n      <th>25</th>\n      <td>2021-11-04 22:59:47.746000+00:00</td>\n      <td>ChildSession</td>\n      <td>CRONUS International Ltd.</td>\n      <td>2.2452</td>\n    </tr>\n    <tr>\n      <th>26</th>\n      <td>2021-11-04 22:59:41.121000+00:00</td>\n      <td>WebClient</td>\n      <td>CRONUS International Ltd.</td>\n      <td>2062.1776</td>\n    </tr>\n    <tr>\n      <th>27</th>\n      <td>2021-11-04 22:47:28.643000+00:00</td>\n      <td>ChildSession</td>\n      <td>CRONUS International Ltd.</td>\n      <td>2.2991</td>\n    </tr>\n    <tr>\n      <th>28</th>\n      <td>2021-11-04 22:47:20.052000+00:00</td>\n      <td>WebClient</td>\n      <td>CRONUS International Ltd.</td>\n      <td>6226.3184</td>\n    </tr>\n    <tr>\n      <th>29</th>\n      <td>2021-11-04 22:37:37.597000+00:00</td>\n      <td>ChildSession</td>\n      <td>CRONUS International Ltd.</td>\n      <td>2.4109</td>\n    </tr>\n    <tr>\n      <th>30</th>\n      <td>2021-11-04 22:37:29.240000+00:00</td>\n      <td>WebClient</td>\n      <td>CRONUS International Ltd.</td>\n      <td>6388.3745</td>\n    </tr>\n    <tr>\n      <th>31</th>\n      <td>2021-11-04 22:28:34.023000+00:00</td>\n      <td>ChildSession</td>\n      <td>CRONUS International Ltd.</td>\n      <td>1.1498</td>\n    </tr>\n    <tr>\n      <th>32</th>\n      <td>2021-11-04 22:28:27.266000+00:00</td>\n      <td>WebClient</td>\n      <td>CRONUS International Ltd.</td>\n      <td>2061.2965</td>\n    </tr>\n    <tr>\n      <th>33</th>\n      <td>2021-11-04 22:16:42.522000+00:00</td>\n      <td>ChildSession</td>\n      <td>CRONUS International Ltd.</td>\n      <td>3.9756</td>\n    </tr>\n    <tr>\n      <th>34</th>\n      <td>2021-11-04 22:16:42.409000+00:00</td>\n      <td>Background</td>\n      <td>CRONUS International Ltd.</td>\n      <td>4.0417</td>\n    </tr>\n    <tr>\n      <th>35</th>\n      <td>2021-11-04 22:16:32.931000+00:00</td>\n      <td>WebClient</td>\n      <td>CRONUS International Ltd.</td>\n      <td>6184.5094</td>\n    </tr>\n    <tr>\n      <th>36</th>\n      <td>2021-11-04 21:28:13.384000+00:00</td>\n      <td>ChildSession</td>\n      <td>CRONUS International Ltd.</td>\n      <td>1.5353</td>\n    </tr>\n    <tr>\n      <th>37</th>\n      <td>2021-11-04 21:28:05.064000+00:00</td>\n      <td>WebClient</td>\n      <td>CRONUS International Ltd.</td>\n      <td>6334.5836</td>\n    </tr>\n    <tr>\n      <th>38</th>\n      <td>2021-11-04 21:15:54.824000+00:00</td>\n      <td>ChildSession</td>\n      <td>CRONUS International Ltd.</td>\n      <td>1.6419</td>\n    </tr>\n    <tr>\n      <th>39</th>\n      <td>2021-11-04 21:15:53.908000+00:00</td>\n      <td>WebClient</td>\n      <td>CRONUS International Ltd.</td>\n      <td>18.1752</td>\n    </tr>\n    <tr>\n      <th>40</th>\n      <td>2021-11-04 20:50:45.240000+00:00</td>\n      <td>ChildSession</td>\n      <td>CRONUS International Ltd.</td>\n      <td>1.6359</td>\n    </tr>\n    <tr>\n      <th>41</th>\n      <td>2021-11-04 20:50:44.878000+00:00</td>\n      <td>Background</td>\n      <td>CRONUS International Ltd.</td>\n      <td>3.3164</td>\n    </tr>\n    <tr>\n      <th>42</th>\n      <td>2021-11-04 20:50:36.816000+00:00</td>\n      <td>WebClient</td>\n      <td>CRONUS International Ltd.</td>\n      <td>6208.6195</td>\n    </tr>\n    <tr>\n      <th>43</th>\n      <td>2021-11-04 20:38:55.944000+00:00</td>\n      <td>ChildSession</td>\n      <td>CRONUS International Ltd.</td>\n      <td>1.7878</td>\n    </tr>\n    <tr>\n      <th>44</th>\n      <td>2021-11-04 20:38:47.363000+00:00</td>\n      <td>WebClient</td>\n      <td>CRONUS International Ltd.</td>\n      <td>6226.6466</td>\n    </tr>\n    <tr>\n      <th>45</th>\n      <td>2021-11-04 20:22:36.833000+00:00</td>\n      <td>ChildSession</td>\n      <td>CRONUS International Ltd.</td>\n      <td>1.3560</td>\n    </tr>\n    <tr>\n      <th>46</th>\n      <td>2021-11-04 20:22:29.759000+00:00</td>\n      <td>WebClient</td>\n      <td>CRONUS International Ltd.</td>\n      <td>2260.5106</td>\n    </tr>\n    <tr>\n      <th>47</th>\n      <td>2021-11-04 20:13:47.862000+00:00</td>\n      <td>ChildSession</td>\n      <td>CRONUS International Ltd.</td>\n      <td>2.0798</td>\n    </tr>\n    <tr>\n      <th>48</th>\n      <td>2021-11-04 20:13:41.410000+00:00</td>\n      <td>WebClient</td>\n      <td>CRONUS International Ltd.</td>\n      <td>1960.3236</td>\n    </tr>\n    <tr>\n      <th>49</th>\n      <td>2021-11-04 20:10:33.756000+00:00</td>\n      <td>ChildSession</td>\n      <td>CRONUS International Ltd.</td>\n      <td>1.9356</td>\n    </tr>\n    <tr>\n      <th>50</th>\n      <td>2021-11-04 20:10:26.349000+00:00</td>\n      <td>WebClient</td>\n      <td>CRONUS International Ltd.</td>\n      <td>2222.0690</td>\n    </tr>\n    <tr>\n      <th>51</th>\n      <td>2021-11-04 20:02:44.231000+00:00</td>\n      <td>ChildSession</td>\n      <td>CRONUS International Ltd.</td>\n      <td>1.8139</td>\n    </tr>\n    <tr>\n      <th>52</th>\n      <td>2021-11-04 20:02:35.894000+00:00</td>\n      <td>WebClient</td>\n      <td>CRONUS International Ltd.</td>\n      <td>6198.9818</td>\n    </tr>\n    <tr>\n      <th>53</th>\n      <td>2021-11-04 19:49:48.339000+00:00</td>\n      <td>ChildSession</td>\n      <td>CRONUS International Ltd.</td>\n      <td>1.6727</td>\n    </tr>\n    <tr>\n      <th>54</th>\n      <td>2021-11-04 19:49:47.678000+00:00</td>\n      <td>Background</td>\n      <td>CRONUS International Ltd.</td>\n      <td>2.8682</td>\n    </tr>\n    <tr>\n      <th>55</th>\n      <td>2021-11-04 19:49:43.128000+00:00</td>\n      <td>WebClient</td>\n      <td>CRONUS International Ltd.</td>\n      <td>17.7290</td>\n    </tr>\n    <tr>\n      <th>56</th>\n      <td>2021-11-04 19:48:56.900000+00:00</td>\n      <td>WebClient</td>\n      <td>CRONUS International Ltd.</td>\n      <td>1752.0612</td>\n    </tr>\n    <tr>\n      <th>57</th>\n      <td>2021-11-04 19:47:10.167000+00:00</td>\n      <td>Background</td>\n      <td>CRONUS International Ltd.</td>\n      <td>5.7779</td>\n    </tr>\n    <tr>\n      <th>58</th>\n      <td>2021-11-04 19:46:55.543000+00:00</td>\n      <td>Background</td>\n      <td>CRONUS International Ltd.</td>\n      <td>7439.8989</td>\n    </tr>\n    <tr>\n      <th>59</th>\n      <td>2021-11-04 19:46:55.543000+00:00</td>\n      <td>Background</td>\n      <td>CRONUS International Ltd.</td>\n      <td>7439.2164</td>\n    </tr>\n    <tr>\n      <th>60</th>\n      <td>2021-11-04 00:33:01.987000+00:00</td>\n      <td>ChildSession</td>\n      <td>CRONUS International Ltd.</td>\n      <td>1.3293</td>\n    </tr>\n    <tr>\n      <th>61</th>\n      <td>2021-11-04 00:33:01.869000+00:00</td>\n      <td>ChildSession</td>\n      <td>CRONUS International Ltd.</td>\n      <td>1.2958</td>\n    </tr>\n    <tr>\n      <th>62</th>\n      <td>2021-11-04 00:31:56.281000+00:00</td>\n      <td>ChildSession</td>\n      <td>CRONUS International Ltd.</td>\n      <td>1.4723</td>\n    </tr>\n    <tr>\n      <th>63</th>\n      <td>2021-11-04 00:31:55.751000+00:00</td>\n      <td>ChildSession</td>\n      <td>CRONUS International Ltd.</td>\n      <td>1.4840</td>\n    </tr>\n    <tr>\n      <th>64</th>\n      <td>2021-11-04 00:28:47.760000+00:00</td>\n      <td>ChildSession</td>\n      <td>CRONUS International Ltd.</td>\n      <td>1.4300</td>\n    </tr>\n    <tr>\n      <th>65</th>\n      <td>2021-11-04 00:28:31.735000+00:00</td>\n      <td>ChildSession</td>\n      <td>CRONUS International Ltd.</td>\n      <td>1.3319</td>\n    </tr>\n    <tr>\n      <th>66</th>\n      <td>2021-11-04 00:26:59.713000+00:00</td>\n      <td>Background</td>\n      <td>CRONUS International Ltd.</td>\n      <td>2.4542</td>\n    </tr>\n    <tr>\n      <th>67</th>\n      <td>2021-11-04 00:25:29.220000+00:00</td>\n      <td>ChildSession</td>\n      <td>CRONUS International Ltd.</td>\n      <td>1.4560</td>\n    </tr>\n    <tr>\n      <th>68</th>\n      <td>2021-11-04 00:25:28.375000+00:00</td>\n      <td>WebClient</td>\n      <td>CRONUS International Ltd.</td>\n      <td>52.5328</td>\n    </tr>\n    <tr>\n      <th>69</th>\n      <td>2021-11-03 21:47:36.066000+00:00</td>\n      <td>ChildSession</td>\n      <td>CRONUS International Ltd.</td>\n      <td>1.5168</td>\n    </tr>\n    <tr>\n      <th>70</th>\n      <td>2021-11-03 21:41:55.925000+00:00</td>\n      <td>ChildSession</td>\n      <td>CRONUS International Ltd.</td>\n      <td>1.2051</td>\n    </tr>\n    <tr>\n      <th>71</th>\n      <td>2021-11-03 21:41:49.311000+00:00</td>\n      <td>WebClient</td>\n      <td>CRONUS International Ltd.</td>\n      <td>5938.1929</td>\n    </tr>\n    <tr>\n      <th>72</th>\n      <td>2021-11-03 21:28:19.710000+00:00</td>\n      <td>ChildSession</td>\n      <td>CRONUS International Ltd.</td>\n      <td>1.8020</td>\n    </tr>\n    <tr>\n      <th>73</th>\n      <td>2021-11-03 21:28:11.609000+00:00</td>\n      <td>WebClient</td>\n      <td>CRONUS International Ltd.</td>\n      <td>6925.6148</td>\n    </tr>\n    <tr>\n      <th>74</th>\n      <td>2021-11-03 21:19:42.041000+00:00</td>\n      <td>Background</td>\n      <td>CRONUS International Ltd.</td>\n      <td>2.5002</td>\n    </tr>\n    <tr>\n      <th>75</th>\n      <td>2021-11-03 21:19:41.503000+00:00</td>\n      <td>ChildSession</td>\n      <td>CRONUS International Ltd.</td>\n      <td>1.8348</td>\n    </tr>\n    <tr>\n      <th>76</th>\n      <td>2021-11-03 21:19:33.181000+00:00</td>\n      <td>WebClient</td>\n      <td>CRONUS International Ltd.</td>\n      <td>1896.3355</td>\n    </tr>\n    <tr>\n      <th>77</th>\n      <td>2021-11-03 21:07:56.466000+00:00</td>\n      <td>WebClient</td>\n      <td>CRONUS International Ltd.</td>\n      <td>7108.7523</td>\n    </tr>\n    <tr>\n      <th>78</th>\n      <td>2021-11-03 18:48:38.293000+00:00</td>\n      <td>ChildSession</td>\n      <td>CRONUS International Ltd.</td>\n      <td>1.0436</td>\n    </tr>\n    <tr>\n      <th>79</th>\n      <td>2021-11-03 18:48:36.903000+00:00</td>\n      <td>Background</td>\n      <td>CRONUS International Ltd.</td>\n      <td>1.9697</td>\n    </tr>\n    <tr>\n      <th>80</th>\n      <td>2021-11-03 18:48:29.736000+00:00</td>\n      <td>WebClient</td>\n      <td>CRONUS International Ltd.</td>\n      <td>1952.3829</td>\n    </tr>\n  </tbody>\n</table>\n</div>",
                        "application/vnd.dataresource+json": {
                            "schema": {
                                "fields": [
                                    {
                                        "name": "timestamp",
                                        "type": "datetime",
                                        "tz": "UTC"
                                    },
                                    {
                                        "name": "clientType",
                                        "type": "string"
                                    },
                                    {
                                        "name": "companyName",
                                        "type": "string"
                                    },
                                    {
                                        "name": "totalTimeInMS",
                                        "type": "number"
                                    }
                                ],
                                "kqmagic_version": "0.1.114"
                            },
                            "data": [
                                {
                                    "timestamp": "2021-12-09T01:09:28.184Z",
                                    "clientType": "ChildSession",
                                    "companyName": "CRONUS International Ltd.",
                                    "totalTimeInMS": 1.1
                                },
                                {
                                    "timestamp": "2021-12-09T01:09:27.152Z",
                                    "clientType": "Background",
                                    "companyName": "CRONUS International Ltd.",
                                    "totalTimeInMS": 12.1472
                                },
                                {
                                    "timestamp": "2021-12-09T01:09:19.149Z",
                                    "clientType": "WebClient",
                                    "companyName": "CRONUS International Ltd.",
                                    "totalTimeInMS": 6667.4392
                                },
                                {
                                    "timestamp": "2021-11-10T12:57:52.906Z",
                                    "clientType": "Background",
                                    "companyName": "CRONUS International Ltd.",
                                    "totalTimeInMS": 3.6174
                                },
                                {
                                    "timestamp": "2021-11-10T12:57:50.094Z",
                                    "clientType": "Background",
                                    "companyName": "CRONUS International Ltd.",
                                    "totalTimeInMS": 10630.9501
                                },
                                {
                                    "timestamp": "2021-11-10T12:57:50.094Z",
                                    "clientType": "Background",
                                    "companyName": "CRONUS International Ltd.",
                                    "totalTimeInMS": 10630.496
                                },
                                {
                                    "timestamp": "2021-11-08T20:46:53.175Z",
                                    "clientType": "Background",
                                    "companyName": "CRONUS International Ltd.",
                                    "totalTimeInMS": 2.9601
                                },
                                {
                                    "timestamp": "2021-11-08T20:46:50.644Z",
                                    "clientType": "Background",
                                    "companyName": "CRONUS International Ltd.",
                                    "totalTimeInMS": 7418.9702
                                },
                                {
                                    "timestamp": "2021-11-08T20:46:50.644Z",
                                    "clientType": "Background",
                                    "companyName": "CRONUS International Ltd.",
                                    "totalTimeInMS": 7419.8216
                                },
                                {
                                    "timestamp": "2021-11-07T20:57:01.501Z",
                                    "clientType": "Background",
                                    "companyName": "CRONUS International Ltd.",
                                    "totalTimeInMS": 2.2338
                                },
                                {
                                    "timestamp": "2021-11-07T20:56:27.433Z",
                                    "clientType": "Background",
                                    "companyName": "CRONUS International Ltd.",
                                    "totalTimeInMS": 2.5455
                                },
                                {
                                    "timestamp": "2021-11-07T20:56:19.999Z",
                                    "clientType": "WebClient",
                                    "companyName": "CRONUS International Ltd.",
                                    "totalTimeInMS": 1417.9688
                                },
                                {
                                    "timestamp": "2021-11-06T19:47:25.658Z",
                                    "clientType": "Background",
                                    "companyName": "CRONUS International Ltd.",
                                    "totalTimeInMS": 3.4127
                                },
                                {
                                    "timestamp": "2021-11-06T19:47:22.754Z",
                                    "clientType": "Background",
                                    "companyName": "CRONUS International Ltd.",
                                    "totalTimeInMS": 8004.4742
                                },
                                {
                                    "timestamp": "2021-11-06T19:47:22.754Z",
                                    "clientType": "Background",
                                    "companyName": "CRONUS International Ltd.",
                                    "totalTimeInMS": 4615.711
                                },
                                {
                                    "timestamp": "2021-11-05T19:47:16.331Z",
                                    "clientType": "Background",
                                    "companyName": "CRONUS International Ltd.",
                                    "totalTimeInMS": 2.2262
                                },
                                {
                                    "timestamp": "2021-11-05T19:47:11.347Z",
                                    "clientType": "Background",
                                    "companyName": "CRONUS International Ltd.",
                                    "totalTimeInMS": 2.403
                                },
                                {
                                    "timestamp": "2021-11-05T19:47:10.330Z",
                                    "clientType": "Background",
                                    "companyName": "CRONUS International Ltd.",
                                    "totalTimeInMS": 2.4149
                                },
                                {
                                    "timestamp": "2021-11-05T14:18:23.665Z",
                                    "clientType": "ChildSession",
                                    "companyName": "CRONUS International Ltd.",
                                    "totalTimeInMS": 1.8854
                                },
                                {
                                    "timestamp": "2021-11-05T14:18:15.574Z",
                                    "clientType": "WebClient",
                                    "companyName": "CRONUS International Ltd.",
                                    "totalTimeInMS": 5852.6887
                                },
                                {
                                    "timestamp": "2021-11-05T13:53:07.551Z",
                                    "clientType": "ChildSession",
                                    "companyName": "CRONUS International Ltd.",
                                    "totalTimeInMS": 0.9626
                                },
                                {
                                    "timestamp": "2021-11-05T13:53:06.854Z",
                                    "clientType": "WebClient",
                                    "companyName": "CRONUS International Ltd.",
                                    "totalTimeInMS": 15.5036
                                },
                                {
                                    "timestamp": "2021-11-05T13:24:12.246Z",
                                    "clientType": "ChildSession",
                                    "companyName": "CRONUS International Ltd.",
                                    "totalTimeInMS": 1.2263
                                },
                                {
                                    "timestamp": "2021-11-05T13:24:11.238Z",
                                    "clientType": "Background",
                                    "companyName": "CRONUS International Ltd.",
                                    "totalTimeInMS": 2.774
                                },
                                {
                                    "timestamp": "2021-11-05T13:24:01.747Z",
                                    "clientType": "WebClient",
                                    "companyName": "CRONUS International Ltd.",
                                    "totalTimeInMS": 7774.5011
                                },
                                {
                                    "timestamp": "2021-11-04T22:59:47.746Z",
                                    "clientType": "ChildSession",
                                    "companyName": "CRONUS International Ltd.",
                                    "totalTimeInMS": 2.2452
                                },
                                {
                                    "timestamp": "2021-11-04T22:59:41.121Z",
                                    "clientType": "WebClient",
                                    "companyName": "CRONUS International Ltd.",
                                    "totalTimeInMS": 2062.1776
                                },
                                {
                                    "timestamp": "2021-11-04T22:47:28.643Z",
                                    "clientType": "ChildSession",
                                    "companyName": "CRONUS International Ltd.",
                                    "totalTimeInMS": 2.2991
                                },
                                {
                                    "timestamp": "2021-11-04T22:47:20.052Z",
                                    "clientType": "WebClient",
                                    "companyName": "CRONUS International Ltd.",
                                    "totalTimeInMS": 6226.3184
                                },
                                {
                                    "timestamp": "2021-11-04T22:37:37.597Z",
                                    "clientType": "ChildSession",
                                    "companyName": "CRONUS International Ltd.",
                                    "totalTimeInMS": 2.4109
                                },
                                {
                                    "timestamp": "2021-11-04T22:37:29.240Z",
                                    "clientType": "WebClient",
                                    "companyName": "CRONUS International Ltd.",
                                    "totalTimeInMS": 6388.3745
                                },
                                {
                                    "timestamp": "2021-11-04T22:28:34.023Z",
                                    "clientType": "ChildSession",
                                    "companyName": "CRONUS International Ltd.",
                                    "totalTimeInMS": 1.1498
                                },
                                {
                                    "timestamp": "2021-11-04T22:28:27.266Z",
                                    "clientType": "WebClient",
                                    "companyName": "CRONUS International Ltd.",
                                    "totalTimeInMS": 2061.2965
                                },
                                {
                                    "timestamp": "2021-11-04T22:16:42.522Z",
                                    "clientType": "ChildSession",
                                    "companyName": "CRONUS International Ltd.",
                                    "totalTimeInMS": 3.9756
                                },
                                {
                                    "timestamp": "2021-11-04T22:16:42.409Z",
                                    "clientType": "Background",
                                    "companyName": "CRONUS International Ltd.",
                                    "totalTimeInMS": 4.0417
                                },
                                {
                                    "timestamp": "2021-11-04T22:16:32.931Z",
                                    "clientType": "WebClient",
                                    "companyName": "CRONUS International Ltd.",
                                    "totalTimeInMS": 6184.5094
                                },
                                {
                                    "timestamp": "2021-11-04T21:28:13.384Z",
                                    "clientType": "ChildSession",
                                    "companyName": "CRONUS International Ltd.",
                                    "totalTimeInMS": 1.5353
                                },
                                {
                                    "timestamp": "2021-11-04T21:28:05.064Z",
                                    "clientType": "WebClient",
                                    "companyName": "CRONUS International Ltd.",
                                    "totalTimeInMS": 6334.5836
                                },
                                {
                                    "timestamp": "2021-11-04T21:15:54.824Z",
                                    "clientType": "ChildSession",
                                    "companyName": "CRONUS International Ltd.",
                                    "totalTimeInMS": 1.6419
                                },
                                {
                                    "timestamp": "2021-11-04T21:15:53.908Z",
                                    "clientType": "WebClient",
                                    "companyName": "CRONUS International Ltd.",
                                    "totalTimeInMS": 18.1752
                                },
                                {
                                    "timestamp": "2021-11-04T20:50:45.240Z",
                                    "clientType": "ChildSession",
                                    "companyName": "CRONUS International Ltd.",
                                    "totalTimeInMS": 1.6359
                                },
                                {
                                    "timestamp": "2021-11-04T20:50:44.878Z",
                                    "clientType": "Background",
                                    "companyName": "CRONUS International Ltd.",
                                    "totalTimeInMS": 3.3164
                                },
                                {
                                    "timestamp": "2021-11-04T20:50:36.816Z",
                                    "clientType": "WebClient",
                                    "companyName": "CRONUS International Ltd.",
                                    "totalTimeInMS": 6208.6195
                                },
                                {
                                    "timestamp": "2021-11-04T20:38:55.944Z",
                                    "clientType": "ChildSession",
                                    "companyName": "CRONUS International Ltd.",
                                    "totalTimeInMS": 1.7878
                                },
                                {
                                    "timestamp": "2021-11-04T20:38:47.363Z",
                                    "clientType": "WebClient",
                                    "companyName": "CRONUS International Ltd.",
                                    "totalTimeInMS": 6226.6466
                                },
                                {
                                    "timestamp": "2021-11-04T20:22:36.833Z",
                                    "clientType": "ChildSession",
                                    "companyName": "CRONUS International Ltd.",
                                    "totalTimeInMS": 1.356
                                },
                                {
                                    "timestamp": "2021-11-04T20:22:29.759Z",
                                    "clientType": "WebClient",
                                    "companyName": "CRONUS International Ltd.",
                                    "totalTimeInMS": 2260.5106
                                },
                                {
                                    "timestamp": "2021-11-04T20:13:47.862Z",
                                    "clientType": "ChildSession",
                                    "companyName": "CRONUS International Ltd.",
                                    "totalTimeInMS": 2.0798
                                },
                                {
                                    "timestamp": "2021-11-04T20:13:41.410Z",
                                    "clientType": "WebClient",
                                    "companyName": "CRONUS International Ltd.",
                                    "totalTimeInMS": 1960.3236
                                },
                                {
                                    "timestamp": "2021-11-04T20:10:33.756Z",
                                    "clientType": "ChildSession",
                                    "companyName": "CRONUS International Ltd.",
                                    "totalTimeInMS": 1.9356
                                },
                                {
                                    "timestamp": "2021-11-04T20:10:26.349Z",
                                    "clientType": "WebClient",
                                    "companyName": "CRONUS International Ltd.",
                                    "totalTimeInMS": 2222.069
                                },
                                {
                                    "timestamp": "2021-11-04T20:02:44.231Z",
                                    "clientType": "ChildSession",
                                    "companyName": "CRONUS International Ltd.",
                                    "totalTimeInMS": 1.8139
                                },
                                {
                                    "timestamp": "2021-11-04T20:02:35.894Z",
                                    "clientType": "WebClient",
                                    "companyName": "CRONUS International Ltd.",
                                    "totalTimeInMS": 6198.9818
                                },
                                {
                                    "timestamp": "2021-11-04T19:49:48.339Z",
                                    "clientType": "ChildSession",
                                    "companyName": "CRONUS International Ltd.",
                                    "totalTimeInMS": 1.6727
                                },
                                {
                                    "timestamp": "2021-11-04T19:49:47.678Z",
                                    "clientType": "Background",
                                    "companyName": "CRONUS International Ltd.",
                                    "totalTimeInMS": 2.8682
                                },
                                {
                                    "timestamp": "2021-11-04T19:49:43.128Z",
                                    "clientType": "WebClient",
                                    "companyName": "CRONUS International Ltd.",
                                    "totalTimeInMS": 17.729
                                },
                                {
                                    "timestamp": "2021-11-04T19:48:56.900Z",
                                    "clientType": "WebClient",
                                    "companyName": "CRONUS International Ltd.",
                                    "totalTimeInMS": 1752.0612
                                },
                                {
                                    "timestamp": "2021-11-04T19:47:10.167Z",
                                    "clientType": "Background",
                                    "companyName": "CRONUS International Ltd.",
                                    "totalTimeInMS": 5.7779
                                },
                                {
                                    "timestamp": "2021-11-04T19:46:55.543Z",
                                    "clientType": "Background",
                                    "companyName": "CRONUS International Ltd.",
                                    "totalTimeInMS": 7439.8989
                                },
                                {
                                    "timestamp": "2021-11-04T19:46:55.543Z",
                                    "clientType": "Background",
                                    "companyName": "CRONUS International Ltd.",
                                    "totalTimeInMS": 7439.2164
                                },
                                {
                                    "timestamp": "2021-11-04T00:33:01.987Z",
                                    "clientType": "ChildSession",
                                    "companyName": "CRONUS International Ltd.",
                                    "totalTimeInMS": 1.3293
                                },
                                {
                                    "timestamp": "2021-11-04T00:33:01.869Z",
                                    "clientType": "ChildSession",
                                    "companyName": "CRONUS International Ltd.",
                                    "totalTimeInMS": 1.2958
                                },
                                {
                                    "timestamp": "2021-11-04T00:31:56.281Z",
                                    "clientType": "ChildSession",
                                    "companyName": "CRONUS International Ltd.",
                                    "totalTimeInMS": 1.4723
                                },
                                {
                                    "timestamp": "2021-11-04T00:31:55.751Z",
                                    "clientType": "ChildSession",
                                    "companyName": "CRONUS International Ltd.",
                                    "totalTimeInMS": 1.484
                                },
                                {
                                    "timestamp": "2021-11-04T00:28:47.760Z",
                                    "clientType": "ChildSession",
                                    "companyName": "CRONUS International Ltd.",
                                    "totalTimeInMS": 1.43
                                },
                                {
                                    "timestamp": "2021-11-04T00:28:31.735Z",
                                    "clientType": "ChildSession",
                                    "companyName": "CRONUS International Ltd.",
                                    "totalTimeInMS": 1.3319
                                },
                                {
                                    "timestamp": "2021-11-04T00:26:59.713Z",
                                    "clientType": "Background",
                                    "companyName": "CRONUS International Ltd.",
                                    "totalTimeInMS": 2.4542
                                },
                                {
                                    "timestamp": "2021-11-04T00:25:29.220Z",
                                    "clientType": "ChildSession",
                                    "companyName": "CRONUS International Ltd.",
                                    "totalTimeInMS": 1.456
                                },
                                {
                                    "timestamp": "2021-11-04T00:25:28.375Z",
                                    "clientType": "WebClient",
                                    "companyName": "CRONUS International Ltd.",
                                    "totalTimeInMS": 52.5328
                                },
                                {
                                    "timestamp": "2021-11-03T21:47:36.066Z",
                                    "clientType": "ChildSession",
                                    "companyName": "CRONUS International Ltd.",
                                    "totalTimeInMS": 1.5168
                                },
                                {
                                    "timestamp": "2021-11-03T21:41:55.925Z",
                                    "clientType": "ChildSession",
                                    "companyName": "CRONUS International Ltd.",
                                    "totalTimeInMS": 1.2051
                                },
                                {
                                    "timestamp": "2021-11-03T21:41:49.311Z",
                                    "clientType": "WebClient",
                                    "companyName": "CRONUS International Ltd.",
                                    "totalTimeInMS": 5938.1929
                                },
                                {
                                    "timestamp": "2021-11-03T21:28:19.710Z",
                                    "clientType": "ChildSession",
                                    "companyName": "CRONUS International Ltd.",
                                    "totalTimeInMS": 1.802
                                },
                                {
                                    "timestamp": "2021-11-03T21:28:11.609Z",
                                    "clientType": "WebClient",
                                    "companyName": "CRONUS International Ltd.",
                                    "totalTimeInMS": 6925.6148
                                },
                                {
                                    "timestamp": "2021-11-03T21:19:42.041Z",
                                    "clientType": "Background",
                                    "companyName": "CRONUS International Ltd.",
                                    "totalTimeInMS": 2.5002
                                },
                                {
                                    "timestamp": "2021-11-03T21:19:41.503Z",
                                    "clientType": "ChildSession",
                                    "companyName": "CRONUS International Ltd.",
                                    "totalTimeInMS": 1.8348
                                },
                                {
                                    "timestamp": "2021-11-03T21:19:33.181Z",
                                    "clientType": "WebClient",
                                    "companyName": "CRONUS International Ltd.",
                                    "totalTimeInMS": 1896.3355
                                },
                                {
                                    "timestamp": "2021-11-03T21:07:56.466Z",
                                    "clientType": "WebClient",
                                    "companyName": "CRONUS International Ltd.",
                                    "totalTimeInMS": 7108.7523
                                },
                                {
                                    "timestamp": "2021-11-03T18:48:38.293Z",
                                    "clientType": "ChildSession",
                                    "companyName": "CRONUS International Ltd.",
                                    "totalTimeInMS": 1.0436
                                },
                                {
                                    "timestamp": "2021-11-03T18:48:36.903Z",
                                    "clientType": "Background",
                                    "companyName": "CRONUS International Ltd.",
                                    "totalTimeInMS": 1.9697
                                },
                                {
                                    "timestamp": "2021-11-03T18:48:29.736Z",
                                    "clientType": "WebClient",
                                    "companyName": "CRONUS International Ltd.",
                                    "totalTimeInMS": 1952.3829
                                }
                            ]
                        }
                    },
                    "metadata": {},
                    "output_type": "display_data"
                },
                {
                    "data": {
                        "text/plain": "<IPython.core.display.HTML object>",
                        "text/html": "<html>\n        <head>\n            \n            \n        </head>\n        <body>\n            <div><p style=' padding: 10px; color: #3a87ad; background-color: #d9edf7; border-color: #bce9f1'>Done&nbsp;(00:01.370):&nbsp;81&nbsp;records</p></div>\n        </body>\n        </html>"
                    },
                    "metadata": {},
                    "output_type": "display_data"
                },
                {
                    "data": {
                        "text/plain": "[{'timestamp': datetime.datetime(2021, 12, 9, 1, 9, 28, 184000, tzinfo=tzutc()), 'clientType': 'ChildSession', 'companyName': 'CRONUS International Ltd.', 'totalTimeInMS': 1.1},\n {'timestamp': datetime.datetime(2021, 12, 9, 1, 9, 27, 152000, tzinfo=tzutc()), 'clientType': 'Background', 'companyName': 'CRONUS International Ltd.', 'totalTimeInMS': 12.1472},\n {'timestamp': datetime.datetime(2021, 12, 9, 1, 9, 19, 149000, tzinfo=tzutc()), 'clientType': 'WebClient', 'companyName': 'CRONUS International Ltd.', 'totalTimeInMS': 6667.4392},\n {'timestamp': datetime.datetime(2021, 11, 10, 12, 57, 52, 906000, tzinfo=tzutc()), 'clientType': 'Background', 'companyName': 'CRONUS International Ltd.', 'totalTimeInMS': 3.6174},\n {'timestamp': datetime.datetime(2021, 11, 10, 12, 57, 50, 94000, tzinfo=tzutc()), 'clientType': 'Background', 'companyName': 'CRONUS International Ltd.', 'totalTimeInMS': 10630.9501},\n {'timestamp': datetime.datetime(2021, 11, 10, 12, 57, 50, 94000, tzinfo=tzutc()), 'clientType': 'Background', 'companyName': 'CRONUS International Ltd.', 'totalTimeInMS': 10630.496},\n {'timestamp': datetime.datetime(2021, 11, 8, 20, 46, 53, 175000, tzinfo=tzutc()), 'clientType': 'Background', 'companyName': 'CRONUS International Ltd.', 'totalTimeInMS': 2.9601},\n {'timestamp': datetime.datetime(2021, 11, 8, 20, 46, 50, 644000, tzinfo=tzutc()), 'clientType': 'Background', 'companyName': 'CRONUS International Ltd.', 'totalTimeInMS': 7418.9702},\n {'timestamp': datetime.datetime(2021, 11, 8, 20, 46, 50, 644000, tzinfo=tzutc()), 'clientType': 'Background', 'companyName': 'CRONUS International Ltd.', 'totalTimeInMS': 7419.8216},\n {'timestamp': datetime.datetime(2021, 11, 7, 20, 57, 1, 501000, tzinfo=tzutc()), 'clientType': 'Background', 'companyName': 'CRONUS International Ltd.', 'totalTimeInMS': 2.2338},\n {'timestamp': datetime.datetime(2021, 11, 7, 20, 56, 27, 433000, tzinfo=tzutc()), 'clientType': 'Background', 'companyName': 'CRONUS International Ltd.', 'totalTimeInMS': 2.5455},\n {'timestamp': datetime.datetime(2021, 11, 7, 20, 56, 19, 999000, tzinfo=tzutc()), 'clientType': 'WebClient', 'companyName': 'CRONUS International Ltd.', 'totalTimeInMS': 1417.9688},\n {'timestamp': datetime.datetime(2021, 11, 6, 19, 47, 25, 658000, tzinfo=tzutc()), 'clientType': 'Background', 'companyName': 'CRONUS International Ltd.', 'totalTimeInMS': 3.4127},\n {'timestamp': datetime.datetime(2021, 11, 6, 19, 47, 22, 754000, tzinfo=tzutc()), 'clientType': 'Background', 'companyName': 'CRONUS International Ltd.', 'totalTimeInMS': 8004.4742},\n {'timestamp': datetime.datetime(2021, 11, 6, 19, 47, 22, 754000, tzinfo=tzutc()), 'clientType': 'Background', 'companyName': 'CRONUS International Ltd.', 'totalTimeInMS': 4615.711},\n {'timestamp': datetime.datetime(2021, 11, 5, 19, 47, 16, 331000, tzinfo=tzutc()), 'clientType': 'Background', 'companyName': 'CRONUS International Ltd.', 'totalTimeInMS': 2.2262},\n {'timestamp': datetime.datetime(2021, 11, 5, 19, 47, 11, 347000, tzinfo=tzutc()), 'clientType': 'Background', 'companyName': 'CRONUS International Ltd.', 'totalTimeInMS': 2.403},\n {'timestamp': datetime.datetime(2021, 11, 5, 19, 47, 10, 330000, tzinfo=tzutc()), 'clientType': 'Background', 'companyName': 'CRONUS International Ltd.', 'totalTimeInMS': 2.4149},\n {'timestamp': datetime.datetime(2021, 11, 5, 14, 18, 23, 665000, tzinfo=tzutc()), 'clientType': 'ChildSession', 'companyName': 'CRONUS International Ltd.', 'totalTimeInMS': 1.8854},\n {'timestamp': datetime.datetime(2021, 11, 5, 14, 18, 15, 574000, tzinfo=tzutc()), 'clientType': 'WebClient', 'companyName': 'CRONUS International Ltd.', 'totalTimeInMS': 5852.6887},\n {'timestamp': datetime.datetime(2021, 11, 5, 13, 53, 7, 551000, tzinfo=tzutc()), 'clientType': 'ChildSession', 'companyName': 'CRONUS International Ltd.', 'totalTimeInMS': 0.9626},\n {'timestamp': datetime.datetime(2021, 11, 5, 13, 53, 6, 854000, tzinfo=tzutc()), 'clientType': 'WebClient', 'companyName': 'CRONUS International Ltd.', 'totalTimeInMS': 15.5036},\n {'timestamp': datetime.datetime(2021, 11, 5, 13, 24, 12, 246000, tzinfo=tzutc()), 'clientType': 'ChildSession', 'companyName': 'CRONUS International Ltd.', 'totalTimeInMS': 1.2263},\n {'timestamp': datetime.datetime(2021, 11, 5, 13, 24, 11, 238000, tzinfo=tzutc()), 'clientType': 'Background', 'companyName': 'CRONUS International Ltd.', 'totalTimeInMS': 2.774},\n {'timestamp': datetime.datetime(2021, 11, 5, 13, 24, 1, 747000, tzinfo=tzutc()), 'clientType': 'WebClient', 'companyName': 'CRONUS International Ltd.', 'totalTimeInMS': 7774.5011},\n {'timestamp': datetime.datetime(2021, 11, 4, 22, 59, 47, 746000, tzinfo=tzutc()), 'clientType': 'ChildSession', 'companyName': 'CRONUS International Ltd.', 'totalTimeInMS': 2.2452},\n {'timestamp': datetime.datetime(2021, 11, 4, 22, 59, 41, 121000, tzinfo=tzutc()), 'clientType': 'WebClient', 'companyName': 'CRONUS International Ltd.', 'totalTimeInMS': 2062.1776},\n {'timestamp': datetime.datetime(2021, 11, 4, 22, 47, 28, 643000, tzinfo=tzutc()), 'clientType': 'ChildSession', 'companyName': 'CRONUS International Ltd.', 'totalTimeInMS': 2.2991},\n {'timestamp': datetime.datetime(2021, 11, 4, 22, 47, 20, 52000, tzinfo=tzutc()), 'clientType': 'WebClient', 'companyName': 'CRONUS International Ltd.', 'totalTimeInMS': 6226.3184},\n {'timestamp': datetime.datetime(2021, 11, 4, 22, 37, 37, 597000, tzinfo=tzutc()), 'clientType': 'ChildSession', 'companyName': 'CRONUS International Ltd.', 'totalTimeInMS': 2.4109},\n {'timestamp': datetime.datetime(2021, 11, 4, 22, 37, 29, 240000, tzinfo=tzutc()), 'clientType': 'WebClient', 'companyName': 'CRONUS International Ltd.', 'totalTimeInMS': 6388.3745},\n {'timestamp': datetime.datetime(2021, 11, 4, 22, 28, 34, 23000, tzinfo=tzutc()), 'clientType': 'ChildSession', 'companyName': 'CRONUS International Ltd.', 'totalTimeInMS': 1.1498},\n {'timestamp': datetime.datetime(2021, 11, 4, 22, 28, 27, 266000, tzinfo=tzutc()), 'clientType': 'WebClient', 'companyName': 'CRONUS International Ltd.', 'totalTimeInMS': 2061.2965},\n {'timestamp': datetime.datetime(2021, 11, 4, 22, 16, 42, 522000, tzinfo=tzutc()), 'clientType': 'ChildSession', 'companyName': 'CRONUS International Ltd.', 'totalTimeInMS': 3.9756},\n {'timestamp': datetime.datetime(2021, 11, 4, 22, 16, 42, 409000, tzinfo=tzutc()), 'clientType': 'Background', 'companyName': 'CRONUS International Ltd.', 'totalTimeInMS': 4.0417},\n {'timestamp': datetime.datetime(2021, 11, 4, 22, 16, 32, 931000, tzinfo=tzutc()), 'clientType': 'WebClient', 'companyName': 'CRONUS International Ltd.', 'totalTimeInMS': 6184.5094},\n {'timestamp': datetime.datetime(2021, 11, 4, 21, 28, 13, 384000, tzinfo=tzutc()), 'clientType': 'ChildSession', 'companyName': 'CRONUS International Ltd.', 'totalTimeInMS': 1.5353},\n {'timestamp': datetime.datetime(2021, 11, 4, 21, 28, 5, 64000, tzinfo=tzutc()), 'clientType': 'WebClient', 'companyName': 'CRONUS International Ltd.', 'totalTimeInMS': 6334.5836},\n {'timestamp': datetime.datetime(2021, 11, 4, 21, 15, 54, 824000, tzinfo=tzutc()), 'clientType': 'ChildSession', 'companyName': 'CRONUS International Ltd.', 'totalTimeInMS': 1.6419},\n {'timestamp': datetime.datetime(2021, 11, 4, 21, 15, 53, 908000, tzinfo=tzutc()), 'clientType': 'WebClient', 'companyName': 'CRONUS International Ltd.', 'totalTimeInMS': 18.1752},\n {'timestamp': datetime.datetime(2021, 11, 4, 20, 50, 45, 240000, tzinfo=tzutc()), 'clientType': 'ChildSession', 'companyName': 'CRONUS International Ltd.', 'totalTimeInMS': 1.6359},\n {'timestamp': datetime.datetime(2021, 11, 4, 20, 50, 44, 878000, tzinfo=tzutc()), 'clientType': 'Background', 'companyName': 'CRONUS International Ltd.', 'totalTimeInMS': 3.3164},\n {'timestamp': datetime.datetime(2021, 11, 4, 20, 50, 36, 816000, tzinfo=tzutc()), 'clientType': 'WebClient', 'companyName': 'CRONUS International Ltd.', 'totalTimeInMS': 6208.6195},\n {'timestamp': datetime.datetime(2021, 11, 4, 20, 38, 55, 944000, tzinfo=tzutc()), 'clientType': 'ChildSession', 'companyName': 'CRONUS International Ltd.', 'totalTimeInMS': 1.7878},\n {'timestamp': datetime.datetime(2021, 11, 4, 20, 38, 47, 363000, tzinfo=tzutc()), 'clientType': 'WebClient', 'companyName': 'CRONUS International Ltd.', 'totalTimeInMS': 6226.6466},\n {'timestamp': datetime.datetime(2021, 11, 4, 20, 22, 36, 833000, tzinfo=tzutc()), 'clientType': 'ChildSession', 'companyName': 'CRONUS International Ltd.', 'totalTimeInMS': 1.356},\n {'timestamp': datetime.datetime(2021, 11, 4, 20, 22, 29, 759000, tzinfo=tzutc()), 'clientType': 'WebClient', 'companyName': 'CRONUS International Ltd.', 'totalTimeInMS': 2260.5106},\n {'timestamp': datetime.datetime(2021, 11, 4, 20, 13, 47, 862000, tzinfo=tzutc()), 'clientType': 'ChildSession', 'companyName': 'CRONUS International Ltd.', 'totalTimeInMS': 2.0798},\n {'timestamp': datetime.datetime(2021, 11, 4, 20, 13, 41, 410000, tzinfo=tzutc()), 'clientType': 'WebClient', 'companyName': 'CRONUS International Ltd.', 'totalTimeInMS': 1960.3236},\n {'timestamp': datetime.datetime(2021, 11, 4, 20, 10, 33, 756000, tzinfo=tzutc()), 'clientType': 'ChildSession', 'companyName': 'CRONUS International Ltd.', 'totalTimeInMS': 1.9356},\n {'timestamp': datetime.datetime(2021, 11, 4, 20, 10, 26, 349000, tzinfo=tzutc()), 'clientType': 'WebClient', 'companyName': 'CRONUS International Ltd.', 'totalTimeInMS': 2222.069},\n {'timestamp': datetime.datetime(2021, 11, 4, 20, 2, 44, 231000, tzinfo=tzutc()), 'clientType': 'ChildSession', 'companyName': 'CRONUS International Ltd.', 'totalTimeInMS': 1.8139},\n {'timestamp': datetime.datetime(2021, 11, 4, 20, 2, 35, 894000, tzinfo=tzutc()), 'clientType': 'WebClient', 'companyName': 'CRONUS International Ltd.', 'totalTimeInMS': 6198.9818},\n {'timestamp': datetime.datetime(2021, 11, 4, 19, 49, 48, 339000, tzinfo=tzutc()), 'clientType': 'ChildSession', 'companyName': 'CRONUS International Ltd.', 'totalTimeInMS': 1.6727},\n {'timestamp': datetime.datetime(2021, 11, 4, 19, 49, 47, 678000, tzinfo=tzutc()), 'clientType': 'Background', 'companyName': 'CRONUS International Ltd.', 'totalTimeInMS': 2.8682},\n {'timestamp': datetime.datetime(2021, 11, 4, 19, 49, 43, 128000, tzinfo=tzutc()), 'clientType': 'WebClient', 'companyName': 'CRONUS International Ltd.', 'totalTimeInMS': 17.729},\n {'timestamp': datetime.datetime(2021, 11, 4, 19, 48, 56, 900000, tzinfo=tzutc()), 'clientType': 'WebClient', 'companyName': 'CRONUS International Ltd.', 'totalTimeInMS': 1752.0612},\n {'timestamp': datetime.datetime(2021, 11, 4, 19, 47, 10, 167000, tzinfo=tzutc()), 'clientType': 'Background', 'companyName': 'CRONUS International Ltd.', 'totalTimeInMS': 5.7779},\n {'timestamp': datetime.datetime(2021, 11, 4, 19, 46, 55, 543000, tzinfo=tzutc()), 'clientType': 'Background', 'companyName': 'CRONUS International Ltd.', 'totalTimeInMS': 7439.8989},\n {'timestamp': datetime.datetime(2021, 11, 4, 19, 46, 55, 543000, tzinfo=tzutc()), 'clientType': 'Background', 'companyName': 'CRONUS International Ltd.', 'totalTimeInMS': 7439.2164},\n {'timestamp': datetime.datetime(2021, 11, 4, 0, 33, 1, 987000, tzinfo=tzutc()), 'clientType': 'ChildSession', 'companyName': 'CRONUS International Ltd.', 'totalTimeInMS': 1.3293},\n {'timestamp': datetime.datetime(2021, 11, 4, 0, 33, 1, 869000, tzinfo=tzutc()), 'clientType': 'ChildSession', 'companyName': 'CRONUS International Ltd.', 'totalTimeInMS': 1.2958},\n {'timestamp': datetime.datetime(2021, 11, 4, 0, 31, 56, 281000, tzinfo=tzutc()), 'clientType': 'ChildSession', 'companyName': 'CRONUS International Ltd.', 'totalTimeInMS': 1.4723},\n {'timestamp': datetime.datetime(2021, 11, 4, 0, 31, 55, 751000, tzinfo=tzutc()), 'clientType': 'ChildSession', 'companyName': 'CRONUS International Ltd.', 'totalTimeInMS': 1.484},\n {'timestamp': datetime.datetime(2021, 11, 4, 0, 28, 47, 760000, tzinfo=tzutc()), 'clientType': 'ChildSession', 'companyName': 'CRONUS International Ltd.', 'totalTimeInMS': 1.43},\n {'timestamp': datetime.datetime(2021, 11, 4, 0, 28, 31, 735000, tzinfo=tzutc()), 'clientType': 'ChildSession', 'companyName': 'CRONUS International Ltd.', 'totalTimeInMS': 1.3319},\n {'timestamp': datetime.datetime(2021, 11, 4, 0, 26, 59, 713000, tzinfo=tzutc()), 'clientType': 'Background', 'companyName': 'CRONUS International Ltd.', 'totalTimeInMS': 2.4542},\n {'timestamp': datetime.datetime(2021, 11, 4, 0, 25, 29, 220000, tzinfo=tzutc()), 'clientType': 'ChildSession', 'companyName': 'CRONUS International Ltd.', 'totalTimeInMS': 1.456},\n {'timestamp': datetime.datetime(2021, 11, 4, 0, 25, 28, 375000, tzinfo=tzutc()), 'clientType': 'WebClient', 'companyName': 'CRONUS International Ltd.', 'totalTimeInMS': 52.5328},\n {'timestamp': datetime.datetime(2021, 11, 3, 21, 47, 36, 66000, tzinfo=tzutc()), 'clientType': 'ChildSession', 'companyName': 'CRONUS International Ltd.', 'totalTimeInMS': 1.5168},\n {'timestamp': datetime.datetime(2021, 11, 3, 21, 41, 55, 925000, tzinfo=tzutc()), 'clientType': 'ChildSession', 'companyName': 'CRONUS International Ltd.', 'totalTimeInMS': 1.2051},\n {'timestamp': datetime.datetime(2021, 11, 3, 21, 41, 49, 311000, tzinfo=tzutc()), 'clientType': 'WebClient', 'companyName': 'CRONUS International Ltd.', 'totalTimeInMS': 5938.1929},\n {'timestamp': datetime.datetime(2021, 11, 3, 21, 28, 19, 710000, tzinfo=tzutc()), 'clientType': 'ChildSession', 'companyName': 'CRONUS International Ltd.', 'totalTimeInMS': 1.802},\n {'timestamp': datetime.datetime(2021, 11, 3, 21, 28, 11, 609000, tzinfo=tzutc()), 'clientType': 'WebClient', 'companyName': 'CRONUS International Ltd.', 'totalTimeInMS': 6925.6148},\n {'timestamp': datetime.datetime(2021, 11, 3, 21, 19, 42, 41000, tzinfo=tzutc()), 'clientType': 'Background', 'companyName': 'CRONUS International Ltd.', 'totalTimeInMS': 2.5002},\n {'timestamp': datetime.datetime(2021, 11, 3, 21, 19, 41, 503000, tzinfo=tzutc()), 'clientType': 'ChildSession', 'companyName': 'CRONUS International Ltd.', 'totalTimeInMS': 1.8348},\n {'timestamp': datetime.datetime(2021, 11, 3, 21, 19, 33, 181000, tzinfo=tzutc()), 'clientType': 'WebClient', 'companyName': 'CRONUS International Ltd.', 'totalTimeInMS': 1896.3355},\n {'timestamp': datetime.datetime(2021, 11, 3, 21, 7, 56, 466000, tzinfo=tzutc()), 'clientType': 'WebClient', 'companyName': 'CRONUS International Ltd.', 'totalTimeInMS': 7108.7523},\n {'timestamp': datetime.datetime(2021, 11, 3, 18, 48, 38, 293000, tzinfo=tzutc()), 'clientType': 'ChildSession', 'companyName': 'CRONUS International Ltd.', 'totalTimeInMS': 1.0436},\n {'timestamp': datetime.datetime(2021, 11, 3, 18, 48, 36, 903000, tzinfo=tzutc()), 'clientType': 'Background', 'companyName': 'CRONUS International Ltd.', 'totalTimeInMS': 1.9697},\n {'timestamp': datetime.datetime(2021, 11, 3, 18, 48, 29, 736000, tzinfo=tzutc()), 'clientType': 'WebClient', 'companyName': 'CRONUS International Ltd.', 'totalTimeInMS': 1952.3829}]",
                        "text/html": ""
                    },
                    "metadata": {},
                    "execution_count": 20,
                    "output_type": "execute_result"
                }
            ],
            "execution_count": 20
        },
        {
            "cell_type": "code",
            "source": [
                "%%kql\r\n",
                "let _aadTenantId = aadTenantId;\r\n",
                "let _environmentName = environmentName;\r\n",
                "let _startDate = startDate;\r\n",
                "let _endDate = endDate;\r\n",
                "traces\r\n",
                "| where 1==1 \r\n",
                "    and timestamp >= todatetime(_startDate)\r\n",
                "    and timestamp <= todatetime(_endDate) + totimespan(24h) - totimespan(1ms)   \r\n",
                "    and (_aadTenantId == '' or customDimensions.aadTenantId == _aadTenantId)\r\n",
                "    and (_environmentName == '' or customDimensions.environmentName == _environmentName )\r\n",
                "    and customDimensions.eventId == 'RT0004'\r\n",
                "| extend clientType = tostring( customDimensions.clientType )\r\n",
                "| summarize count=count() by clientType, bin(timestamp, 1h)\r\n",
                "| render timechart title= 'Number of successful logins the last day (shown by client/session type)'"
            ],
            "metadata": {
                "azdata_cell_guid": "21e5d398-4a06-4ab9-a0e3-6e6263725dec",
                "extensions": {
                    "azuredatastudio": {
                        "views": []
                    }
                }
            },
            "outputs": [
                {
                    "data": {
                        "text/plain": "<IPython.core.display.HTML object>",
                        "text/html": "<html>\n        <head>\n            \n            \n        </head>\n        <body>\n            <div><p style=' padding: 10px; color: #3a87ad; background-color: #d9edf7; border-color: #bce9f1'>&nbsp;*&nbsp;43d7cb5e-452b-4c08-93ca-a35109847936@applicationinsights</p></div>\n        </body>\n        </html>"
                    },
                    "metadata": {},
                    "output_type": "display_data"
                },
                {
                    "data": {
                        "application/vnd.plotly.v1+json": {
                            "config": {
                                "plotlyServerURL": "https://plot.ly"
                            },
                            "data": [
                                {
                                    "line": {
                                        "color": "rgb(31, 118, 179)",
                                        "width": 1
                                    },
                                    "name": "WebClient:count",
                                    "opacity": 0.8,
                                    "type": "scatter",
                                    "x": [
                                        "2021-11-03T18:00:00+00:00",
                                        "2021-11-03T21:00:00+00:00",
                                        "2021-11-04T00:00:00+00:00",
                                        "2021-11-04T19:00:00+00:00",
                                        "2021-11-04T20:00:00+00:00",
                                        "2021-11-04T21:00:00+00:00",
                                        "2021-11-04T22:00:00+00:00",
                                        "2021-11-05T13:00:00+00:00",
                                        "2021-11-05T14:00:00+00:00",
                                        "2021-11-05T19:00:00+00:00",
                                        "2021-11-06T19:00:00+00:00",
                                        "2021-11-07T20:00:00+00:00",
                                        "2021-11-08T20:00:00+00:00",
                                        "2021-11-10T12:00:00+00:00",
                                        "2021-12-09T01:00:00+00:00"
                                    ],
                                    "y": [
                                        1,
                                        4,
                                        1,
                                        2,
                                        6,
                                        2,
                                        5,
                                        2,
                                        1,
                                        null,
                                        null,
                                        1,
                                        null,
                                        null,
                                        1
                                    ]
                                },
                                {
                                    "line": {
                                        "color": "rgb(254, 127, 14)",
                                        "width": 1
                                    },
                                    "name": "Background:count",
                                    "opacity": 0.8,
                                    "type": "scatter",
                                    "x": [
                                        "2021-11-03T18:00:00+00:00",
                                        "2021-11-03T21:00:00+00:00",
                                        "2021-11-04T00:00:00+00:00",
                                        "2021-11-04T19:00:00+00:00",
                                        "2021-11-04T20:00:00+00:00",
                                        "2021-11-04T21:00:00+00:00",
                                        "2021-11-04T22:00:00+00:00",
                                        "2021-11-05T13:00:00+00:00",
                                        "2021-11-05T14:00:00+00:00",
                                        "2021-11-05T19:00:00+00:00",
                                        "2021-11-06T19:00:00+00:00",
                                        "2021-11-07T20:00:00+00:00",
                                        "2021-11-08T20:00:00+00:00",
                                        "2021-11-10T12:00:00+00:00",
                                        "2021-12-09T01:00:00+00:00"
                                    ],
                                    "y": [
                                        1,
                                        1,
                                        1,
                                        4,
                                        1,
                                        null,
                                        1,
                                        1,
                                        null,
                                        3,
                                        3,
                                        2,
                                        3,
                                        3,
                                        1
                                    ]
                                },
                                {
                                    "line": {
                                        "color": "rgb(44, 160, 44)",
                                        "width": 1
                                    },
                                    "name": "ChildSession:count",
                                    "opacity": 0.8,
                                    "type": "scatter",
                                    "x": [
                                        "2021-11-03T18:00:00+00:00",
                                        "2021-11-03T21:00:00+00:00",
                                        "2021-11-04T00:00:00+00:00",
                                        "2021-11-04T19:00:00+00:00",
                                        "2021-11-04T20:00:00+00:00",
                                        "2021-11-04T21:00:00+00:00",
                                        "2021-11-04T22:00:00+00:00",
                                        "2021-11-05T13:00:00+00:00",
                                        "2021-11-05T14:00:00+00:00",
                                        "2021-11-05T19:00:00+00:00",
                                        "2021-11-06T19:00:00+00:00",
                                        "2021-11-07T20:00:00+00:00",
                                        "2021-11-08T20:00:00+00:00",
                                        "2021-11-10T12:00:00+00:00",
                                        "2021-12-09T01:00:00+00:00"
                                    ],
                                    "y": [
                                        1,
                                        4,
                                        7,
                                        1,
                                        6,
                                        2,
                                        5,
                                        2,
                                        1,
                                        null,
                                        null,
                                        null,
                                        null,
                                        null,
                                        1
                                    ]
                                }
                            ],
                            "layout": {
                                "showlegend": true,
                                "template": {
                                    "data": {
                                        "bar": [
                                            {
                                                "error_x": {
                                                    "color": "#2a3f5f"
                                                },
                                                "error_y": {
                                                    "color": "#2a3f5f"
                                                },
                                                "marker": {
                                                    "line": {
                                                        "color": "#E5ECF6",
                                                        "width": 0.5
                                                    },
                                                    "pattern": {
                                                        "fillmode": "overlay",
                                                        "size": 10,
                                                        "solidity": 0.2
                                                    }
                                                },
                                                "type": "bar"
                                            }
                                        ],
                                        "barpolar": [
                                            {
                                                "marker": {
                                                    "line": {
                                                        "color": "#E5ECF6",
                                                        "width": 0.5
                                                    },
                                                    "pattern": {
                                                        "fillmode": "overlay",
                                                        "size": 10,
                                                        "solidity": 0.2
                                                    }
                                                },
                                                "type": "barpolar"
                                            }
                                        ],
                                        "carpet": [
                                            {
                                                "aaxis": {
                                                    "endlinecolor": "#2a3f5f",
                                                    "gridcolor": "white",
                                                    "linecolor": "white",
                                                    "minorgridcolor": "white",
                                                    "startlinecolor": "#2a3f5f"
                                                },
                                                "baxis": {
                                                    "endlinecolor": "#2a3f5f",
                                                    "gridcolor": "white",
                                                    "linecolor": "white",
                                                    "minorgridcolor": "white",
                                                    "startlinecolor": "#2a3f5f"
                                                },
                                                "type": "carpet"
                                            }
                                        ],
                                        "choropleth": [
                                            {
                                                "colorbar": {
                                                    "outlinewidth": 0,
                                                    "ticks": ""
                                                },
                                                "type": "choropleth"
                                            }
                                        ],
                                        "contour": [
                                            {
                                                "colorbar": {
                                                    "outlinewidth": 0,
                                                    "ticks": ""
                                                },
                                                "colorscale": [
                                                    [
                                                        0,
                                                        "#0d0887"
                                                    ],
                                                    [
                                                        0.1111111111111111,
                                                        "#46039f"
                                                    ],
                                                    [
                                                        0.2222222222222222,
                                                        "#7201a8"
                                                    ],
                                                    [
                                                        0.3333333333333333,
                                                        "#9c179e"
                                                    ],
                                                    [
                                                        0.4444444444444444,
                                                        "#bd3786"
                                                    ],
                                                    [
                                                        0.5555555555555556,
                                                        "#d8576b"
                                                    ],
                                                    [
                                                        0.6666666666666666,
                                                        "#ed7953"
                                                    ],
                                                    [
                                                        0.7777777777777778,
                                                        "#fb9f3a"
                                                    ],
                                                    [
                                                        0.8888888888888888,
                                                        "#fdca26"
                                                    ],
                                                    [
                                                        1,
                                                        "#f0f921"
                                                    ]
                                                ],
                                                "type": "contour"
                                            }
                                        ],
                                        "contourcarpet": [
                                            {
                                                "colorbar": {
                                                    "outlinewidth": 0,
                                                    "ticks": ""
                                                },
                                                "type": "contourcarpet"
                                            }
                                        ],
                                        "heatmap": [
                                            {
                                                "colorbar": {
                                                    "outlinewidth": 0,
                                                    "ticks": ""
                                                },
                                                "colorscale": [
                                                    [
                                                        0,
                                                        "#0d0887"
                                                    ],
                                                    [
                                                        0.1111111111111111,
                                                        "#46039f"
                                                    ],
                                                    [
                                                        0.2222222222222222,
                                                        "#7201a8"
                                                    ],
                                                    [
                                                        0.3333333333333333,
                                                        "#9c179e"
                                                    ],
                                                    [
                                                        0.4444444444444444,
                                                        "#bd3786"
                                                    ],
                                                    [
                                                        0.5555555555555556,
                                                        "#d8576b"
                                                    ],
                                                    [
                                                        0.6666666666666666,
                                                        "#ed7953"
                                                    ],
                                                    [
                                                        0.7777777777777778,
                                                        "#fb9f3a"
                                                    ],
                                                    [
                                                        0.8888888888888888,
                                                        "#fdca26"
                                                    ],
                                                    [
                                                        1,
                                                        "#f0f921"
                                                    ]
                                                ],
                                                "type": "heatmap"
                                            }
                                        ],
                                        "heatmapgl": [
                                            {
                                                "colorbar": {
                                                    "outlinewidth": 0,
                                                    "ticks": ""
                                                },
                                                "colorscale": [
                                                    [
                                                        0,
                                                        "#0d0887"
                                                    ],
                                                    [
                                                        0.1111111111111111,
                                                        "#46039f"
                                                    ],
                                                    [
                                                        0.2222222222222222,
                                                        "#7201a8"
                                                    ],
                                                    [
                                                        0.3333333333333333,
                                                        "#9c179e"
                                                    ],
                                                    [
                                                        0.4444444444444444,
                                                        "#bd3786"
                                                    ],
                                                    [
                                                        0.5555555555555556,
                                                        "#d8576b"
                                                    ],
                                                    [
                                                        0.6666666666666666,
                                                        "#ed7953"
                                                    ],
                                                    [
                                                        0.7777777777777778,
                                                        "#fb9f3a"
                                                    ],
                                                    [
                                                        0.8888888888888888,
                                                        "#fdca26"
                                                    ],
                                                    [
                                                        1,
                                                        "#f0f921"
                                                    ]
                                                ],
                                                "type": "heatmapgl"
                                            }
                                        ],
                                        "histogram": [
                                            {
                                                "marker": {
                                                    "pattern": {
                                                        "fillmode": "overlay",
                                                        "size": 10,
                                                        "solidity": 0.2
                                                    }
                                                },
                                                "type": "histogram"
                                            }
                                        ],
                                        "histogram2d": [
                                            {
                                                "colorbar": {
                                                    "outlinewidth": 0,
                                                    "ticks": ""
                                                },
                                                "colorscale": [
                                                    [
                                                        0,
                                                        "#0d0887"
                                                    ],
                                                    [
                                                        0.1111111111111111,
                                                        "#46039f"
                                                    ],
                                                    [
                                                        0.2222222222222222,
                                                        "#7201a8"
                                                    ],
                                                    [
                                                        0.3333333333333333,
                                                        "#9c179e"
                                                    ],
                                                    [
                                                        0.4444444444444444,
                                                        "#bd3786"
                                                    ],
                                                    [
                                                        0.5555555555555556,
                                                        "#d8576b"
                                                    ],
                                                    [
                                                        0.6666666666666666,
                                                        "#ed7953"
                                                    ],
                                                    [
                                                        0.7777777777777778,
                                                        "#fb9f3a"
                                                    ],
                                                    [
                                                        0.8888888888888888,
                                                        "#fdca26"
                                                    ],
                                                    [
                                                        1,
                                                        "#f0f921"
                                                    ]
                                                ],
                                                "type": "histogram2d"
                                            }
                                        ],
                                        "histogram2dcontour": [
                                            {
                                                "colorbar": {
                                                    "outlinewidth": 0,
                                                    "ticks": ""
                                                },
                                                "colorscale": [
                                                    [
                                                        0,
                                                        "#0d0887"
                                                    ],
                                                    [
                                                        0.1111111111111111,
                                                        "#46039f"
                                                    ],
                                                    [
                                                        0.2222222222222222,
                                                        "#7201a8"
                                                    ],
                                                    [
                                                        0.3333333333333333,
                                                        "#9c179e"
                                                    ],
                                                    [
                                                        0.4444444444444444,
                                                        "#bd3786"
                                                    ],
                                                    [
                                                        0.5555555555555556,
                                                        "#d8576b"
                                                    ],
                                                    [
                                                        0.6666666666666666,
                                                        "#ed7953"
                                                    ],
                                                    [
                                                        0.7777777777777778,
                                                        "#fb9f3a"
                                                    ],
                                                    [
                                                        0.8888888888888888,
                                                        "#fdca26"
                                                    ],
                                                    [
                                                        1,
                                                        "#f0f921"
                                                    ]
                                                ],
                                                "type": "histogram2dcontour"
                                            }
                                        ],
                                        "mesh3d": [
                                            {
                                                "colorbar": {
                                                    "outlinewidth": 0,
                                                    "ticks": ""
                                                },
                                                "type": "mesh3d"
                                            }
                                        ],
                                        "parcoords": [
                                            {
                                                "line": {
                                                    "colorbar": {
                                                        "outlinewidth": 0,
                                                        "ticks": ""
                                                    }
                                                },
                                                "type": "parcoords"
                                            }
                                        ],
                                        "pie": [
                                            {
                                                "automargin": true,
                                                "type": "pie"
                                            }
                                        ],
                                        "scatter": [
                                            {
                                                "marker": {
                                                    "colorbar": {
                                                        "outlinewidth": 0,
                                                        "ticks": ""
                                                    }
                                                },
                                                "type": "scatter"
                                            }
                                        ],
                                        "scatter3d": [
                                            {
                                                "line": {
                                                    "colorbar": {
                                                        "outlinewidth": 0,
                                                        "ticks": ""
                                                    }
                                                },
                                                "marker": {
                                                    "colorbar": {
                                                        "outlinewidth": 0,
                                                        "ticks": ""
                                                    }
                                                },
                                                "type": "scatter3d"
                                            }
                                        ],
                                        "scattercarpet": [
                                            {
                                                "marker": {
                                                    "colorbar": {
                                                        "outlinewidth": 0,
                                                        "ticks": ""
                                                    }
                                                },
                                                "type": "scattercarpet"
                                            }
                                        ],
                                        "scattergeo": [
                                            {
                                                "marker": {
                                                    "colorbar": {
                                                        "outlinewidth": 0,
                                                        "ticks": ""
                                                    }
                                                },
                                                "type": "scattergeo"
                                            }
                                        ],
                                        "scattergl": [
                                            {
                                                "marker": {
                                                    "colorbar": {
                                                        "outlinewidth": 0,
                                                        "ticks": ""
                                                    }
                                                },
                                                "type": "scattergl"
                                            }
                                        ],
                                        "scattermapbox": [
                                            {
                                                "marker": {
                                                    "colorbar": {
                                                        "outlinewidth": 0,
                                                        "ticks": ""
                                                    }
                                                },
                                                "type": "scattermapbox"
                                            }
                                        ],
                                        "scatterpolar": [
                                            {
                                                "marker": {
                                                    "colorbar": {
                                                        "outlinewidth": 0,
                                                        "ticks": ""
                                                    }
                                                },
                                                "type": "scatterpolar"
                                            }
                                        ],
                                        "scatterpolargl": [
                                            {
                                                "marker": {
                                                    "colorbar": {
                                                        "outlinewidth": 0,
                                                        "ticks": ""
                                                    }
                                                },
                                                "type": "scatterpolargl"
                                            }
                                        ],
                                        "scatterternary": [
                                            {
                                                "marker": {
                                                    "colorbar": {
                                                        "outlinewidth": 0,
                                                        "ticks": ""
                                                    }
                                                },
                                                "type": "scatterternary"
                                            }
                                        ],
                                        "surface": [
                                            {
                                                "colorbar": {
                                                    "outlinewidth": 0,
                                                    "ticks": ""
                                                },
                                                "colorscale": [
                                                    [
                                                        0,
                                                        "#0d0887"
                                                    ],
                                                    [
                                                        0.1111111111111111,
                                                        "#46039f"
                                                    ],
                                                    [
                                                        0.2222222222222222,
                                                        "#7201a8"
                                                    ],
                                                    [
                                                        0.3333333333333333,
                                                        "#9c179e"
                                                    ],
                                                    [
                                                        0.4444444444444444,
                                                        "#bd3786"
                                                    ],
                                                    [
                                                        0.5555555555555556,
                                                        "#d8576b"
                                                    ],
                                                    [
                                                        0.6666666666666666,
                                                        "#ed7953"
                                                    ],
                                                    [
                                                        0.7777777777777778,
                                                        "#fb9f3a"
                                                    ],
                                                    [
                                                        0.8888888888888888,
                                                        "#fdca26"
                                                    ],
                                                    [
                                                        1,
                                                        "#f0f921"
                                                    ]
                                                ],
                                                "type": "surface"
                                            }
                                        ],
                                        "table": [
                                            {
                                                "cells": {
                                                    "fill": {
                                                        "color": "#EBF0F8"
                                                    },
                                                    "line": {
                                                        "color": "white"
                                                    }
                                                },
                                                "header": {
                                                    "fill": {
                                                        "color": "#C8D4E3"
                                                    },
                                                    "line": {
                                                        "color": "white"
                                                    }
                                                },
                                                "type": "table"
                                            }
                                        ]
                                    },
                                    "layout": {
                                        "annotationdefaults": {
                                            "arrowcolor": "#2a3f5f",
                                            "arrowhead": 0,
                                            "arrowwidth": 1
                                        },
                                        "autotypenumbers": "strict",
                                        "coloraxis": {
                                            "colorbar": {
                                                "outlinewidth": 0,
                                                "ticks": ""
                                            }
                                        },
                                        "colorscale": {
                                            "diverging": [
                                                [
                                                    0,
                                                    "#8e0152"
                                                ],
                                                [
                                                    0.1,
                                                    "#c51b7d"
                                                ],
                                                [
                                                    0.2,
                                                    "#de77ae"
                                                ],
                                                [
                                                    0.3,
                                                    "#f1b6da"
                                                ],
                                                [
                                                    0.4,
                                                    "#fde0ef"
                                                ],
                                                [
                                                    0.5,
                                                    "#f7f7f7"
                                                ],
                                                [
                                                    0.6,
                                                    "#e6f5d0"
                                                ],
                                                [
                                                    0.7,
                                                    "#b8e186"
                                                ],
                                                [
                                                    0.8,
                                                    "#7fbc41"
                                                ],
                                                [
                                                    0.9,
                                                    "#4d9221"
                                                ],
                                                [
                                                    1,
                                                    "#276419"
                                                ]
                                            ],
                                            "sequential": [
                                                [
                                                    0,
                                                    "#0d0887"
                                                ],
                                                [
                                                    0.1111111111111111,
                                                    "#46039f"
                                                ],
                                                [
                                                    0.2222222222222222,
                                                    "#7201a8"
                                                ],
                                                [
                                                    0.3333333333333333,
                                                    "#9c179e"
                                                ],
                                                [
                                                    0.4444444444444444,
                                                    "#bd3786"
                                                ],
                                                [
                                                    0.5555555555555556,
                                                    "#d8576b"
                                                ],
                                                [
                                                    0.6666666666666666,
                                                    "#ed7953"
                                                ],
                                                [
                                                    0.7777777777777778,
                                                    "#fb9f3a"
                                                ],
                                                [
                                                    0.8888888888888888,
                                                    "#fdca26"
                                                ],
                                                [
                                                    1,
                                                    "#f0f921"
                                                ]
                                            ],
                                            "sequentialminus": [
                                                [
                                                    0,
                                                    "#0d0887"
                                                ],
                                                [
                                                    0.1111111111111111,
                                                    "#46039f"
                                                ],
                                                [
                                                    0.2222222222222222,
                                                    "#7201a8"
                                                ],
                                                [
                                                    0.3333333333333333,
                                                    "#9c179e"
                                                ],
                                                [
                                                    0.4444444444444444,
                                                    "#bd3786"
                                                ],
                                                [
                                                    0.5555555555555556,
                                                    "#d8576b"
                                                ],
                                                [
                                                    0.6666666666666666,
                                                    "#ed7953"
                                                ],
                                                [
                                                    0.7777777777777778,
                                                    "#fb9f3a"
                                                ],
                                                [
                                                    0.8888888888888888,
                                                    "#fdca26"
                                                ],
                                                [
                                                    1,
                                                    "#f0f921"
                                                ]
                                            ]
                                        },
                                        "colorway": [
                                            "#636efa",
                                            "#EF553B",
                                            "#00cc96",
                                            "#ab63fa",
                                            "#FFA15A",
                                            "#19d3f3",
                                            "#FF6692",
                                            "#B6E880",
                                            "#FF97FF",
                                            "#FECB52"
                                        ],
                                        "font": {
                                            "color": "#2a3f5f"
                                        },
                                        "geo": {
                                            "bgcolor": "white",
                                            "lakecolor": "white",
                                            "landcolor": "#E5ECF6",
                                            "showlakes": true,
                                            "showland": true,
                                            "subunitcolor": "white"
                                        },
                                        "hoverlabel": {
                                            "align": "left"
                                        },
                                        "hovermode": "closest",
                                        "mapbox": {
                                            "style": "light"
                                        },
                                        "paper_bgcolor": "white",
                                        "plot_bgcolor": "#E5ECF6",
                                        "polar": {
                                            "angularaxis": {
                                                "gridcolor": "white",
                                                "linecolor": "white",
                                                "ticks": ""
                                            },
                                            "bgcolor": "#E5ECF6",
                                            "radialaxis": {
                                                "gridcolor": "white",
                                                "linecolor": "white",
                                                "ticks": ""
                                            }
                                        },
                                        "scene": {
                                            "xaxis": {
                                                "backgroundcolor": "#E5ECF6",
                                                "gridcolor": "white",
                                                "gridwidth": 2,
                                                "linecolor": "white",
                                                "showbackground": true,
                                                "ticks": "",
                                                "zerolinecolor": "white"
                                            },
                                            "yaxis": {
                                                "backgroundcolor": "#E5ECF6",
                                                "gridcolor": "white",
                                                "gridwidth": 2,
                                                "linecolor": "white",
                                                "showbackground": true,
                                                "ticks": "",
                                                "zerolinecolor": "white"
                                            },
                                            "zaxis": {
                                                "backgroundcolor": "#E5ECF6",
                                                "gridcolor": "white",
                                                "gridwidth": 2,
                                                "linecolor": "white",
                                                "showbackground": true,
                                                "ticks": "",
                                                "zerolinecolor": "white"
                                            }
                                        },
                                        "shapedefaults": {
                                            "line": {
                                                "color": "#2a3f5f"
                                            }
                                        },
                                        "ternary": {
                                            "aaxis": {
                                                "gridcolor": "white",
                                                "linecolor": "white",
                                                "ticks": ""
                                            },
                                            "baxis": {
                                                "gridcolor": "white",
                                                "linecolor": "white",
                                                "ticks": ""
                                            },
                                            "bgcolor": "#E5ECF6",
                                            "caxis": {
                                                "gridcolor": "white",
                                                "linecolor": "white",
                                                "ticks": ""
                                            }
                                        },
                                        "title": {
                                            "x": 0.05
                                        },
                                        "xaxis": {
                                            "automargin": true,
                                            "gridcolor": "white",
                                            "linecolor": "white",
                                            "ticks": "",
                                            "title": {
                                                "standoff": 15
                                            },
                                            "zerolinecolor": "white",
                                            "zerolinewidth": 2
                                        },
                                        "yaxis": {
                                            "automargin": true,
                                            "gridcolor": "white",
                                            "linecolor": "white",
                                            "ticks": "",
                                            "title": {
                                                "standoff": 15
                                            },
                                            "zerolinecolor": "white",
                                            "zerolinewidth": 2
                                        }
                                    }
                                },
                                "title": {
                                    "text": "Number of successful logins the last day (shown by client/session type)"
                                },
                                "xaxis": {
                                    "autorange": true,
                                    "title": {
                                        "text": "timestamp"
                                    },
                                    "type": "date"
                                },
                                "yaxis": {
                                    "ticksuffix": "",
                                    "title": {
                                        "text": "count"
                                    },
                                    "type": "linear"
                                }
                            }
                        }
                    },
                    "metadata": {},
                    "output_type": "display_data"
                },
                {
                    "data": {
                        "text/plain": "<IPython.core.display.HTML object>",
                        "text/html": "<html>\n        <head>\n            \n            \n        </head>\n        <body>\n            <div><p style=' padding: 10px; color: #3a87ad; background-color: #d9edf7; border-color: #bce9f1'>Done&nbsp;(00:00.971):&nbsp;34&nbsp;records</p></div>\n        </body>\n        </html>"
                    },
                    "metadata": {},
                    "output_type": "display_data"
                },
                {
                    "data": {
                        "text/plain": "[{'clientType': 'WebClient', 'timestamp': datetime.datetime(2021, 12, 9, 1, 0, tzinfo=tzutc()), 'count': 1},\n {'clientType': 'Background', 'timestamp': datetime.datetime(2021, 12, 9, 1, 0, tzinfo=tzutc()), 'count': 1},\n {'clientType': 'ChildSession', 'timestamp': datetime.datetime(2021, 12, 9, 1, 0, tzinfo=tzutc()), 'count': 1},\n {'clientType': 'Background', 'timestamp': datetime.datetime(2021, 11, 10, 12, 0, tzinfo=tzutc()), 'count': 3},\n {'clientType': 'Background', 'timestamp': datetime.datetime(2021, 11, 6, 19, 0, tzinfo=tzutc()), 'count': 3},\n {'clientType': 'WebClient', 'timestamp': datetime.datetime(2021, 11, 4, 22, 0, tzinfo=tzutc()), 'count': 5},\n {'clientType': 'Background', 'timestamp': datetime.datetime(2021, 11, 4, 22, 0, tzinfo=tzutc()), 'count': 1},\n {'clientType': 'ChildSession', 'timestamp': datetime.datetime(2021, 11, 4, 22, 0, tzinfo=tzutc()), 'count': 5},\n {'clientType': 'WebClient', 'timestamp': datetime.datetime(2021, 11, 3, 21, 0, tzinfo=tzutc()), 'count': 4},\n {'clientType': 'ChildSession', 'timestamp': datetime.datetime(2021, 11, 3, 21, 0, tzinfo=tzutc()), 'count': 4},\n {'clientType': 'Background', 'timestamp': datetime.datetime(2021, 11, 3, 21, 0, tzinfo=tzutc()), 'count': 1},\n {'clientType': 'WebClient', 'timestamp': datetime.datetime(2021, 11, 4, 21, 0, tzinfo=tzutc()), 'count': 2},\n {'clientType': 'ChildSession', 'timestamp': datetime.datetime(2021, 11, 4, 21, 0, tzinfo=tzutc()), 'count': 2},\n {'clientType': 'Background', 'timestamp': datetime.datetime(2021, 11, 4, 19, 0, tzinfo=tzutc()), 'count': 4},\n {'clientType': 'WebClient', 'timestamp': datetime.datetime(2021, 11, 4, 19, 0, tzinfo=tzutc()), 'count': 2},\n {'clientType': 'ChildSession', 'timestamp': datetime.datetime(2021, 11, 4, 19, 0, tzinfo=tzutc()), 'count': 1},\n {'clientType': 'WebClient', 'timestamp': datetime.datetime(2021, 11, 4, 20, 0, tzinfo=tzutc()), 'count': 6},\n {'clientType': 'ChildSession', 'timestamp': datetime.datetime(2021, 11, 4, 20, 0, tzinfo=tzutc()), 'count': 6},\n {'clientType': 'Background', 'timestamp': datetime.datetime(2021, 11, 4, 20, 0, tzinfo=tzutc()), 'count': 1},\n {'clientType': 'WebClient', 'timestamp': datetime.datetime(2021, 11, 7, 20, 0, tzinfo=tzutc()), 'count': 1},\n {'clientType': 'Background', 'timestamp': datetime.datetime(2021, 11, 7, 20, 0, tzinfo=tzutc()), 'count': 2},\n {'clientType': 'Background', 'timestamp': datetime.datetime(2021, 11, 8, 20, 0, tzinfo=tzutc()), 'count': 3},\n {'clientType': 'WebClient', 'timestamp': datetime.datetime(2021, 11, 3, 18, 0, tzinfo=tzutc()), 'count': 1},\n {'clientType': 'Background', 'timestamp': datetime.datetime(2021, 11, 3, 18, 0, tzinfo=tzutc()), 'count': 1},\n {'clientType': 'ChildSession', 'timestamp': datetime.datetime(2021, 11, 3, 18, 0, tzinfo=tzutc()), 'count': 1},\n {'clientType': 'WebClient', 'timestamp': datetime.datetime(2021, 11, 5, 13, 0, tzinfo=tzutc()), 'count': 2},\n {'clientType': 'Background', 'timestamp': datetime.datetime(2021, 11, 5, 13, 0, tzinfo=tzutc()), 'count': 1},\n {'clientType': 'ChildSession', 'timestamp': datetime.datetime(2021, 11, 5, 13, 0, tzinfo=tzutc()), 'count': 2},\n {'clientType': 'WebClient', 'timestamp': datetime.datetime(2021, 11, 5, 14, 0, tzinfo=tzutc()), 'count': 1},\n {'clientType': 'ChildSession', 'timestamp': datetime.datetime(2021, 11, 5, 14, 0, tzinfo=tzutc()), 'count': 1},\n {'clientType': 'Background', 'timestamp': datetime.datetime(2021, 11, 5, 19, 0, tzinfo=tzutc()), 'count': 3},\n {'clientType': 'WebClient', 'timestamp': datetime.datetime(2021, 11, 4, 0, 0, tzinfo=tzutc()), 'count': 1},\n {'clientType': 'ChildSession', 'timestamp': datetime.datetime(2021, 11, 4, 0, 0, tzinfo=tzutc()), 'count': 7},\n {'clientType': 'Background', 'timestamp': datetime.datetime(2021, 11, 4, 0, 0, tzinfo=tzutc()), 'count': 1}]",
                        "text/html": ""
                    },
                    "metadata": {},
                    "execution_count": 21,
                    "output_type": "execute_result"
                }
            ],
            "execution_count": 21
        },
        {
            "cell_type": "code",
            "source": [
                "%%kql\r\n",
                "let _aadTenantId = aadTenantId;\r\n",
                "let _environmentName = environmentName;\r\n",
                "let _startDate = startDate;\r\n",
                "let _endDate = endDate;\r\n",
                "traces\r\n",
                "| where 1==1 \r\n",
                "    and timestamp >= todatetime(_startDate)\r\n",
                "    and timestamp <= todatetime(_endDate) + totimespan(24h) - totimespan(1ms)   \r\n",
                "    and (_aadTenantId == '' or customDimensions.aadTenantId == _aadTenantId)\r\n",
                "    and (_environmentName == '' or customDimensions.environmentName == _environmentName )\r\n",
                "    and customDimensions.eventId in ('RT0001', 'RT0002', 'RT0004')\r\n",
                "| extend attemptType = case(\r\n",
                "    customDimensions.eventId == 'RT0001', 'Failure before open company' ,\r\n",
                "    customDimensions.eventId == 'RT0002', 'Failure in open company trigger' ,\r\n",
                "    customDimensions.eventId == 'RT0004', 'Successful login' , \r\n",
                "    'Unknown reason'\r\n",
                ")\r\n",
                "| summarize count=count() by attemptType, bin(timestamp, 1h)\r\n",
                "| render timechart title= 'Number of login attempts the last day (shown by success/failure)'"
            ],
            "metadata": {
                "azdata_cell_guid": "5a1bb5e1-4d74-4ff3-938c-e04c989977fd",
                "extensions": {
                    "azuredatastudio": {
                        "views": []
                    }
                }
            },
            "outputs": [
                {
                    "data": {
                        "text/plain": "<IPython.core.display.HTML object>",
                        "text/html": "<html>\n        <head>\n            \n            \n        </head>\n        <body>\n            <div><p style=' padding: 10px; color: #3a87ad; background-color: #d9edf7; border-color: #bce9f1'>&nbsp;*&nbsp;43d7cb5e-452b-4c08-93ca-a35109847936@applicationinsights</p></div>\n        </body>\n        </html>"
                    },
                    "metadata": {},
                    "output_type": "display_data"
                },
                {
                    "data": {
                        "application/vnd.plotly.v1+json": {
                            "config": {
                                "plotlyServerURL": "https://plot.ly"
                            },
                            "data": [
                                {
                                    "line": {
                                        "color": "rgb(31, 118, 179)",
                                        "width": 1
                                    },
                                    "name": "Successful login:count",
                                    "opacity": 0.8,
                                    "type": "scatter",
                                    "x": [
                                        "2021-11-03T18:00:00+00:00",
                                        "2021-11-03T21:00:00+00:00",
                                        "2021-11-04T00:00:00+00:00",
                                        "2021-11-04T19:00:00+00:00",
                                        "2021-11-04T20:00:00+00:00",
                                        "2021-11-04T21:00:00+00:00",
                                        "2021-11-04T22:00:00+00:00",
                                        "2021-11-05T13:00:00+00:00",
                                        "2021-11-05T14:00:00+00:00",
                                        "2021-11-05T19:00:00+00:00",
                                        "2021-11-06T19:00:00+00:00",
                                        "2021-11-07T20:00:00+00:00",
                                        "2021-11-08T20:00:00+00:00",
                                        "2021-11-10T12:00:00+00:00",
                                        "2021-12-09T01:00:00+00:00"
                                    ],
                                    "y": [
                                        3,
                                        9,
                                        9,
                                        7,
                                        13,
                                        4,
                                        11,
                                        5,
                                        2,
                                        3,
                                        3,
                                        3,
                                        3,
                                        3,
                                        3
                                    ]
                                }
                            ],
                            "layout": {
                                "showlegend": true,
                                "template": {
                                    "data": {
                                        "bar": [
                                            {
                                                "error_x": {
                                                    "color": "#2a3f5f"
                                                },
                                                "error_y": {
                                                    "color": "#2a3f5f"
                                                },
                                                "marker": {
                                                    "line": {
                                                        "color": "#E5ECF6",
                                                        "width": 0.5
                                                    },
                                                    "pattern": {
                                                        "fillmode": "overlay",
                                                        "size": 10,
                                                        "solidity": 0.2
                                                    }
                                                },
                                                "type": "bar"
                                            }
                                        ],
                                        "barpolar": [
                                            {
                                                "marker": {
                                                    "line": {
                                                        "color": "#E5ECF6",
                                                        "width": 0.5
                                                    },
                                                    "pattern": {
                                                        "fillmode": "overlay",
                                                        "size": 10,
                                                        "solidity": 0.2
                                                    }
                                                },
                                                "type": "barpolar"
                                            }
                                        ],
                                        "carpet": [
                                            {
                                                "aaxis": {
                                                    "endlinecolor": "#2a3f5f",
                                                    "gridcolor": "white",
                                                    "linecolor": "white",
                                                    "minorgridcolor": "white",
                                                    "startlinecolor": "#2a3f5f"
                                                },
                                                "baxis": {
                                                    "endlinecolor": "#2a3f5f",
                                                    "gridcolor": "white",
                                                    "linecolor": "white",
                                                    "minorgridcolor": "white",
                                                    "startlinecolor": "#2a3f5f"
                                                },
                                                "type": "carpet"
                                            }
                                        ],
                                        "choropleth": [
                                            {
                                                "colorbar": {
                                                    "outlinewidth": 0,
                                                    "ticks": ""
                                                },
                                                "type": "choropleth"
                                            }
                                        ],
                                        "contour": [
                                            {
                                                "colorbar": {
                                                    "outlinewidth": 0,
                                                    "ticks": ""
                                                },
                                                "colorscale": [
                                                    [
                                                        0,
                                                        "#0d0887"
                                                    ],
                                                    [
                                                        0.1111111111111111,
                                                        "#46039f"
                                                    ],
                                                    [
                                                        0.2222222222222222,
                                                        "#7201a8"
                                                    ],
                                                    [
                                                        0.3333333333333333,
                                                        "#9c179e"
                                                    ],
                                                    [
                                                        0.4444444444444444,
                                                        "#bd3786"
                                                    ],
                                                    [
                                                        0.5555555555555556,
                                                        "#d8576b"
                                                    ],
                                                    [
                                                        0.6666666666666666,
                                                        "#ed7953"
                                                    ],
                                                    [
                                                        0.7777777777777778,
                                                        "#fb9f3a"
                                                    ],
                                                    [
                                                        0.8888888888888888,
                                                        "#fdca26"
                                                    ],
                                                    [
                                                        1,
                                                        "#f0f921"
                                                    ]
                                                ],
                                                "type": "contour"
                                            }
                                        ],
                                        "contourcarpet": [
                                            {
                                                "colorbar": {
                                                    "outlinewidth": 0,
                                                    "ticks": ""
                                                },
                                                "type": "contourcarpet"
                                            }
                                        ],
                                        "heatmap": [
                                            {
                                                "colorbar": {
                                                    "outlinewidth": 0,
                                                    "ticks": ""
                                                },
                                                "colorscale": [
                                                    [
                                                        0,
                                                        "#0d0887"
                                                    ],
                                                    [
                                                        0.1111111111111111,
                                                        "#46039f"
                                                    ],
                                                    [
                                                        0.2222222222222222,
                                                        "#7201a8"
                                                    ],
                                                    [
                                                        0.3333333333333333,
                                                        "#9c179e"
                                                    ],
                                                    [
                                                        0.4444444444444444,
                                                        "#bd3786"
                                                    ],
                                                    [
                                                        0.5555555555555556,
                                                        "#d8576b"
                                                    ],
                                                    [
                                                        0.6666666666666666,
                                                        "#ed7953"
                                                    ],
                                                    [
                                                        0.7777777777777778,
                                                        "#fb9f3a"
                                                    ],
                                                    [
                                                        0.8888888888888888,
                                                        "#fdca26"
                                                    ],
                                                    [
                                                        1,
                                                        "#f0f921"
                                                    ]
                                                ],
                                                "type": "heatmap"
                                            }
                                        ],
                                        "heatmapgl": [
                                            {
                                                "colorbar": {
                                                    "outlinewidth": 0,
                                                    "ticks": ""
                                                },
                                                "colorscale": [
                                                    [
                                                        0,
                                                        "#0d0887"
                                                    ],
                                                    [
                                                        0.1111111111111111,
                                                        "#46039f"
                                                    ],
                                                    [
                                                        0.2222222222222222,
                                                        "#7201a8"
                                                    ],
                                                    [
                                                        0.3333333333333333,
                                                        "#9c179e"
                                                    ],
                                                    [
                                                        0.4444444444444444,
                                                        "#bd3786"
                                                    ],
                                                    [
                                                        0.5555555555555556,
                                                        "#d8576b"
                                                    ],
                                                    [
                                                        0.6666666666666666,
                                                        "#ed7953"
                                                    ],
                                                    [
                                                        0.7777777777777778,
                                                        "#fb9f3a"
                                                    ],
                                                    [
                                                        0.8888888888888888,
                                                        "#fdca26"
                                                    ],
                                                    [
                                                        1,
                                                        "#f0f921"
                                                    ]
                                                ],
                                                "type": "heatmapgl"
                                            }
                                        ],
                                        "histogram": [
                                            {
                                                "marker": {
                                                    "pattern": {
                                                        "fillmode": "overlay",
                                                        "size": 10,
                                                        "solidity": 0.2
                                                    }
                                                },
                                                "type": "histogram"
                                            }
                                        ],
                                        "histogram2d": [
                                            {
                                                "colorbar": {
                                                    "outlinewidth": 0,
                                                    "ticks": ""
                                                },
                                                "colorscale": [
                                                    [
                                                        0,
                                                        "#0d0887"
                                                    ],
                                                    [
                                                        0.1111111111111111,
                                                        "#46039f"
                                                    ],
                                                    [
                                                        0.2222222222222222,
                                                        "#7201a8"
                                                    ],
                                                    [
                                                        0.3333333333333333,
                                                        "#9c179e"
                                                    ],
                                                    [
                                                        0.4444444444444444,
                                                        "#bd3786"
                                                    ],
                                                    [
                                                        0.5555555555555556,
                                                        "#d8576b"
                                                    ],
                                                    [
                                                        0.6666666666666666,
                                                        "#ed7953"
                                                    ],
                                                    [
                                                        0.7777777777777778,
                                                        "#fb9f3a"
                                                    ],
                                                    [
                                                        0.8888888888888888,
                                                        "#fdca26"
                                                    ],
                                                    [
                                                        1,
                                                        "#f0f921"
                                                    ]
                                                ],
                                                "type": "histogram2d"
                                            }
                                        ],
                                        "histogram2dcontour": [
                                            {
                                                "colorbar": {
                                                    "outlinewidth": 0,
                                                    "ticks": ""
                                                },
                                                "colorscale": [
                                                    [
                                                        0,
                                                        "#0d0887"
                                                    ],
                                                    [
                                                        0.1111111111111111,
                                                        "#46039f"
                                                    ],
                                                    [
                                                        0.2222222222222222,
                                                        "#7201a8"
                                                    ],
                                                    [
                                                        0.3333333333333333,
                                                        "#9c179e"
                                                    ],
                                                    [
                                                        0.4444444444444444,
                                                        "#bd3786"
                                                    ],
                                                    [
                                                        0.5555555555555556,
                                                        "#d8576b"
                                                    ],
                                                    [
                                                        0.6666666666666666,
                                                        "#ed7953"
                                                    ],
                                                    [
                                                        0.7777777777777778,
                                                        "#fb9f3a"
                                                    ],
                                                    [
                                                        0.8888888888888888,
                                                        "#fdca26"
                                                    ],
                                                    [
                                                        1,
                                                        "#f0f921"
                                                    ]
                                                ],
                                                "type": "histogram2dcontour"
                                            }
                                        ],
                                        "mesh3d": [
                                            {
                                                "colorbar": {
                                                    "outlinewidth": 0,
                                                    "ticks": ""
                                                },
                                                "type": "mesh3d"
                                            }
                                        ],
                                        "parcoords": [
                                            {
                                                "line": {
                                                    "colorbar": {
                                                        "outlinewidth": 0,
                                                        "ticks": ""
                                                    }
                                                },
                                                "type": "parcoords"
                                            }
                                        ],
                                        "pie": [
                                            {
                                                "automargin": true,
                                                "type": "pie"
                                            }
                                        ],
                                        "scatter": [
                                            {
                                                "marker": {
                                                    "colorbar": {
                                                        "outlinewidth": 0,
                                                        "ticks": ""
                                                    }
                                                },
                                                "type": "scatter"
                                            }
                                        ],
                                        "scatter3d": [
                                            {
                                                "line": {
                                                    "colorbar": {
                                                        "outlinewidth": 0,
                                                        "ticks": ""
                                                    }
                                                },
                                                "marker": {
                                                    "colorbar": {
                                                        "outlinewidth": 0,
                                                        "ticks": ""
                                                    }
                                                },
                                                "type": "scatter3d"
                                            }
                                        ],
                                        "scattercarpet": [
                                            {
                                                "marker": {
                                                    "colorbar": {
                                                        "outlinewidth": 0,
                                                        "ticks": ""
                                                    }
                                                },
                                                "type": "scattercarpet"
                                            }
                                        ],
                                        "scattergeo": [
                                            {
                                                "marker": {
                                                    "colorbar": {
                                                        "outlinewidth": 0,
                                                        "ticks": ""
                                                    }
                                                },
                                                "type": "scattergeo"
                                            }
                                        ],
                                        "scattergl": [
                                            {
                                                "marker": {
                                                    "colorbar": {
                                                        "outlinewidth": 0,
                                                        "ticks": ""
                                                    }
                                                },
                                                "type": "scattergl"
                                            }
                                        ],
                                        "scattermapbox": [
                                            {
                                                "marker": {
                                                    "colorbar": {
                                                        "outlinewidth": 0,
                                                        "ticks": ""
                                                    }
                                                },
                                                "type": "scattermapbox"
                                            }
                                        ],
                                        "scatterpolar": [
                                            {
                                                "marker": {
                                                    "colorbar": {
                                                        "outlinewidth": 0,
                                                        "ticks": ""
                                                    }
                                                },
                                                "type": "scatterpolar"
                                            }
                                        ],
                                        "scatterpolargl": [
                                            {
                                                "marker": {
                                                    "colorbar": {
                                                        "outlinewidth": 0,
                                                        "ticks": ""
                                                    }
                                                },
                                                "type": "scatterpolargl"
                                            }
                                        ],
                                        "scatterternary": [
                                            {
                                                "marker": {
                                                    "colorbar": {
                                                        "outlinewidth": 0,
                                                        "ticks": ""
                                                    }
                                                },
                                                "type": "scatterternary"
                                            }
                                        ],
                                        "surface": [
                                            {
                                                "colorbar": {
                                                    "outlinewidth": 0,
                                                    "ticks": ""
                                                },
                                                "colorscale": [
                                                    [
                                                        0,
                                                        "#0d0887"
                                                    ],
                                                    [
                                                        0.1111111111111111,
                                                        "#46039f"
                                                    ],
                                                    [
                                                        0.2222222222222222,
                                                        "#7201a8"
                                                    ],
                                                    [
                                                        0.3333333333333333,
                                                        "#9c179e"
                                                    ],
                                                    [
                                                        0.4444444444444444,
                                                        "#bd3786"
                                                    ],
                                                    [
                                                        0.5555555555555556,
                                                        "#d8576b"
                                                    ],
                                                    [
                                                        0.6666666666666666,
                                                        "#ed7953"
                                                    ],
                                                    [
                                                        0.7777777777777778,
                                                        "#fb9f3a"
                                                    ],
                                                    [
                                                        0.8888888888888888,
                                                        "#fdca26"
                                                    ],
                                                    [
                                                        1,
                                                        "#f0f921"
                                                    ]
                                                ],
                                                "type": "surface"
                                            }
                                        ],
                                        "table": [
                                            {
                                                "cells": {
                                                    "fill": {
                                                        "color": "#EBF0F8"
                                                    },
                                                    "line": {
                                                        "color": "white"
                                                    }
                                                },
                                                "header": {
                                                    "fill": {
                                                        "color": "#C8D4E3"
                                                    },
                                                    "line": {
                                                        "color": "white"
                                                    }
                                                },
                                                "type": "table"
                                            }
                                        ]
                                    },
                                    "layout": {
                                        "annotationdefaults": {
                                            "arrowcolor": "#2a3f5f",
                                            "arrowhead": 0,
                                            "arrowwidth": 1
                                        },
                                        "autotypenumbers": "strict",
                                        "coloraxis": {
                                            "colorbar": {
                                                "outlinewidth": 0,
                                                "ticks": ""
                                            }
                                        },
                                        "colorscale": {
                                            "diverging": [
                                                [
                                                    0,
                                                    "#8e0152"
                                                ],
                                                [
                                                    0.1,
                                                    "#c51b7d"
                                                ],
                                                [
                                                    0.2,
                                                    "#de77ae"
                                                ],
                                                [
                                                    0.3,
                                                    "#f1b6da"
                                                ],
                                                [
                                                    0.4,
                                                    "#fde0ef"
                                                ],
                                                [
                                                    0.5,
                                                    "#f7f7f7"
                                                ],
                                                [
                                                    0.6,
                                                    "#e6f5d0"
                                                ],
                                                [
                                                    0.7,
                                                    "#b8e186"
                                                ],
                                                [
                                                    0.8,
                                                    "#7fbc41"
                                                ],
                                                [
                                                    0.9,
                                                    "#4d9221"
                                                ],
                                                [
                                                    1,
                                                    "#276419"
                                                ]
                                            ],
                                            "sequential": [
                                                [
                                                    0,
                                                    "#0d0887"
                                                ],
                                                [
                                                    0.1111111111111111,
                                                    "#46039f"
                                                ],
                                                [
                                                    0.2222222222222222,
                                                    "#7201a8"
                                                ],
                                                [
                                                    0.3333333333333333,
                                                    "#9c179e"
                                                ],
                                                [
                                                    0.4444444444444444,
                                                    "#bd3786"
                                                ],
                                                [
                                                    0.5555555555555556,
                                                    "#d8576b"
                                                ],
                                                [
                                                    0.6666666666666666,
                                                    "#ed7953"
                                                ],
                                                [
                                                    0.7777777777777778,
                                                    "#fb9f3a"
                                                ],
                                                [
                                                    0.8888888888888888,
                                                    "#fdca26"
                                                ],
                                                [
                                                    1,
                                                    "#f0f921"
                                                ]
                                            ],
                                            "sequentialminus": [
                                                [
                                                    0,
                                                    "#0d0887"
                                                ],
                                                [
                                                    0.1111111111111111,
                                                    "#46039f"
                                                ],
                                                [
                                                    0.2222222222222222,
                                                    "#7201a8"
                                                ],
                                                [
                                                    0.3333333333333333,
                                                    "#9c179e"
                                                ],
                                                [
                                                    0.4444444444444444,
                                                    "#bd3786"
                                                ],
                                                [
                                                    0.5555555555555556,
                                                    "#d8576b"
                                                ],
                                                [
                                                    0.6666666666666666,
                                                    "#ed7953"
                                                ],
                                                [
                                                    0.7777777777777778,
                                                    "#fb9f3a"
                                                ],
                                                [
                                                    0.8888888888888888,
                                                    "#fdca26"
                                                ],
                                                [
                                                    1,
                                                    "#f0f921"
                                                ]
                                            ]
                                        },
                                        "colorway": [
                                            "#636efa",
                                            "#EF553B",
                                            "#00cc96",
                                            "#ab63fa",
                                            "#FFA15A",
                                            "#19d3f3",
                                            "#FF6692",
                                            "#B6E880",
                                            "#FF97FF",
                                            "#FECB52"
                                        ],
                                        "font": {
                                            "color": "#2a3f5f"
                                        },
                                        "geo": {
                                            "bgcolor": "white",
                                            "lakecolor": "white",
                                            "landcolor": "#E5ECF6",
                                            "showlakes": true,
                                            "showland": true,
                                            "subunitcolor": "white"
                                        },
                                        "hoverlabel": {
                                            "align": "left"
                                        },
                                        "hovermode": "closest",
                                        "mapbox": {
                                            "style": "light"
                                        },
                                        "paper_bgcolor": "white",
                                        "plot_bgcolor": "#E5ECF6",
                                        "polar": {
                                            "angularaxis": {
                                                "gridcolor": "white",
                                                "linecolor": "white",
                                                "ticks": ""
                                            },
                                            "bgcolor": "#E5ECF6",
                                            "radialaxis": {
                                                "gridcolor": "white",
                                                "linecolor": "white",
                                                "ticks": ""
                                            }
                                        },
                                        "scene": {
                                            "xaxis": {
                                                "backgroundcolor": "#E5ECF6",
                                                "gridcolor": "white",
                                                "gridwidth": 2,
                                                "linecolor": "white",
                                                "showbackground": true,
                                                "ticks": "",
                                                "zerolinecolor": "white"
                                            },
                                            "yaxis": {
                                                "backgroundcolor": "#E5ECF6",
                                                "gridcolor": "white",
                                                "gridwidth": 2,
                                                "linecolor": "white",
                                                "showbackground": true,
                                                "ticks": "",
                                                "zerolinecolor": "white"
                                            },
                                            "zaxis": {
                                                "backgroundcolor": "#E5ECF6",
                                                "gridcolor": "white",
                                                "gridwidth": 2,
                                                "linecolor": "white",
                                                "showbackground": true,
                                                "ticks": "",
                                                "zerolinecolor": "white"
                                            }
                                        },
                                        "shapedefaults": {
                                            "line": {
                                                "color": "#2a3f5f"
                                            }
                                        },
                                        "ternary": {
                                            "aaxis": {
                                                "gridcolor": "white",
                                                "linecolor": "white",
                                                "ticks": ""
                                            },
                                            "baxis": {
                                                "gridcolor": "white",
                                                "linecolor": "white",
                                                "ticks": ""
                                            },
                                            "bgcolor": "#E5ECF6",
                                            "caxis": {
                                                "gridcolor": "white",
                                                "linecolor": "white",
                                                "ticks": ""
                                            }
                                        },
                                        "title": {
                                            "x": 0.05
                                        },
                                        "xaxis": {
                                            "automargin": true,
                                            "gridcolor": "white",
                                            "linecolor": "white",
                                            "ticks": "",
                                            "title": {
                                                "standoff": 15
                                            },
                                            "zerolinecolor": "white",
                                            "zerolinewidth": 2
                                        },
                                        "yaxis": {
                                            "automargin": true,
                                            "gridcolor": "white",
                                            "linecolor": "white",
                                            "ticks": "",
                                            "title": {
                                                "standoff": 15
                                            },
                                            "zerolinecolor": "white",
                                            "zerolinewidth": 2
                                        }
                                    }
                                },
                                "title": {
                                    "text": "Number of login attempts the last day (shown by success/failure)"
                                },
                                "xaxis": {
                                    "autorange": true,
                                    "title": {
                                        "text": "timestamp"
                                    },
                                    "type": "date"
                                },
                                "yaxis": {
                                    "ticksuffix": "",
                                    "title": {
                                        "text": "count"
                                    },
                                    "type": "linear"
                                }
                            }
                        }
                    },
                    "metadata": {},
                    "output_type": "display_data"
                },
                {
                    "data": {
                        "text/plain": "<IPython.core.display.HTML object>",
                        "text/html": "<html>\n        <head>\n            \n            \n        </head>\n        <body>\n            <div><p style=' padding: 10px; color: #3a87ad; background-color: #d9edf7; border-color: #bce9f1'>Done&nbsp;(00:01.129):&nbsp;15&nbsp;records</p></div>\n        </body>\n        </html>"
                    },
                    "metadata": {},
                    "output_type": "display_data"
                },
                {
                    "data": {
                        "text/plain": "[{'attemptType': 'Successful login', 'timestamp': datetime.datetime(2021, 12, 9, 1, 0, tzinfo=tzutc()), 'count': 3},\n {'attemptType': 'Successful login', 'timestamp': datetime.datetime(2021, 11, 6, 19, 0, tzinfo=tzutc()), 'count': 3},\n {'attemptType': 'Successful login', 'timestamp': datetime.datetime(2021, 11, 4, 21, 0, tzinfo=tzutc()), 'count': 4},\n {'attemptType': 'Successful login', 'timestamp': datetime.datetime(2021, 11, 3, 21, 0, tzinfo=tzutc()), 'count': 9},\n {'attemptType': 'Successful login', 'timestamp': datetime.datetime(2021, 11, 4, 22, 0, tzinfo=tzutc()), 'count': 11},\n {'attemptType': 'Successful login', 'timestamp': datetime.datetime(2021, 11, 4, 19, 0, tzinfo=tzutc()), 'count': 7},\n {'attemptType': 'Successful login', 'timestamp': datetime.datetime(2021, 11, 4, 20, 0, tzinfo=tzutc()), 'count': 13},\n {'attemptType': 'Successful login', 'timestamp': datetime.datetime(2021, 11, 7, 20, 0, tzinfo=tzutc()), 'count': 3},\n {'attemptType': 'Successful login', 'timestamp': datetime.datetime(2021, 11, 10, 12, 0, tzinfo=tzutc()), 'count': 3},\n {'attemptType': 'Successful login', 'timestamp': datetime.datetime(2021, 11, 5, 13, 0, tzinfo=tzutc()), 'count': 5},\n {'attemptType': 'Successful login', 'timestamp': datetime.datetime(2021, 11, 5, 14, 0, tzinfo=tzutc()), 'count': 2},\n {'attemptType': 'Successful login', 'timestamp': datetime.datetime(2021, 11, 5, 19, 0, tzinfo=tzutc()), 'count': 3},\n {'attemptType': 'Successful login', 'timestamp': datetime.datetime(2021, 11, 4, 0, 0, tzinfo=tzutc()), 'count': 9},\n {'attemptType': 'Successful login', 'timestamp': datetime.datetime(2021, 11, 8, 20, 0, tzinfo=tzutc()), 'count': 3},\n {'attemptType': 'Successful login', 'timestamp': datetime.datetime(2021, 11, 3, 18, 0, tzinfo=tzutc()), 'count': 3}]",
                        "text/html": ""
                    },
                    "metadata": {},
                    "execution_count": 22,
                    "output_type": "execute_result"
                }
            ],
            "execution_count": 22
        }
    ]
}