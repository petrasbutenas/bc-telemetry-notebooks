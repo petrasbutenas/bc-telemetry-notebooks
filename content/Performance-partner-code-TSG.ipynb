{
    "metadata": {
        "kernelspec": {
            "name": "python3",
            "display_name": "Python 3 (ipykernel)",
            "language": "python"
        },
        "language_info": {
            "name": "python",
            "version": "3.8.10",
            "mimetype": "text/x-python",
            "codemirror_mode": {
                "name": "ipython",
                "version": 3
            },
            "pygments_lexer": "ipython3",
            "nbconvert_exporter": "python",
            "file_extension": ".py"
        },
        "extensions": {
            "azuredatastudio": {
                "version": 1,
                "views": []
            }
        }
    },
    "nbformat_minor": 2,
    "nbformat": 4,
    "cells": [
        {
            "cell_type": "markdown",
            "source": [
                "# Dynamics 365 Business Central Troubleshooting Guide (TSG) - Performance analysis (partner code issues)\n",
                "\n",
                "This notebook contains Kusto queries that can help getting to the root cause of a performance issue for an environment. While we can provide some guidelines, there does not exist any exact formulas to determine if the data a given section is a problem or if this is normal behavior. \n",
                "\n",
                "  \n",
                "\n",
                "The notebook highlights issues for object ids in the ranges defined for partner code \\[50000..99999\\] and \\[1 mio..75 mio\\] and can be used to find performance problems in code in per-tenant extensions or app source extensions.\n",
                "\n",
                "Each section in the notebook contains links to the performance tuning guide on docs [aka.ms/bcperformance](..\\..\\D365BC%20Troubleshooting%20Guides%20(TSG)\\content\\aka.ms\\bcperformance), links to the documentation of relevant telemetry in [aka.ms/bctelemetry](..\\..\\D365BC%20Troubleshooting%20Guides%20(TSG)\\content\\aka.ms\\bctelemetry), as well as Kusto queries that help dive into a specific area (sessions, web service requests, database calls, reports, and page load times).\n",
                "\n",
                "NB! Some of the signal used in this notebook is only available in newer versions of Business Central, so check the version of your environment if some sections do not return any data. The signal documentation states in which version a given signal was introduced."
            ],
            "metadata": {
                "azdata_cell_guid": "1f608a1d-2436-4b48-80d4-5c4d2f8ca7d0",
                "extensions": {
                    "azuredatastudio": {
                        "views": []
                    }
                }
            }
        },
        {
            "cell_type": "markdown",
            "source": [
                "## 1\\. Get setup: Load up Python libraries and connect to Application Insights\n",
                "\n",
                "First you need to set the notebook Kernel to Python3, load the KQLmagic module (did you install it? Install instructions: https://github.com/microsoft/BCTech/tree/master/samples/AppInsights/TroubleShootingGuides) and connect to your Application Insights resource (get appid and appkey from the API access page in the Application Insights portal)"
            ],
            "metadata": {
                "azdata_cell_guid": "f103fae9-cf6d-40f7-9062-11ce50691046",
                "extensions": {
                    "azuredatastudio": {
                        "views": []
                    }
                }
            }
        },
        {
            "cell_type": "code",
            "source": [
                "# load the KQLmagic module\n",
                "%reload_ext Kqlmagic"
            ],
            "metadata": {
                "azdata_cell_guid": "a253fa8e-6ac2-4722-a00a-1c52aedab4ed",
                "tags": [],
                "extensions": {
                    "azuredatastudio": {
                        "views": []
                    }
                }
            },
            "outputs": [
                {
                    "data": {
                        "text/plain": "<IPython.core.display.HTML object>",
                        "text/html": "<html>\n            <head>\n            <title>Kqlmagic - banner</title>\n            <style>\n            .kql-magic-banner {\n                display: flex; \n                background-color: #d9edf7;\n            }\n            .kql-magic-banner > div {\n                margin: 10px; \n                padding: 20px; \n                color: #3a87ad; \n                font-size: 13px;\n            }\n            </style>\n            </head>\n            <body>\n                <div class='kql-magic-banner'>\n                    <div><img src='data:image/png;base64,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'></div>\n                    <div>\n                        <p>Kql Query Language, aka kql, is the query language for advanced analytics on Azure Monitor resources. The current supported data sources are \n                        Azure Data Explorer (Kusto), Log Analytics and Application Insights. To get more information execute '%kql --help \"kql\"'</p>\n                        <p>   \n                          &bull; \n                kql reference: Click on 'Help' tab > and Select 'kql reference' or execute '%kql --help \"kql\"'<br>\n                          &bull; \n                Kqlmagic configuration: execute '%config Kqlmagic'<br>\n                          &bull; \n                Kqlmagic usage: execute '%kql --usage'<br>\n                          &bull; \n                To report bug/issue: execute '%kql --bug-report'<br>                \n                        </p> \n                    </div>\n                </div>\n            </body>\n            </html>"
                    },
                    "metadata": {},
                    "output_type": "display_data"
                },
                {
                    "data": {
                        "text/plain": "<IPython.core.display.HTML object>",
                        "text/html": "<html>\n        <head>\n            \n            \n        </head>\n        <body>\n            <div><p style=' padding: 10px; color: #3a87ad; background-color: #d9edf7; border-color: #bce9f1'>Kqlmagic&nbsp;package&nbsp;is&nbsp;updated&nbsp;frequently.&nbsp;Run&nbsp;&apos;!pip&nbsp;install&nbsp;Kqlmagic&nbsp;--no-cache-dir&nbsp;--upgrade&apos;&nbsp;to&nbsp;use&nbsp;the&nbsp;latest&nbsp;version.<br>Kqlmagic&nbsp;version:&nbsp;0.1.114,&nbsp;source:&nbsp;https://github.com/Microsoft/jupyter-Kqlmagic</p></div>\n        </body>\n        </html>"
                    },
                    "metadata": {},
                    "output_type": "display_data"
                },
                {
                    "data": {
                        "text/plain": "<IPython.core.display.HTML object>",
                        "text/html": "<!DOCTYPE html>\n            <html><body>\n            <div style='padding: 10px; color: #3a87ad; background-color: #d9edf7; border-color: #bce9f1'>\n            Click&nbsp;to&nbsp;find&nbsp;out&nbsp;what's&nbsp;new&nbsp;in&nbsp;Kqlmagic&nbsp;&nbsp;<a href='http://127.0.0.1:59521/webbrowser?url=http%3A//127.0.0.1%3A59521/files/.kqlmagic/temp_files/6adbb304-4d82-4500-89f5-2c6c4ab4064e/popup_what_new_history.html%3Fkernelid%3D6adbb304-4d82-4500-89f5-2c6c4ab4064e&kernelid=6adbb304-4d82-4500-89f5-2c6c4ab4064e' style='padding: 2px 6px 2px 6px; color: #333333; background-color: #EEEEEE; border-top: 1px solid #CCCCCC; border-right: 1px solid #333333; border-bottom: 1px solid #333333; border-left: 1px solid #CCCCCC' target='popup_what_new_history'>What's New? </a>\n            </div>\n            </body></html>"
                    },
                    "metadata": {},
                    "output_type": "display_data"
                }
            ],
            "execution_count": 5
        },
        {
            "cell_type": "code",
            "source": [
                "# Connect to the Application Insights API\n",
                "%kql appinsights://appid='<add app id from the Application Insights portal>';appkey='<add API key from the Application Insights portal>'"
            ],
            "metadata": {
                "azdata_cell_guid": "1de8537e-0291-45b2-8741-047441208e42",
                "extensions": {
                    "azuredatastudio": {
                        "views": []
                    }
                },
                "tags": []
            },
            "outputs": [],
            "execution_count": 6
        },
        {
            "cell_type": "markdown",
            "source": [
                "## 2\\. Define filters\n",
                "\n",
                "This workbook is designed for troubleshooting a single environment. Please provide values for aadTenantId, environmentName, and extensionId (or use a config file)."
            ],
            "metadata": {
                "azdata_cell_guid": "9ef1220c-d9cc-4552-9297-1428efcafb32",
                "extensions": {
                    "azuredatastudio": {
                        "views": []
                    }
                }
            }
        },
        {
            "cell_type": "code",
            "source": [
                "# Add values for AAD tenant id, environment name, and extension id here\n",
                "# It is possible to leave the value for AAD tenant id or environment name blank (if you want to analyze across all values of the parameter)\n",
                "\n",
                "# You can either use configuration file (INI file format) or set filters directly. \n",
                "\n",
                "# If you specify a config file, then variables set here takes precedence over manually set filter variables\n",
                "# config file name and directory (full path)\n",
                "configFile = \"c:\\\\tmp\\\\notebook.ini\"\n",
                "\n",
                "\n",
                "# Add AAD tenant id and environment name here (or leave blank)\n",
                "aadTenantId = \"\"\n",
                "environmentName = \"\"\n",
                "extensionId = \"\"\n",
                "\n",
                "# date filters for the analysis\n",
                "# use YYYY-MM-DD format for the dates (ISO 8601)\n",
                "startDate = \"2021-11-01\"\n",
                "endDate = \"2022-01-01\"\n",
                "\n",
                "\n",
                "\n",
                "\n",
                "# Do not edit this code section\n",
                "import configparser\n",
                "config = configparser.ConfigParser()\n",
                "\n",
                "config.read(configFile)\n",
                "\n",
                "if bool(config.defaults()):\n",
                "    if config.has_option('DEFAULT', 'aadTenantId'):\n",
                "        aadTenantId = config['DEFAULT']['aadTenantId']\n",
                "    if config.has_option('DEFAULT', 'environmentName'):\n",
                "        environmentName = config['DEFAULT']['environmentName']\n",
                "    if config.has_option('DEFAULT', 'extensionId'):\n",
                "        extensionId = config['DEFAULT']['extensionId']\n",
                "    if config.has_option('DEFAULT', 'startDate'):    \n",
                "        startDate = config['DEFAULT']['startDate']\n",
                "    if config.has_option('DEFAULT', 'endDate'):\n",
                "        endDate = config['DEFAULT']['endDate']\n",
                "\n",
                "print(\"Using these parameters for the analysis:\")\n",
                "print(\"----------------------------------------\")\n",
                "print(\"aadTenantId         \" + aadTenantId)\n",
                "print(\"environmentName     \" + environmentName)\n",
                "print(\"extensionId         \" + extensionId)\n",
                "print(\"startDate           \" + startDate)\n",
                "print(\"endDate             \" + endDate)"
            ],
            "metadata": {
                "azdata_cell_guid": "0a0785f7-a85e-4ccf-9020-732e1d4c058a",
                "tags": [
                    "hide_input"
                ],
                "extensions": {
                    "azuredatastudio": {
                        "views": []
                    }
                }
            },
            "outputs": [
                {
                    "name": "stdout",
                    "text": "Using these parameters for the analysis:\n----------------------------------------\naadTenantId         \nenvironmentName     \nextensionId         \nstartDate           2021-11-01\nendDate             2022-01-01\n",
                    "output_type": "stream"
                }
            ],
            "execution_count": 7
        },
        {
            "cell_type": "markdown",
            "source": [
                "# Analyze performance\n",
                "Now you can run Kusto queries to look for possible root causes for performance issues.\n",
                "\n",
                "Either click **Run All** above to run all sections, or scroll down to the type of analysis you want to do and manually run queries"
            ],
            "metadata": {
                "azdata_cell_guid": "5f9b698d-8a7e-4757-b27d-02f219d6c589",
                "extensions": {
                    "azuredatastudio": {
                        "views": []
                    }
                }
            }
        },
        {
            "cell_type": "markdown",
            "source": [
                "## Web service requests\n",
                "\n",
                "Excessive amounts of incoming web service requests or web service requests that takes a long time to run can impact performance. \n",
                "\n",
                "Guidelines  \n",
                "\n",
                "- If you see many calls using the SOAP protocol, consider moving towards OData or even APIs\n",
                "- If you see web service calls that take 10+ seconds, consider if these calls can introduce locking (because this could cause UI sessions to be slower)\n",
                "- If you see more than 5-10 web service calls per minut, consider if you can spread the calls out over the day instead (or check if you really need to call so frequent). \n",
                "\n",
                "Resources\n",
                "\n",
                "- Performance tuning guide: [https://docs.microsoft.com/en-us/dynamics365/business-central/dev-itpro/performance/performance-developer#writing-efficient-web-services](https://docs.microsoft.com/en-us/dynamics365/business-central/dev-itpro/performance/performance-developer#writing-efficient-web-services)\n",
                "- Web service telemetry docs: [https://docs.microsoft.com/en-us/dynamics365/business-central/dev-itpro/administration/telemetry-webservices-trace](https://docs.microsoft.com/en-us/dynamics365/business-central/dev-itpro/administration/telemetry-webservices-trace)\n",
                "- KQL samples: [https://github.com/microsoft/BCTech/blob/master/samples/AppInsights/KQL/RawData/WebServiceCalls.kql](https://github.com/microsoft/BCTech/blob/master/samples/AppInsights/KQL/RawData/WebServiceCalls.kql)"
            ],
            "metadata": {
                "azdata_cell_guid": "2f9c2d0d-df3c-482b-af58-48416a517117",
                "extensions": {
                    "azuredatastudio": {
                        "views": []
                    }
                }
            }
        },
        {
            "cell_type": "code",
            "source": [
                "%%kql\n",
                "let _aadTenantId = aadTenantId;\n",
                "let _environmentName = environmentName;\n",
                "let _extensionId = extensionId;\n",
                "let _startDate = startDate;\n",
                "let _endDate = endDate;\n",
                "traces\n",
                "| where 1==1 \n",
                "    and timestamp >= todatetime(_startDate)\n",
                "    and timestamp <= todatetime(_endDate) + totimespan(24h) - totimespan(1ms)   \n",
                "    and (_aadTenantId == '' or customDimensions.aadTenantId == _aadTenantId)\n",
                "    and (_environmentName == '' or customDimensions.environmentName == _environmentName )\n",
                "    and (_extensionId == '' or customDimensions.extensionId == _extensionId)    \n",
                "    and customDimensions.eventId == 'RT0008'\n",
                "| extend alObjectId = toint(customDimensions.alObjectId)\n",
                "| where alObjectId between (50000 .. 99999) or alObjectId between (1000000 .. 74999999)\n",
                "| extend category = tostring( customDimensions.category )\n",
                "| extend codeOwnership = case(\n",
                "      alObjectId between (50000 .. 99999), 'ENVIRONMENT'\n",
                "    , alObjectId between (1000000 .. 69999999), 'ISV_ONPREM'\n",
                "    , alObjectId between (70000000 .. 74999999), 'ISV_ONLINE'\n",
                "    , 'MICROSOFT'\n",
                ")\n",
                "| summarize request_count=count() by category, bin(timestamp, 1d)\n",
                "| render timechart title= 'Number of web service requests by category endpoints (in partner code)'"
            ],
            "metadata": {
                "azdata_cell_guid": "a9e923e9-1d05-4acf-a230-4c5142bc3582",
                "tags": [],
                "extensions": {
                    "azuredatastudio": {
                        "views": []
                    }
                }
            },
            "outputs": [
                {
                    "data": {
                        "text/plain": "<IPython.core.display.HTML object>",
                        "text/html": "<html>\n        <head>\n            \n            \n        </head>\n        <body>\n            <div><p style=' padding: 10px; color: #3a87ad; background-color: #d9edf7; border-color: #bce9f1'>&nbsp;*&nbsp;43d7cb5e-452b-4c08-93ca-a35109847936@applicationinsights</p></div>\n        </body>\n        </html>"
                    },
                    "metadata": {},
                    "output_type": "display_data"
                },
                {
                    "data": {
                        "text/plain": "<IPython.core.display.HTML object>",
                        "text/html": "<html>\n        <head>\n            <style>#uuid-49ab3d8dfd2a4c8ea068c9bfce78186d {\n                    display: block; \n                    font-style:italic;\n                    font-size:300%;\n                    text-align:center;\n                } </style>\n            <title>Kqlmagic - chart</title>\n        </head>\n        <body>\n            <div id=\"uuid-49ab3d8dfd2a4c8ea068c9bfce78186d\"><br><br>EMPTY CHART (no data)<br><br>.</div>\n        </body>\n        </html>"
                    },
                    "metadata": {},
                    "output_type": "display_data"
                },
                {
                    "data": {
                        "text/plain": "<IPython.core.display.HTML object>",
                        "text/html": "<html>\n        <head>\n            \n            \n        </head>\n        <body>\n            <div><p style=' padding: 10px; color: #3a87ad; background-color: #d9edf7; border-color: #bce9f1'>Done&nbsp;(00:01.570):&nbsp;0&nbsp;records</p></div>\n        </body>\n        </html>"
                    },
                    "metadata": {},
                    "output_type": "display_data"
                },
                {
                    "data": {
                        "text/plain": "[]",
                        "text/html": ""
                    },
                    "metadata": {},
                    "execution_count": 8,
                    "output_type": "execute_result"
                }
            ],
            "execution_count": 8
        },
        {
            "cell_type": "code",
            "source": [
                "%%kql\n",
                "let _aadTenantId = aadTenantId;\n",
                "let _environmentName = environmentName;\n",
                "let _extensionId = extensionId;\n",
                "let _startDate = startDate;\n",
                "let _endDate = endDate;\n",
                "traces\n",
                "| where 1==1 \n",
                "    and timestamp >= todatetime(_startDate)\n",
                "    and timestamp <= todatetime(_endDate) + totimespan(24h) - totimespan(1ms)   \n",
                "    and (_aadTenantId == '' or customDimensions.aadTenantId == _aadTenantId)\n",
                "    and (_environmentName == '' or customDimensions.environmentName == _environmentName )\n",
                "    and (_extensionId == '' or customDimensions.extensionId == _extensionId)    \n",
                "    and customDimensions.eventId == 'RT0008'\n",
                "| extend alObjectId = toint(customDimensions.alObjectId)\n",
                "| where alObjectId between (50000 .. 99999) or alObjectId between (1000000 .. 74999999)\n",
                "| extend category = tostring( customDimensions.category )\n",
                "       , executionTimeInMS = toreal(totimespan(customDimensions.serverExecutionTime))/10000 //the datatype for executionTime is timespan \n",
                "| extend codeOwnership = case(\n",
                "      alObjectId between (50000 .. 99999), 'ENVIRONMENT'\n",
                "    , alObjectId between (1000000 .. 69999999), 'ISV_ONPREM'\n",
                "    , alObjectId between (70000000 .. 74999999), 'ISV_ONLINE'\n",
                "    , 'MICROSOFT'\n",
                ")\n",
                "| where executionTimeInMS <= 10000 // only include ws calls with execution time <= 10 sec\n",
                "| summarize count() by executionTime_ms = bin(executionTimeInMS, 100), category\n",
                "| extend log_count = log10(count_)\n",
                "| order by category, executionTime_ms asc\n",
                "| render columnchart with  (ycolumns = log_count, ytitle='Log10(count)', series = category, title= 'Execution time (in ms) of normal web service requests by category (in partner code)' ) "
            ],
            "metadata": {
                "azdata_cell_guid": "e4e56e1a-ab5d-427a-bc49-747e6ae34a75",
                "extensions": {
                    "azuredatastudio": {
                        "views": []
                    }
                }
            },
            "outputs": [
                {
                    "data": {
                        "text/plain": "<IPython.core.display.HTML object>",
                        "text/html": "<html>\n        <head>\n            \n            \n        </head>\n        <body>\n            <div><p style=' padding: 10px; color: #3a87ad; background-color: #d9edf7; border-color: #bce9f1'>&nbsp;*&nbsp;43d7cb5e-452b-4c08-93ca-a35109847936@applicationinsights</p></div>\n        </body>\n        </html>"
                    },
                    "metadata": {},
                    "output_type": "display_data"
                },
                {
                    "data": {
                        "text/plain": "<IPython.core.display.HTML object>",
                        "text/html": "<html>\n        <head>\n            <style>#uuid-ddd403eaa754483c85c004d433fcff1e {\n                    display: block; \n                    font-style:italic;\n                    font-size:300%;\n                    text-align:center;\n                } </style>\n            <title>Kqlmagic - chart</title>\n        </head>\n        <body>\n            <div id=\"uuid-ddd403eaa754483c85c004d433fcff1e\"><br><br>EMPTY CHART (no data)<br><br>.</div>\n        </body>\n        </html>"
                    },
                    "metadata": {},
                    "output_type": "display_data"
                },
                {
                    "data": {
                        "text/plain": "<IPython.core.display.HTML object>",
                        "text/html": "<html>\n        <head>\n            \n            \n        </head>\n        <body>\n            <div><p style=' padding: 10px; color: #3a87ad; background-color: #d9edf7; border-color: #bce9f1'>Done&nbsp;(00:01.632):&nbsp;0&nbsp;records</p></div>\n        </body>\n        </html>"
                    },
                    "metadata": {},
                    "output_type": "display_data"
                },
                {
                    "data": {
                        "text/plain": "[]",
                        "text/html": ""
                    },
                    "metadata": {},
                    "execution_count": 9,
                    "output_type": "execute_result"
                }
            ],
            "execution_count": 9
        },
        {
            "cell_type": "code",
            "source": [
                "%%kql\n",
                "let _aadTenantId = aadTenantId;\n",
                "let _environmentName = environmentName;\n",
                "let _extensionId = extensionId;\n",
                "let _startDate = startDate;\n",
                "let _endDate = endDate;\n",
                "traces\n",
                "| where 1==1 \n",
                "    and timestamp >= todatetime(_startDate)\n",
                "    and timestamp <= todatetime(_endDate) + totimespan(24h) - totimespan(1ms)   \n",
                "    and (_aadTenantId == '' or customDimensions.aadTenantId == _aadTenantId)\n",
                "    and (_environmentName == '' or customDimensions.environmentName == _environmentName )\n",
                "    and (_extensionId == '' or customDimensions.extensionId == _extensionId)    \n",
                "    and customDimensions.eventId == 'RT0008'\n",
                "| extend alObjectId = toint(customDimensions.alObjectId)\n",
                "| where alObjectId between (50000 .. 99999) or alObjectId between (1000000 .. 74999999)\n",
                "| extend category = tostring( customDimensions.category )\n",
                "       , executionTimeInSec = toreal(totimespan(customDimensions.serverExecutionTime))/10000 /1000 //the datatype for executionTime is timespan \n",
                "| extend codeOwnership = case(\n",
                "      alObjectId between (50000 .. 99999), 'ENVIRONMENT'\n",
                "    , alObjectId between (1000000 .. 69999999), 'ISV_ONPREM'\n",
                "    , alObjectId between (70000000 .. 74999999), 'ISV_ONLINE'\n",
                "    , 'MICROSOFT'\n",
                ")\n",
                "| where executionTimeInSec > 10 // only include ws calls with execution time > 10 sec\n",
                "| summarize count() by executionTime_sec = bin(executionTimeInSec, 10), category\n",
                "| extend log_count = log10(count_)\n",
                "| order by category, executionTime_sec asc\n",
                "| render columnchart with  (ycolumns = log_count, ytitle='log10(count)', series = category, title= 'Execution time (in sec) of slow web service requests by category (in partner code)' ) "
            ],
            "metadata": {
                "azdata_cell_guid": "d2045846-702e-4d8f-9836-3df55405c404",
                "extensions": {
                    "azuredatastudio": {
                        "views": []
                    }
                }
            },
            "outputs": [
                {
                    "data": {
                        "text/plain": "<IPython.core.display.HTML object>",
                        "text/html": "<html>\n        <head>\n            \n            \n        </head>\n        <body>\n            <div><p style=' padding: 10px; color: #3a87ad; background-color: #d9edf7; border-color: #bce9f1'>&nbsp;*&nbsp;43d7cb5e-452b-4c08-93ca-a35109847936@applicationinsights</p></div>\n        </body>\n        </html>"
                    },
                    "metadata": {},
                    "output_type": "display_data"
                },
                {
                    "data": {
                        "text/plain": "<IPython.core.display.HTML object>",
                        "text/html": "<html>\n        <head>\n            <style>#uuid-ed68d51febc94b9994721d905e397b47 {\n                    display: block; \n                    font-style:italic;\n                    font-size:300%;\n                    text-align:center;\n                } </style>\n            <title>Kqlmagic - chart</title>\n        </head>\n        <body>\n            <div id=\"uuid-ed68d51febc94b9994721d905e397b47\"><br><br>EMPTY CHART (no data)<br><br>.</div>\n        </body>\n        </html>"
                    },
                    "metadata": {},
                    "output_type": "display_data"
                },
                {
                    "data": {
                        "text/plain": "<IPython.core.display.HTML object>",
                        "text/html": "<html>\n        <head>\n            \n            \n        </head>\n        <body>\n            <div><p style=' padding: 10px; color: #3a87ad; background-color: #d9edf7; border-color: #bce9f1'>Done&nbsp;(00:01.095):&nbsp;0&nbsp;records</p></div>\n        </body>\n        </html>"
                    },
                    "metadata": {},
                    "output_type": "display_data"
                },
                {
                    "data": {
                        "text/plain": "[]",
                        "text/html": ""
                    },
                    "metadata": {},
                    "execution_count": 10,
                    "output_type": "execute_result"
                }
            ],
            "execution_count": 10
        },
        {
            "cell_type": "code",
            "source": [
                "%%kql\n",
                "// \n",
                "// top 20 most expensive web service calls (partner code)\n",
                "// \n",
                "let _aadTenantId = aadTenantId;\n",
                "let _environmentName = environmentName;\n",
                "let _extensionId = extensionId;\n",
                "let _startDate = startDate;\n",
                "let _endDate = endDate;\n",
                "traces\n",
                "| where 1==1 \n",
                "    and timestamp >= todatetime(_startDate)\n",
                "    and timestamp <= todatetime(_endDate) + totimespan(24h) - totimespan(1ms)   \n",
                "    and (_aadTenantId == '' or customDimensions.aadTenantId == _aadTenantId)\n",
                "    and (_environmentName == '' or customDimensions.environmentName == _environmentName )\n",
                "    and (_extensionId == '' or customDimensions.extensionId == _extensionId)    \n",
                "    and customDimensions.eventId == 'RT0008'\n",
                "| extend alObjectId = toint(customDimensions.alObjectId)\n",
                "| where alObjectId between (50000 .. 99999) or alObjectId between (1000000 .. 74999999)\n",
                "| extend category = tostring( customDimensions.category )\n",
                "       , endpoint = tostring( customDimensions.endpoint )\n",
                "       , executionTimeInMS = toreal(totimespan(customDimensions.serverExecutionTime))/10000 //the datatype for executionTime is timespan \n",
                "| extend codeOwnership = case(\n",
                "      alObjectId between (50000 .. 99999), 'ENVIRONMENT'\n",
                "    , alObjectId between (1000000 .. 69999999), 'ISV_ONPREM'\n",
                "    , alObjectId between (70000000 .. 74999999), 'ISV_ONLINE'\n",
                "    , 'MICROSOFT'\n",
                ")\n",
                "| summarize count=count(), medianExecutionTimeInMS=percentile(executionTimeInMS, 50) by alObjectId, category, endpoint\n",
                "| order by medianExecutionTimeInMS desc\n",
                "| limit 20"
            ],
            "metadata": {
                "azdata_cell_guid": "e7a06658-0325-433a-94ff-3ab5c0a2eb67",
                "extensions": {
                    "azuredatastudio": {
                        "views": []
                    }
                }
            },
            "outputs": [
                {
                    "data": {
                        "text/plain": "<IPython.core.display.HTML object>",
                        "text/html": "<html>\n        <head>\n            \n            \n        </head>\n        <body>\n            <div><p style=' padding: 10px; color: #3a87ad; background-color: #d9edf7; border-color: #bce9f1'>&nbsp;*&nbsp;43d7cb5e-452b-4c08-93ca-a35109847936@applicationinsights</p></div>\n        </body>\n        </html>"
                    },
                    "metadata": {},
                    "output_type": "display_data"
                },
                {
                    "data": {
                        "text/plain": "Empty DataFrame\nColumns: [alObjectId, category, endpoint, count, medianExecutionTimeInMS]\nIndex: []",
                        "text/html": "<div>\n<style scoped>\n    .dataframe tbody tr th:only-of-type {\n        vertical-align: middle;\n    }\n\n    .dataframe tbody tr th {\n        vertical-align: top;\n    }\n\n    .dataframe thead th {\n        text-align: right;\n    }\n</style>\n<table border=\"1\" class=\"dataframe\">\n  <thead>\n    <tr style=\"text-align: right;\">\n      <th></th>\n      <th>alObjectId</th>\n      <th>category</th>\n      <th>endpoint</th>\n      <th>count</th>\n      <th>medianExecutionTimeInMS</th>\n    </tr>\n  </thead>\n  <tbody>\n  </tbody>\n</table>\n</div>",
                        "application/vnd.dataresource+json": {
                            "schema": {
                                "fields": [
                                    {
                                        "name": "alObjectId",
                                        "type": "integer"
                                    },
                                    {
                                        "name": "category",
                                        "type": "string"
                                    },
                                    {
                                        "name": "endpoint",
                                        "type": "string"
                                    },
                                    {
                                        "name": "count",
                                        "type": "integer"
                                    },
                                    {
                                        "name": "medianExecutionTimeInMS",
                                        "type": "number"
                                    }
                                ],
                                "kqmagic_version": "0.1.114"
                            },
                            "data": []
                        }
                    },
                    "metadata": {},
                    "output_type": "display_data"
                },
                {
                    "data": {
                        "text/plain": "<IPython.core.display.HTML object>",
                        "text/html": "<html>\n        <head>\n            \n            \n        </head>\n        <body>\n            <div><p style=' padding: 10px; color: #3a87ad; background-color: #d9edf7; border-color: #bce9f1'>Done&nbsp;(00:01.002):&nbsp;0&nbsp;records</p></div>\n        </body>\n        </html>"
                    },
                    "metadata": {},
                    "output_type": "display_data"
                },
                {
                    "data": {
                        "text/plain": "[]",
                        "text/html": ""
                    },
                    "metadata": {},
                    "execution_count": 11,
                    "output_type": "execute_result"
                }
            ],
            "execution_count": 11
        },
        {
            "cell_type": "markdown",
            "source": [
                "## (Outgoing) web service requests overview \n",
                "Outgoing web service calls (calls to the HttpClient module from AL) are blocking calls with respect to AL execution. This means that the page will be unresponsive until the server receives a response from the remote service being called.\n",
                "Guidelines  \n",
                "- If you see outgoing calls with HTTP status codes outside the 2xx range, then this indicates an error either in the service being called or in the AL code calling it.\n",
                "- If you see outgoing calls that take longer than a few seconds and if the code calling out is on a UI page, consider putting that call in a page background task to unblock the UI.\n",
                "  \n",
                "Resources\n",
                "- Performance tuning guide: [https://docs.microsoft.com/en-us/dynamics365/business-central/dev-itpro/performance/performance-developer#web-service-client-performance](https://docs.microsoft.com/en-us/dynamics365/business-central/dev-itpro/performance/performance-developer#writing-efficient-web-services)\n",
                "- Outgoing Web service telemetry docs: [https://docs.microsoft.com/en-us/dynamics365/business-central/dev-itpro/administration/telemetry-webservices-outgoing-trace](https://docs.microsoft.com/en-us/dynamics365/business-central/dev-itpro/administration/telemetry-webservices-outgoing-trace) \n",
                "- KQL sample: [https://github.com/microsoft/BCTech/blob/master/samples/AppInsights/KQL/RawData/OutGoingWebServiceCalls.kql](https://github.com/microsoft/BCTech/blob/master/samples/AppInsights/KQL/RawData/OutGoingWebServiceCalls.kql)\n",
                "- Explanation of different HTTP status codes: [https://en.wikipedia.org/wiki/List\\_of\\_HTTP\\_status\\_codes](https://en.wikipedia.org/wiki/List_of_HTTP_status_codes)"
            ],
            "metadata": {
                "azdata_cell_guid": "adb3d2f9-5e04-490e-994d-a713e26599cf",
                "extensions": {
                    "azuredatastudio": {
                        "views": []
                    }
                }
            }
        },
        {
            "cell_type": "code",
            "source": [
                "%%kql\n",
                "let _aadTenantId = aadTenantId;\n",
                "let _environmentName = environmentName;\n",
                "let _extensionId = extensionId;\n",
                "let _startDate = startDate;\n",
                "let _endDate = endDate;\n",
                "traces\n",
                "| where 1==1 \n",
                "    and timestamp >= todatetime(_startDate)\n",
                "    and timestamp <= todatetime(_endDate) + totimespan(24h) - totimespan(1ms)    \n",
                "    and (_aadTenantId == '' or customDimensions.aadTenantId == _aadTenantId)\n",
                "    and (_environmentName == '' or customDimensions.environmentName == _environmentName )\n",
                "    and (_extensionId == '' or customDimensions.extensionId == _extensionId)    \n",
                "    and customDimensions.eventId == 'RT0019'\n",
                "| extend alObjectId = toint(customDimensions.alObjectId)    \n",
                "| where alObjectId between (50000 .. 99999) or alObjectId between (1000000 .. 74999999)\n",
                "| extend httpStatusCode = tostring( customDimensions.httpReturnCode )\n",
                "| extend codeOwnership = case(\n",
                "      alObjectId between (50000 .. 99999), 'ENVIRONMENT'\n",
                "    , alObjectId between (1000000 .. 69999999), 'ISV_ONPREM'\n",
                "    , alObjectId between (70000000 .. 74999999), 'ISV_ONLINE'\n",
                "    , 'MICROSOFT'\n",
                ")\n",
                "| summarize request_count=count() by httpStatusCode, bin(timestamp, 1d)\n",
                "| order by httpStatusCode asc\n",
                "| render timechart title= 'Number of outgoing web service requests by HTTP status code (partner code)'"
            ],
            "metadata": {
                "azdata_cell_guid": "fcc199b3-9dea-46b1-ab7b-8b578528b4d1",
                "extensions": {
                    "azuredatastudio": {
                        "views": []
                    }
                }
            },
            "outputs": [
                {
                    "data": {
                        "text/plain": "<IPython.core.display.HTML object>",
                        "text/html": "<html>\n        <head>\n            \n            \n        </head>\n        <body>\n            <div><p style=' padding: 10px; color: #3a87ad; background-color: #d9edf7; border-color: #bce9f1'>&nbsp;*&nbsp;43d7cb5e-452b-4c08-93ca-a35109847936@applicationinsights</p></div>\n        </body>\n        </html>"
                    },
                    "metadata": {},
                    "output_type": "display_data"
                },
                {
                    "data": {
                        "text/plain": "<IPython.core.display.HTML object>",
                        "text/html": "<html>\n        <head>\n            <style>#uuid-20316501024949d69462316506384522 {\n                    display: block; \n                    font-style:italic;\n                    font-size:300%;\n                    text-align:center;\n                } </style>\n            <title>Kqlmagic - chart</title>\n        </head>\n        <body>\n            <div id=\"uuid-20316501024949d69462316506384522\"><br><br>EMPTY CHART (no data)<br><br>.</div>\n        </body>\n        </html>"
                    },
                    "metadata": {},
                    "output_type": "display_data"
                },
                {
                    "data": {
                        "text/plain": "<IPython.core.display.HTML object>",
                        "text/html": "<html>\n        <head>\n            \n            \n        </head>\n        <body>\n            <div><p style=' padding: 10px; color: #3a87ad; background-color: #d9edf7; border-color: #bce9f1'>Done&nbsp;(00:01.173):&nbsp;0&nbsp;records</p></div>\n        </body>\n        </html>"
                    },
                    "metadata": {},
                    "output_type": "display_data"
                },
                {
                    "data": {
                        "text/plain": "[]",
                        "text/html": ""
                    },
                    "metadata": {},
                    "execution_count": 12,
                    "output_type": "execute_result"
                }
            ],
            "execution_count": 12
        },
        {
            "cell_type": "code",
            "source": [
                "%%kql\n",
                "let _aadTenantId = aadTenantId;\n",
                "let _environmentName = environmentName;\n",
                "let _extensionId = extensionId;\n",
                "let _startDate = startDate;\n",
                "let _endDate = endDate;\n",
                "traces\n",
                "| where 1==1 \n",
                "    and timestamp >= todatetime(_startDate)\n",
                "    and timestamp <= todatetime(_endDate) + totimespan(24h) - totimespan(1ms)        \n",
                "    and (_aadTenantId == '' or customDimensions.aadTenantId == _aadTenantId)\n",
                "    and (_environmentName == '' or customDimensions.environmentName == _environmentName )\n",
                "    and (_extensionId == '' or customDimensions.extensionId == _extensionId)    \n",
                "    and customDimensions.eventId == 'RT0019'\n",
                "| extend httpMethod = tostring( toupper( customDimensions.httpMethod ) )\n",
                "       , executionTimeInSec = toreal(totimespan(customDimensions.serverExecutionTime))/10000 /1000 //the datatype for executionTime is timespan \n",
                "| extend alObjectId = toint(customDimensions.alObjectId)    \n",
                "| where alObjectId between (50000 .. 99999) or alObjectId between (1000000 .. 74999999)\n",
                "| extend httpStatusCode = tostring( customDimensions.httpReturnCode )\n",
                "| extend codeOwnership = case(\n",
                "      alObjectId between (50000 .. 99999), 'ENVIRONMENT'\n",
                "    , alObjectId between (1000000 .. 69999999), 'ISV_ONPREM'\n",
                "    , alObjectId between (70000000 .. 74999999), 'ISV_ONLINE'\n",
                "    , 'MICROSOFT'\n",
                ")\n",
                "| where executionTimeInSec <= 10\n",
                "| summarize count() by executionTime_sec = bin(executionTimeInSec, 1), httpMethod\n",
                "| extend log_count = log10( count_ )\n",
                "| order by httpMethod, executionTime_sec asc\n",
                "| render columnchart with  (ycolumns = log_count, ytitle='log(count)', series = httpMethod, title= 'Execution time (seconds) of \"normal\" outgoing ws requests by method' ) \n",
                ""
            ],
            "metadata": {
                "azdata_cell_guid": "3e6e498d-29d5-4f9c-83c7-f0fd4345279a",
                "extensions": {
                    "azuredatastudio": {
                        "views": []
                    }
                }
            },
            "outputs": [
                {
                    "data": {
                        "text/plain": "<IPython.core.display.HTML object>",
                        "text/html": "<html>\n        <head>\n            \n            \n        </head>\n        <body>\n            <div><p style=' padding: 10px; color: #3a87ad; background-color: #d9edf7; border-color: #bce9f1'>&nbsp;*&nbsp;43d7cb5e-452b-4c08-93ca-a35109847936@applicationinsights</p></div>\n        </body>\n        </html>"
                    },
                    "metadata": {},
                    "output_type": "display_data"
                },
                {
                    "data": {
                        "text/plain": "<IPython.core.display.HTML object>",
                        "text/html": "<html>\n        <head>\n            <style>#uuid-e14410512f1b4522906d0c9c38373b52 {\n                    display: block; \n                    font-style:italic;\n                    font-size:300%;\n                    text-align:center;\n                } </style>\n            <title>Kqlmagic - chart</title>\n        </head>\n        <body>\n            <div id=\"uuid-e14410512f1b4522906d0c9c38373b52\"><br><br>EMPTY CHART (no data)<br><br>.</div>\n        </body>\n        </html>"
                    },
                    "metadata": {},
                    "output_type": "display_data"
                },
                {
                    "data": {
                        "text/plain": "<IPython.core.display.HTML object>",
                        "text/html": "<html>\n        <head>\n            \n            \n        </head>\n        <body>\n            <div><p style=' padding: 10px; color: #3a87ad; background-color: #d9edf7; border-color: #bce9f1'>Done&nbsp;(00:01.062):&nbsp;0&nbsp;records</p></div>\n        </body>\n        </html>"
                    },
                    "metadata": {},
                    "output_type": "display_data"
                },
                {
                    "data": {
                        "text/plain": "[]",
                        "text/html": ""
                    },
                    "metadata": {},
                    "execution_count": 13,
                    "output_type": "execute_result"
                }
            ],
            "execution_count": 13
        },
        {
            "cell_type": "code",
            "source": [
                "%%kql\n",
                "let _aadTenantId = aadTenantId;\n",
                "let _environmentName = environmentName;\n",
                "let _extensionId = extensionId;\n",
                "let _startDate = startDate;\n",
                "let _endDate = endDate;\n",
                "traces\n",
                "| where 1==1 \n",
                "    and timestamp >= todatetime(_startDate)\n",
                "    and timestamp <= todatetime(_endDate) + totimespan(24h) - totimespan(1ms)        \n",
                "    and (_aadTenantId == '' or customDimensions.aadTenantId == _aadTenantId)\n",
                "    and (_environmentName == '' or customDimensions.environmentName == _environmentName )\n",
                "    and (_extensionId == '' or customDimensions.extensionId == _extensionId)    \n",
                "    and customDimensions.eventId == 'RT0019'\n",
                "| extend httpMethod = tostring( toupper( customDimensions.httpMethod ) )\n",
                "       , executionTimeInSec = toreal(totimespan(customDimensions.serverExecutionTime))/10000 /1000 //the datatype for executionTime is timespan \n",
                "| extend alObjectId = toint(customDimensions.alObjectId)    \n",
                "| where alObjectId between (50000 .. 99999) or alObjectId between (1000000 .. 74999999)\n",
                "| extend httpStatusCode = tostring( customDimensions.httpReturnCode )\n",
                "| extend codeOwnership = case(\n",
                "      alObjectId between (50000 .. 99999), 'ENVIRONMENT'\n",
                "    , alObjectId between (1000000 .. 69999999), 'ISV_ONPREM'\n",
                "    , alObjectId between (70000000 .. 74999999), 'ISV_ONLINE'\n",
                "    , 'MICROSOFT'\n",
                ")\n",
                "| where executionTimeInSec > 10\n",
                "| summarize count() by executionTime_sec = bin(executionTimeInSec, 10), httpMethod\n",
                "| extend log_count = log10( count_ )\n",
                "| order by httpMethod, executionTime_sec asc\n",
                "| render columnchart with  (ycolumns = log_count, ytitle='log10(count)', series = httpMethod, title= 'Execution time (seconds) of slow outgoing ws requests by method' ) \n",
                ""
            ],
            "metadata": {
                "azdata_cell_guid": "a28e20fe-952e-45de-ae1f-fc9651502d64",
                "extensions": {
                    "azuredatastudio": {
                        "views": []
                    }
                }
            },
            "outputs": [
                {
                    "data": {
                        "text/plain": "<IPython.core.display.HTML object>",
                        "text/html": "<html>\n        <head>\n            \n            \n        </head>\n        <body>\n            <div><p style=' padding: 10px; color: #3a87ad; background-color: #d9edf7; border-color: #bce9f1'>&nbsp;*&nbsp;43d7cb5e-452b-4c08-93ca-a35109847936@applicationinsights</p></div>\n        </body>\n        </html>"
                    },
                    "metadata": {},
                    "output_type": "display_data"
                },
                {
                    "data": {
                        "text/plain": "<IPython.core.display.HTML object>",
                        "text/html": "<html>\n        <head>\n            <style>#uuid-954c46cc901c463b8931a00aa262c808 {\n                    display: block; \n                    font-style:italic;\n                    font-size:300%;\n                    text-align:center;\n                } </style>\n            <title>Kqlmagic - chart</title>\n        </head>\n        <body>\n            <div id=\"uuid-954c46cc901c463b8931a00aa262c808\"><br><br>EMPTY CHART (no data)<br><br>.</div>\n        </body>\n        </html>"
                    },
                    "metadata": {},
                    "output_type": "display_data"
                },
                {
                    "data": {
                        "text/plain": "<IPython.core.display.HTML object>",
                        "text/html": "<html>\n        <head>\n            \n            \n        </head>\n        <body>\n            <div><p style=' padding: 10px; color: #3a87ad; background-color: #d9edf7; border-color: #bce9f1'>Done&nbsp;(00:00.942):&nbsp;0&nbsp;records</p></div>\n        </body>\n        </html>"
                    },
                    "metadata": {},
                    "output_type": "display_data"
                },
                {
                    "data": {
                        "text/plain": "[]",
                        "text/html": ""
                    },
                    "metadata": {},
                    "execution_count": 14,
                    "output_type": "execute_result"
                }
            ],
            "execution_count": 14
        },
        {
            "cell_type": "code",
            "source": [
                "%%kql\n",
                "//\n",
                "// Top 20 most expensive outgoing calls\n",
                "//\n",
                "// Includes descriptive statistics avg, min, max, and 95 percentile for execution time and number of calls\n",
                "//\n",
                "let _aadTenantId = aadTenantId;\n",
                "let _environmentName = environmentName;\n",
                "let _extensionId = extensionId;\n",
                "let _startDate = startDate;\n",
                "let _endDate = endDate;\n",
                "traces\n",
                "| where 1==1 \n",
                "    and timestamp >= todatetime(_startDate)\n",
                "    and timestamp <= todatetime(_endDate) + totimespan(24h) - totimespan(1ms)    \n",
                "    and (_aadTenantId == '' or customDimensions.aadTenantId == _aadTenantId)\n",
                "    and (_environmentName == '' or customDimensions.environmentName == _environmentName )\n",
                "    and (_extensionId == '' or customDimensions.extensionId == _extensionId)    \n",
                "    and customDimensions.eventId == 'RT0019'\n",
                "| extend httpMethod = tostring( toupper( customDimensions.httpMethod ) )\n",
                "       , executionTimeInMS = toreal(totimespan(customDimensions.serverExecutionTime))/10000 //the datatype for executionTime is timespan \n",
                "       , alObjectId = tostring( customDimensions.alObjectId )\n",
                "       , alObjectName = tostring( customDimensions.alObjectName )\n",
                "       , alObjectType = tostring( customDimensions.alObjectType )\n",
                ", endpoint = tostring( customDimensions.endpoint )\n",
                ", extensionId = tostring( customDimensions.extensionId )\n",
                ", extensionName = tostring( customDimensions.extensionName )\n",
                ", extensionVersion = tostring( customDimensions.extensionVersion )\n",
                "| extend alObjectId = toint(customDimensions.alObjectId)    \n",
                "| where alObjectId between (50000 .. 99999) or alObjectId between (1000000 .. 74999999)\n",
                "| extend httpStatusCode = tostring( customDimensions.httpReturnCode )\n",
                "| extend codeOwnership = case(\n",
                "      alObjectId between (50000 .. 99999), 'ENVIRONMENT'\n",
                "    , alObjectId between (1000000 .. 69999999), 'ISV_ONPREM'\n",
                "    , alObjectId between (70000000 .. 74999999), 'ISV_ONLINE'\n",
                "    , 'MICROSOFT'\n",
                ")\n",
                "| summarize avg(executionTimeInMS), min(executionTimeInMS), max(executionTimeInMS),percentile(executionTimeInMS,95), count() by \n",
                "  httpMethod\n",
                ", alObjectId, alObjectName, alObjectType, codeOwnership\n",
                ", extensionId, extensionName, extensionVersion\n",
                ", endpoint\n",
                "| order by avg_executionTimeInMS desc\n",
                "| project avg_timeInSec=round(avg_executionTimeInMS/1000,2)\n",
                ", min_timeInSec=round(min_executionTimeInMS/1000,2)\n",
                ", max_timeInSec=round(max_executionTimeInMS/1000,2)\n",
                ", perc_95InSec=round(percentile_executionTimeInMS_95/1000,2), count_\n",
                ", alObjectId, alObjectName, alObjectType, codeOwnership\n",
                ", extensionId, extensionName, extensionVersion, httpMethod, endpoint\n",
                "| limit 20"
            ],
            "metadata": {
                "azdata_cell_guid": "5e3ced4d-acd0-41f7-8ba9-a82af662dd1a",
                "extensions": {
                    "azuredatastudio": {
                        "views": []
                    }
                }
            },
            "outputs": [
                {
                    "data": {
                        "text/plain": "<IPython.core.display.HTML object>",
                        "text/html": "<html>\n        <head>\n            \n            \n        </head>\n        <body>\n            <div><p style=' padding: 10px; color: #3a87ad; background-color: #d9edf7; border-color: #bce9f1'>&nbsp;*&nbsp;43d7cb5e-452b-4c08-93ca-a35109847936@applicationinsights</p></div>\n        </body>\n        </html>"
                    },
                    "metadata": {},
                    "output_type": "display_data"
                },
                {
                    "data": {
                        "text/plain": "Empty DataFrame\nColumns: [avg_timeInSec, min_timeInSec, max_timeInSec, perc_95InSec, count_, alObjectId, alObjectName, alObjectType, codeOwnership, extensionId, extensionName, extensionVersion, httpMethod, endpoint]\nIndex: []",
                        "text/html": "<div>\n<style scoped>\n    .dataframe tbody tr th:only-of-type {\n        vertical-align: middle;\n    }\n\n    .dataframe tbody tr th {\n        vertical-align: top;\n    }\n\n    .dataframe thead th {\n        text-align: right;\n    }\n</style>\n<table border=\"1\" class=\"dataframe\">\n  <thead>\n    <tr style=\"text-align: right;\">\n      <th></th>\n      <th>avg_timeInSec</th>\n      <th>min_timeInSec</th>\n      <th>max_timeInSec</th>\n      <th>perc_95InSec</th>\n      <th>count_</th>\n      <th>alObjectId</th>\n      <th>alObjectName</th>\n      <th>alObjectType</th>\n      <th>codeOwnership</th>\n      <th>extensionId</th>\n      <th>extensionName</th>\n      <th>extensionVersion</th>\n      <th>httpMethod</th>\n      <th>endpoint</th>\n    </tr>\n  </thead>\n  <tbody>\n  </tbody>\n</table>\n</div>",
                        "application/vnd.dataresource+json": {
                            "schema": {
                                "fields": [
                                    {
                                        "name": "avg_timeInSec",
                                        "type": "number"
                                    },
                                    {
                                        "name": "min_timeInSec",
                                        "type": "number"
                                    },
                                    {
                                        "name": "max_timeInSec",
                                        "type": "number"
                                    },
                                    {
                                        "name": "perc_95InSec",
                                        "type": "number"
                                    },
                                    {
                                        "name": "count_",
                                        "type": "integer"
                                    },
                                    {
                                        "name": "alObjectId",
                                        "type": "integer"
                                    },
                                    {
                                        "name": "alObjectName",
                                        "type": "string"
                                    },
                                    {
                                        "name": "alObjectType",
                                        "type": "string"
                                    },
                                    {
                                        "name": "codeOwnership",
                                        "type": "string"
                                    },
                                    {
                                        "name": "extensionId",
                                        "type": "string"
                                    },
                                    {
                                        "name": "extensionName",
                                        "type": "string"
                                    },
                                    {
                                        "name": "extensionVersion",
                                        "type": "string"
                                    },
                                    {
                                        "name": "httpMethod",
                                        "type": "string"
                                    },
                                    {
                                        "name": "endpoint",
                                        "type": "string"
                                    }
                                ],
                                "kqmagic_version": "0.1.114"
                            },
                            "data": []
                        }
                    },
                    "metadata": {},
                    "output_type": "display_data"
                },
                {
                    "data": {
                        "text/plain": "<IPython.core.display.HTML object>",
                        "text/html": "<html>\n        <head>\n            \n            \n        </head>\n        <body>\n            <div><p style=' padding: 10px; color: #3a87ad; background-color: #d9edf7; border-color: #bce9f1'>Done&nbsp;(00:00.777):&nbsp;0&nbsp;records</p></div>\n        </body>\n        </html>"
                    },
                    "metadata": {},
                    "output_type": "display_data"
                },
                {
                    "data": {
                        "text/plain": "[]",
                        "text/html": ""
                    },
                    "metadata": {},
                    "execution_count": 15,
                    "output_type": "execute_result"
                }
            ],
            "execution_count": 15
        },
        {
            "cell_type": "markdown",
            "source": [
                "## Data related\n",
                "A performance issue is in many cases caused by long running SQL queries or by database locking.\n",
                "  \n",
                "Guidelines\n",
                "- If you see long running queries that take more than a few seconds and this happens on a UI page, consider if you can rewrite the AL code to be more effecient. Most users can tolerate a page load time that takes up to 5 seconds for list pages and up to 2 seconds for card pages.\n",
                "- If you see database lock timeouts, this means that UI users see error messages. Try to find the code that takes the lock and rewrite it.\n",
                "- The performance tuning guide (see links below) contain a lot of advice on how to tune data access.\n",
                "  \n",
                "Resources\n",
                "- Performance tuning guide:\n",
                "    \n",
                "    - [Efficient data access](https://docs.microsoft.com/en-us/dynamics365/business-central/dev-itpro/performance/performance-developer#efficient-data-access)\n",
                "    - [Avoid locking](https://docs.microsoft.com/en-us/dynamics365/business-central/dev-itpro/performance/performance-application#avoid-locking)\n",
                "- Database telemetry docs\n",
                "    \n",
                "    - [https://docs.microsoft.com/en-us/dynamics365/business-central/dev-itpro/administration/telemetry-long-running-sql-query-trace](https://docs.microsoft.com/en-us/dynamics365/business-central/dev-itpro/administration/telemetry-long-running-sql-query-trace)\n",
                "    - [https://docs.microsoft.com/en-us/dynamics365/business-central/dev-itpro/administration/telemetry-database-locks-trace](https://docs.microsoft.com/en-us/dynamics365/business-central/dev-itpro/administration/telemetry-database-locks-trace)\n",
                "- Database telemetry\n",
                "    \n",
                "    - [https://docs.microsoft.com/en-us/dynamics365/business-central/dev-itpro/administration/telemetry-long-running-sql-query-trace](https://docs.microsoft.com/en-us/dynamics365/business-central/dev-itpro/administration/telemetry-long-running-sql-query-trace)\n",
                "    - [https://docs.microsoft.com/en-us/dynamics365/business-central/dev-itpro/administration/telemetry-database-locks-trace](https://docs.microsoft.com/en-us/dynamics365/business-central/dev-itpro/administration/telemetry-database-locks-trace)"
            ],
            "metadata": {
                "azdata_cell_guid": "2f7e604a-0d02-484e-9bcb-a6aa148d5f0b",
                "extensions": {
                    "azuredatastudio": {
                        "views": []
                    }
                }
            }
        },
        {
            "cell_type": "code",
            "source": [
                "%%kql\n",
                "let _aadTenantId = aadTenantId;\n",
                "let _environmentName = environmentName;\n",
                "let _extensionId = extensionId;\n",
                "let _startDate = startDate;\n",
                "let _endDate = endDate;\n",
                "traces\n",
                "| where 1==1 \n",
                "    and timestamp >= todatetime(_startDate)\n",
                "    and timestamp <= todatetime(_endDate) + totimespan(24h) - totimespan(1ms)   \n",
                "    and (_aadTenantId == '' or customDimensions.aadTenantId == _aadTenantId)\n",
                "    and (_environmentName == '' or customDimensions.environmentName == _environmentName )\n",
                "    and (_extensionId == '' or customDimensions.extensionId == _extensionId)    \n",
                "    and customDimensions.eventId == 'RT0005'\n",
                "| extend alObjectId = toint(customDimensions.alObjectId)\n",
                "| where alObjectId between (50000 .. 99999) or alObjectId between (1000000 .. 74999999)\n",
                "| extend codeOwnership = case(\n",
                "      alObjectId between (50000 .. 99999), 'ENVIRONMENT'\n",
                "    , alObjectId between (1000000 .. 69999999), 'ISV_ONPREM'\n",
                "    , alObjectId between (70000000 .. 74999999), 'ISV_ONLINE'\n",
                "    , 'MICROSOFT'\n",
                ")\n",
                "| summarize count() by bin(timestamp, 1d)\n",
                "| render timechart title= 'Number of long running SQL queries (in partner code)'"
            ],
            "metadata": {
                "azdata_cell_guid": "9ec9b678-7d66-4758-9101-4e9e5025dfcf",
                "tags": [],
                "extensions": {
                    "azuredatastudio": {
                        "views": []
                    }
                }
            },
            "outputs": [
                {
                    "data": {
                        "text/plain": "<IPython.core.display.HTML object>",
                        "text/html": "<html>\n        <head>\n            \n            \n        </head>\n        <body>\n            <div><p style=' padding: 10px; color: #3a87ad; background-color: #d9edf7; border-color: #bce9f1'>&nbsp;*&nbsp;43d7cb5e-452b-4c08-93ca-a35109847936@applicationinsights</p></div>\n        </body>\n        </html>"
                    },
                    "metadata": {},
                    "output_type": "display_data"
                },
                {
                    "data": {
                        "text/plain": "<IPython.core.display.HTML object>",
                        "text/html": "<html>\n        <head>\n            <style>#uuid-41ce6c8ac5b94fdf803082da1b13a022 {\n                    display: block; \n                    font-style:italic;\n                    font-size:300%;\n                    text-align:center;\n                } </style>\n            <title>Kqlmagic - chart</title>\n        </head>\n        <body>\n            <div id=\"uuid-41ce6c8ac5b94fdf803082da1b13a022\"><br><br>EMPTY CHART (no data)<br><br>.</div>\n        </body>\n        </html>"
                    },
                    "metadata": {},
                    "output_type": "display_data"
                },
                {
                    "data": {
                        "text/plain": "<IPython.core.display.HTML object>",
                        "text/html": "<html>\n        <head>\n            \n            \n        </head>\n        <body>\n            <div><p style=' padding: 10px; color: #3a87ad; background-color: #d9edf7; border-color: #bce9f1'>Done&nbsp;(00:00.903):&nbsp;0&nbsp;records</p></div>\n        </body>\n        </html>"
                    },
                    "metadata": {},
                    "output_type": "display_data"
                },
                {
                    "data": {
                        "text/plain": "[]",
                        "text/html": ""
                    },
                    "metadata": {},
                    "execution_count": 16,
                    "output_type": "execute_result"
                }
            ],
            "execution_count": 16
        },
        {
            "cell_type": "code",
            "source": [
                "%%kql\n",
                "// \n",
                "// top 20 most expensive long running sql queries (in partner code)\n",
                "// \n",
                "let _aadTenantId = aadTenantId;\n",
                "let _environmentName = environmentName;\n",
                "let _extensionId = extensionId;\n",
                "let _startDate = startDate;\n",
                "let _endDate = endDate;\n",
                "traces\n",
                "| where 1==1 \n",
                "    and timestamp >= todatetime(_startDate)\n",
                "    and timestamp <= todatetime(_endDate) + totimespan(24h) - totimespan(1ms)   \n",
                "    and (_aadTenantId == '' or customDimensions.aadTenantId == _aadTenantId)\n",
                "    and (_environmentName == '' or customDimensions.environmentName == _environmentName )\n",
                "    and (_extensionId == '' or customDimensions.extensionId == _extensionId)    \n",
                "    and customDimensions.eventId == 'RT0005'\n",
                "| extend alObjectId = toint(customDimensions.alObjectId)\n",
                "       , alObjectName = tostring(customDimensions.alObjectName)\n",
                "       , extensionId = tostring( customDimensions.extensionId )\n",
                "       , extensionName = tostring( customDimensions.extensionName )\n",
                "       , extensionVersion = tostring( customDimensions.extensionVersion )       \n",
                "       , executionTimeInSec = toreal(totimespan(customDimensions.executionTime))/10000/1000 //the datatype for executionTime is timespan \n",
                "| where alObjectId between (50000 .. 99999) or alObjectId between (1000000 .. 74999999)\n",
                "| extend codeOwnership = case(\n",
                "      alObjectId between (50000 .. 99999), 'ENVIRONMENT'\n",
                "    , alObjectId between (1000000 .. 69999999), 'ISV_ONPREM'\n",
                "    , alObjectId between (70000000 .. 74999999), 'ISV_ONLINE'\n",
                "    , 'MICROSOFT'\n",
                ")\n",
                "| summarize count(), avg(executionTimeInSec) by objectId=alObjectId, objectName=alObjectName, extensionId, extensionName, extensionVersion, codeOwnership\n",
                "| limit 20"
            ],
            "metadata": {
                "azdata_cell_guid": "36d2980d-2d0a-4066-957f-7648fe1b240b",
                "extensions": {
                    "azuredatastudio": {
                        "views": []
                    }
                }
            },
            "outputs": [
                {
                    "data": {
                        "text/plain": "<IPython.core.display.HTML object>",
                        "text/html": "<html>\n        <head>\n            \n            \n        </head>\n        <body>\n            <div><p style=' padding: 10px; color: #3a87ad; background-color: #d9edf7; border-color: #bce9f1'>&nbsp;*&nbsp;43d7cb5e-452b-4c08-93ca-a35109847936@applicationinsights</p></div>\n        </body>\n        </html>"
                    },
                    "metadata": {},
                    "output_type": "display_data"
                },
                {
                    "data": {
                        "text/plain": "Empty DataFrame\nColumns: [objectId, objectName, extensionId, extensionName, extensionVersion, codeOwnership, count_, avg_executionTimeInSec]\nIndex: []",
                        "text/html": "<div>\n<style scoped>\n    .dataframe tbody tr th:only-of-type {\n        vertical-align: middle;\n    }\n\n    .dataframe tbody tr th {\n        vertical-align: top;\n    }\n\n    .dataframe thead th {\n        text-align: right;\n    }\n</style>\n<table border=\"1\" class=\"dataframe\">\n  <thead>\n    <tr style=\"text-align: right;\">\n      <th></th>\n      <th>objectId</th>\n      <th>objectName</th>\n      <th>extensionId</th>\n      <th>extensionName</th>\n      <th>extensionVersion</th>\n      <th>codeOwnership</th>\n      <th>count_</th>\n      <th>avg_executionTimeInSec</th>\n    </tr>\n  </thead>\n  <tbody>\n  </tbody>\n</table>\n</div>",
                        "application/vnd.dataresource+json": {
                            "schema": {
                                "fields": [
                                    {
                                        "name": "objectId",
                                        "type": "integer"
                                    },
                                    {
                                        "name": "objectName",
                                        "type": "string"
                                    },
                                    {
                                        "name": "extensionId",
                                        "type": "string"
                                    },
                                    {
                                        "name": "extensionName",
                                        "type": "string"
                                    },
                                    {
                                        "name": "extensionVersion",
                                        "type": "string"
                                    },
                                    {
                                        "name": "codeOwnership",
                                        "type": "string"
                                    },
                                    {
                                        "name": "count_",
                                        "type": "integer"
                                    },
                                    {
                                        "name": "avg_executionTimeInSec",
                                        "type": "number"
                                    }
                                ],
                                "kqmagic_version": "0.1.114"
                            },
                            "data": []
                        }
                    },
                    "metadata": {},
                    "output_type": "display_data"
                },
                {
                    "data": {
                        "text/plain": "<IPython.core.display.HTML object>",
                        "text/html": "<html>\n        <head>\n            \n            \n        </head>\n        <body>\n            <div><p style=' padding: 10px; color: #3a87ad; background-color: #d9edf7; border-color: #bce9f1'>Done&nbsp;(00:00.972):&nbsp;0&nbsp;records</p></div>\n        </body>\n        </html>"
                    },
                    "metadata": {},
                    "output_type": "display_data"
                },
                {
                    "data": {
                        "text/plain": "[]",
                        "text/html": ""
                    },
                    "metadata": {},
                    "execution_count": 17,
                    "output_type": "execute_result"
                }
            ],
            "execution_count": 17
        },
        {
            "cell_type": "code",
            "source": [
                "%%kql\n",
                "let _aadTenantId = aadTenantId;\n",
                "let _environmentName = environmentName;\n",
                "let _extensionId = extensionId;\n",
                "let _startDate = startDate;\n",
                "let _endDate = endDate;\n",
                "traces\n",
                "| where 1==1 \n",
                "    and timestamp >= todatetime(_startDate)\n",
                "    and timestamp <= todatetime(_endDate) + totimespan(24h) - totimespan(1ms)   \n",
                "    and (_aadTenantId == '' or customDimensions.aadTenantId == _aadTenantId)\n",
                "    and (_environmentName == '' or customDimensions.environmentName == _environmentName )\n",
                "    and (_extensionId == '' or customDimensions.extensionId == _extensionId)    \n",
                "    and customDimensions.eventId == 'RT0012'\n",
                "| extend alObjectId = toint(customDimensions.alObjectId)\n",
                "| where alObjectId between (50000 .. 99999) or alObjectId between (1000000 .. 74999999)\n",
                "| extend codeOwnership = case(\n",
                "      alObjectId between (50000 .. 99999), 'ENVIRONMENT'\n",
                "    , alObjectId between (1000000 .. 69999999), 'ISV_ONPREM'\n",
                "    , alObjectId between (70000000 .. 74999999), 'ISV_ONLINE'\n",
                "    , 'MICROSOFT'\n",
                ")\n",
                "| summarize request_count=count() by bin(timestamp, 1d)\n",
                "| render timechart title= 'Number of database lock timeouts (in partner code)'"
            ],
            "metadata": {
                "azdata_cell_guid": "3ee52ced-9377-46a5-865a-528cceb6b335",
                "extensions": {
                    "azuredatastudio": {
                        "views": []
                    }
                }
            },
            "outputs": [
                {
                    "data": {
                        "text/plain": "<IPython.core.display.HTML object>",
                        "text/html": "<html>\n        <head>\n            \n            \n        </head>\n        <body>\n            <div><p style=' padding: 10px; color: #3a87ad; background-color: #d9edf7; border-color: #bce9f1'>&nbsp;*&nbsp;43d7cb5e-452b-4c08-93ca-a35109847936@applicationinsights</p></div>\n        </body>\n        </html>"
                    },
                    "metadata": {},
                    "output_type": "display_data"
                },
                {
                    "data": {
                        "text/plain": "<IPython.core.display.HTML object>",
                        "text/html": "<html>\n        <head>\n            <style>#uuid-0589dd0683fb44f0a16a71f6892b3292 {\n                    display: block; \n                    font-style:italic;\n                    font-size:300%;\n                    text-align:center;\n                } </style>\n            <title>Kqlmagic - chart</title>\n        </head>\n        <body>\n            <div id=\"uuid-0589dd0683fb44f0a16a71f6892b3292\"><br><br>EMPTY CHART (no data)<br><br>.</div>\n        </body>\n        </html>"
                    },
                    "metadata": {},
                    "output_type": "display_data"
                },
                {
                    "data": {
                        "text/plain": "<IPython.core.display.HTML object>",
                        "text/html": "<html>\n        <head>\n            \n            \n        </head>\n        <body>\n            <div><p style=' padding: 10px; color: #3a87ad; background-color: #d9edf7; border-color: #bce9f1'>Done&nbsp;(00:00.939):&nbsp;0&nbsp;records</p></div>\n        </body>\n        </html>"
                    },
                    "metadata": {},
                    "output_type": "display_data"
                },
                {
                    "data": {
                        "text/plain": "[]",
                        "text/html": ""
                    },
                    "metadata": {},
                    "execution_count": 18,
                    "output_type": "execute_result"
                }
            ],
            "execution_count": 18
        },
        {
            "cell_type": "code",
            "source": [
                "%%kql\n",
                "// \n",
                "// partner code units where database lock timeouts occur\n",
                "// \n",
                "let _aadTenantId = aadTenantId;\n",
                "let _environmentName = environmentName;\n",
                "let _extensionId = extensionId;\n",
                "let _startDate = startDate;\n",
                "let _endDate = endDate;\n",
                "traces\n",
                "| where 1==1 \n",
                "    and timestamp >= todatetime(_startDate)\n",
                "    and timestamp <= todatetime(_endDate) + totimespan(24h) - totimespan(1ms)   \n",
                "    and (_aadTenantId == '' or customDimensions.aadTenantId == _aadTenantId)\n",
                "    and (_environmentName == '' or customDimensions.environmentName == _environmentName )\n",
                "    and (_extensionId == '' or customDimensions.extensionId == _extensionId)    \n",
                "    and customDimensions.eventId == 'RT0012'\n",
                "| extend alObjectId = toint(customDimensions.alObjectId)\n",
                "| where alObjectId between (50000 .. 99999) or alObjectId between (1000000 .. 74999999)\n",
                "| extend codeOwnership = case(\n",
                "      alObjectId between (50000 .. 99999), 'ENVIRONMENT'\n",
                "    , alObjectId between (1000000 .. 69999999), 'ISV_ONPREM'\n",
                "    , alObjectId between (70000000 .. 74999999), 'ISV_ONLINE'\n",
                "    , 'MICROSOFT'\n",
                ")\n",
                "| summarize timeout_count=count() by alObjectId\n",
                "| order by timeout_count"
            ],
            "metadata": {
                "azdata_cell_guid": "82119fb5-180d-4ead-b1ae-198adcd8c0b6",
                "extensions": {
                    "azuredatastudio": {
                        "views": []
                    }
                }
            },
            "outputs": [
                {
                    "data": {
                        "text/plain": "<IPython.core.display.HTML object>",
                        "text/html": "<html>\n        <head>\n            \n            \n        </head>\n        <body>\n            <div><p style=' padding: 10px; color: #3a87ad; background-color: #d9edf7; border-color: #bce9f1'>&nbsp;*&nbsp;43d7cb5e-452b-4c08-93ca-a35109847936@applicationinsights</p></div>\n        </body>\n        </html>"
                    },
                    "metadata": {},
                    "output_type": "display_data"
                },
                {
                    "data": {
                        "text/plain": "Empty DataFrame\nColumns: [alObjectId, timeout_count]\nIndex: []",
                        "text/html": "<div>\n<style scoped>\n    .dataframe tbody tr th:only-of-type {\n        vertical-align: middle;\n    }\n\n    .dataframe tbody tr th {\n        vertical-align: top;\n    }\n\n    .dataframe thead th {\n        text-align: right;\n    }\n</style>\n<table border=\"1\" class=\"dataframe\">\n  <thead>\n    <tr style=\"text-align: right;\">\n      <th></th>\n      <th>alObjectId</th>\n      <th>timeout_count</th>\n    </tr>\n  </thead>\n  <tbody>\n  </tbody>\n</table>\n</div>",
                        "application/vnd.dataresource+json": {
                            "schema": {
                                "fields": [
                                    {
                                        "name": "alObjectId",
                                        "type": "integer"
                                    },
                                    {
                                        "name": "timeout_count",
                                        "type": "integer"
                                    }
                                ],
                                "kqmagic_version": "0.1.114"
                            },
                            "data": []
                        }
                    },
                    "metadata": {},
                    "output_type": "display_data"
                },
                {
                    "data": {
                        "text/plain": "<IPython.core.display.HTML object>",
                        "text/html": "<html>\n        <head>\n            \n            \n        </head>\n        <body>\n            <div><p style=' padding: 10px; color: #3a87ad; background-color: #d9edf7; border-color: #bce9f1'>Done&nbsp;(00:01.064):&nbsp;0&nbsp;records</p></div>\n        </body>\n        </html>"
                    },
                    "metadata": {},
                    "output_type": "display_data"
                },
                {
                    "data": {
                        "text/plain": "[]",
                        "text/html": ""
                    },
                    "metadata": {},
                    "execution_count": 19,
                    "output_type": "execute_result"
                }
            ],
            "execution_count": 19
        },
        {
            "cell_type": "markdown",
            "source": [
                "## Reports\n",
                "Long running reports (running longer than 1 minute) is normally not a problem for a user, because a report is seen as something that can take some time. But reports can consume resources on both the server and the database.\n",
                "Guidelines\n",
                "- Check if Word/RDLC reports are configured to use _read scale-out._ This will help reduce locking issues caused by reports\n",
                "- Check if there are excessive number of reports being run on the system (e.g. a report scheduled to run every minute instead of every hour)\n",
                "  \n",
                "Resources\n",
                "- Learn more about how to write performant reports here in the performance tuning guide: [https://docs.microsoft.com/en-us/dynamics365/business-central/dev-itpro/performance/performance-developer#writing-efficient-reports](https://docs.microsoft.com/en-us/dynamics365/business-central/dev-itpro/performance/performance-developer#writing-efficient-reports)\n",
                "- Report telemetry docs: [https://docs.microsoft.com/en-us/dynamics365/business-central/dev-itpro/administration/telemetry-reports-trace](https://docs.microsoft.com/en-us/dynamics365/business-central/dev-itpro/administration/telemetry-reports-trace)\n",
                "- KQL samples:\n",
                "    - [https://github.com/microsoft/BCTech/blob/master/samples/AppInsights/KQL/RawData/Reports.kql](https://github.com/microsoft/BCTech/blob/master/samples/AppInsights/KQL/RawData/Reports.kql)\n",
                "    - [https://github.com/microsoft/BCTech/blob/master/samples/AppInsights/KQL/PerformanceTuning/ReportExecution.kql](https://github.com/microsoft/BCTech/blob/master/samples/AppInsights/KQL/PerformanceTuning/ReportExecution.kql)"
            ],
            "metadata": {
                "azdata_cell_guid": "9e51a638-4e8d-413b-bc03-87bc8cac36a3",
                "extensions": {
                    "azuredatastudio": {
                        "views": []
                    }
                }
            }
        },
        {
            "cell_type": "code",
            "source": [
                "%%kql\n",
                "let _aadTenantId = aadTenantId;\n",
                "let _environmentName = environmentName;\n",
                "let _extensionId = extensionId;\n",
                "let _startDate = startDate;\n",
                "let _endDate = endDate;\n",
                "traces\n",
                "| where 1==1 \n",
                "    and timestamp >= todatetime(_startDate)\n",
                "    and timestamp <= todatetime(_endDate) + totimespan(24h) - totimespan(1ms)   \n",
                "    and (_aadTenantId == '' or customDimensions.aadTenantId == _aadTenantId)\n",
                "    and (_environmentName == '' or customDimensions.environmentName == _environmentName )\n",
                "    and (_extensionId == '' or customDimensions.extensionId == _extensionId)    \n",
                "    and customDimensions.eventId == 'RT0006'\n",
                "| extend alObjectId = toint(customDimensions.alObjectId)\n",
                "| where alObjectId between (50000 .. 99999) or alObjectId between (1000000 .. 74999999)\n",
                "| extend clientType = tostring( customDimensions.clientType )\n",
                "       , reportName = tostring( customDimensions.alObjectName )\n",
                "| extend codeOwnership = case(\n",
                "      alObjectId between (50000 .. 99999), 'ENVIRONMENT'\n",
                "    , alObjectId between (1000000 .. 69999999), 'ISV_ONPREM'\n",
                "    , alObjectId between (70000000 .. 74999999), 'ISV_ONLINE'\n",
                "    , 'MICROSOFT'\n",
                ")\n",
                "| where reportName <> ''\n",
                "| summarize count=count() by clientType, bin(timestamp, 1d)\n",
                "| render timechart title= 'Number of report execution by client/session type (partner reports)'"
            ],
            "metadata": {
                "azdata_cell_guid": "21e5d398-4a06-4ab9-a0e3-6e6263725dec",
                "extensions": {
                    "azuredatastudio": {
                        "views": []
                    }
                }
            },
            "outputs": [
                {
                    "data": {
                        "text/plain": "<IPython.core.display.HTML object>",
                        "text/html": "<html>\n        <head>\n            \n            \n        </head>\n        <body>\n            <div><p style=' padding: 10px; color: #3a87ad; background-color: #d9edf7; border-color: #bce9f1'>&nbsp;*&nbsp;43d7cb5e-452b-4c08-93ca-a35109847936@applicationinsights</p></div>\n        </body>\n        </html>"
                    },
                    "metadata": {},
                    "output_type": "display_data"
                },
                {
                    "data": {
                        "text/plain": "<IPython.core.display.HTML object>",
                        "text/html": "<html>\n        <head>\n            <style>#uuid-b07340e8ef0e47858499418810a9aef6 {\n                    display: block; \n                    font-style:italic;\n                    font-size:300%;\n                    text-align:center;\n                } </style>\n            <title>Kqlmagic - chart</title>\n        </head>\n        <body>\n            <div id=\"uuid-b07340e8ef0e47858499418810a9aef6\"><br><br>EMPTY CHART (no data)<br><br>.</div>\n        </body>\n        </html>"
                    },
                    "metadata": {},
                    "output_type": "display_data"
                },
                {
                    "data": {
                        "text/plain": "<IPython.core.display.HTML object>",
                        "text/html": "<html>\n        <head>\n            \n            \n        </head>\n        <body>\n            <div><p style=' padding: 10px; color: #3a87ad; background-color: #d9edf7; border-color: #bce9f1'>Done&nbsp;(00:00.568):&nbsp;0&nbsp;records</p></div>\n        </body>\n        </html>"
                    },
                    "metadata": {},
                    "output_type": "display_data"
                },
                {
                    "data": {
                        "text/plain": "[]",
                        "text/html": ""
                    },
                    "metadata": {},
                    "execution_count": 20,
                    "output_type": "execute_result"
                }
            ],
            "execution_count": 20
        },
        {
            "cell_type": "code",
            "source": [
                "%%kql\n",
                "let _aadTenantId = aadTenantId;\n",
                "let _environmentName = environmentName;\n",
                "let _extensionId = extensionId;\n",
                "let _startDate = startDate;\n",
                "let _endDate = endDate;\n",
                "traces\n",
                "| where 1==1 \n",
                "    and timestamp >= todatetime(_startDate)\n",
                "    and timestamp <= todatetime(_endDate) + totimespan(24h) - totimespan(1ms)   \n",
                "    and (_aadTenantId == '' or customDimensions.aadTenantId == _aadTenantId)\n",
                "    and (_environmentName == '' or customDimensions.environmentName == _environmentName )\n",
                "    and (_extensionId == '' or customDimensions.extensionId == _extensionId)    \n",
                "    and customDimensions.eventId == 'RT0006'\n",
                "| extend alObjectId = toint(customDimensions.alObjectId)\n",
                "| where alObjectId between (50000 .. 99999) or alObjectId between (1000000 .. 74999999)\n",
                "| extend reportName = tostring( customDimensions.alObjectName )\n",
                "       , executionTimeInSec = toreal(totimespan(customDimensions.totalTime))/10000000 //the datatype for executionTime is timespan \n",
                "| where reportName <> ''\n",
                "| extend codeOwnership = case(\n",
                "      alObjectId between (50000 .. 99999), 'ENVIRONMENT'\n",
                "    , alObjectId between (1000000 .. 69999999), 'ISV_ONPREM'\n",
                "    , alObjectId between (70000000 .. 74999999), 'ISV_ONLINE'\n",
                "    , 'MICROSOFT'\n",
                ")\n",
                "| summarize avg=avg(executionTimeInSec), median=percentile(executionTimeInSec, 50), percentile95=percentile(executionTimeInSec, 95), max=max(executionTimeInSec)   \n",
                "  by reportName\n",
                "| order by percentile95\n",
                "| limit 10\n",
                "| render columnchart with  (title= 'Execution time stats of (partner) reports by report name (top 10 by 95% percentile)', ytitle='Time (in seconds)' ) "
            ],
            "metadata": {
                "azdata_cell_guid": "80670aee-4a06-44da-8b8f-b0bb8124ef12",
                "extensions": {
                    "azuredatastudio": {
                        "views": []
                    }
                }
            },
            "outputs": [
                {
                    "data": {
                        "text/plain": "<IPython.core.display.HTML object>",
                        "text/html": "<html>\n        <head>\n            \n            \n        </head>\n        <body>\n            <div><p style=' padding: 10px; color: #3a87ad; background-color: #d9edf7; border-color: #bce9f1'>&nbsp;*&nbsp;43d7cb5e-452b-4c08-93ca-a35109847936@applicationinsights</p></div>\n        </body>\n        </html>"
                    },
                    "metadata": {},
                    "output_type": "display_data"
                },
                {
                    "data": {
                        "text/plain": "<IPython.core.display.HTML object>",
                        "text/html": "<html>\n        <head>\n            <style>#uuid-03b4047cba014f0cbed432d855ba4b96 {\n                    display: block; \n                    font-style:italic;\n                    font-size:300%;\n                    text-align:center;\n                } </style>\n            <title>Kqlmagic - chart</title>\n        </head>\n        <body>\n            <div id=\"uuid-03b4047cba014f0cbed432d855ba4b96\"><br><br>EMPTY CHART (no data)<br><br>.</div>\n        </body>\n        </html>"
                    },
                    "metadata": {},
                    "output_type": "display_data"
                },
                {
                    "data": {
                        "text/plain": "<IPython.core.display.HTML object>",
                        "text/html": "<html>\n        <head>\n            \n            \n        </head>\n        <body>\n            <div><p style=' padding: 10px; color: #3a87ad; background-color: #d9edf7; border-color: #bce9f1'>Done&nbsp;(00:01.151):&nbsp;0&nbsp;records</p></div>\n        </body>\n        </html>"
                    },
                    "metadata": {},
                    "output_type": "display_data"
                },
                {
                    "data": {
                        "text/plain": "[]",
                        "text/html": ""
                    },
                    "metadata": {},
                    "execution_count": 21,
                    "output_type": "execute_result"
                }
            ],
            "execution_count": 21
        },
        {
            "cell_type": "code",
            "source": [
                "%%kql\n",
                "// \n",
                "// top 20 most expensive reports (in partner code)\n",
                "// \n",
                "let _aadTenantId = aadTenantId;\n",
                "let _environmentName = environmentName;\n",
                "let _extensionId = extensionId;\n",
                "let _startDate = startDate;\n",
                "let _endDate = endDate;\n",
                "traces\n",
                "| where 1==1 \n",
                "    and timestamp >= todatetime(_startDate)\n",
                "    and timestamp <= todatetime(_endDate) + totimespan(24h) - totimespan(1ms)   \n",
                "    and (_aadTenantId == '' or customDimensions.aadTenantId == _aadTenantId)\n",
                "    and (_environmentName == '' or customDimensions.environmentName == _environmentName )\n",
                "    and (_extensionId == '' or customDimensions.extensionId == _extensionId)    \n",
                "    and customDimensions.eventId == 'RT0006'\n",
                "| extend alObjectId = toint(customDimensions.alObjectId)\n",
                "| where alObjectId between (50000 .. 99999) or alObjectId between (1000000 .. 74999999)\n",
                "| extend reportName = tostring( customDimensions.alObjectName )\n",
                "       , executionTimeInSec = toreal(totimespan(customDimensions.totalTime))/10000000 //the datatype for executionTime is timespan \n",
                "| extend codeOwnership = case(\n",
                "      alObjectId between (50000 .. 99999), 'ENVIRONMENT'\n",
                "    , alObjectId between (1000000 .. 69999999), 'ISV_ONPREM'\n",
                "    , alObjectId between (70000000 .. 74999999), 'ISV_ONLINE'\n",
                "    , 'MICROSOFT'\n",
                ")\n",
                "| where reportName <> ''\n",
                "| summarize avg=avg(executionTimeInSec), median=percentile(executionTimeInSec, 50), percentile95=percentile(executionTimeInSec, 95), max=max(executionTimeInSec)   \n",
                "  by reportName\n",
                "| order by percentile95\n",
                "| limit 20"
            ],
            "metadata": {
                "azdata_cell_guid": "ac9f9201-e3cc-41ae-958c-f532de3717ec",
                "extensions": {
                    "azuredatastudio": {
                        "views": []
                    }
                }
            },
            "outputs": [
                {
                    "data": {
                        "text/plain": "<IPython.core.display.HTML object>",
                        "text/html": "<html>\n        <head>\n            \n            \n        </head>\n        <body>\n            <div><p style=' padding: 10px; color: #3a87ad; background-color: #d9edf7; border-color: #bce9f1'>&nbsp;*&nbsp;43d7cb5e-452b-4c08-93ca-a35109847936@applicationinsights</p></div>\n        </body>\n        </html>"
                    },
                    "metadata": {},
                    "output_type": "display_data"
                },
                {
                    "data": {
                        "text/plain": "Empty DataFrame\nColumns: [reportName, avg, median, percentile95, max]\nIndex: []",
                        "text/html": "<div>\n<style scoped>\n    .dataframe tbody tr th:only-of-type {\n        vertical-align: middle;\n    }\n\n    .dataframe tbody tr th {\n        vertical-align: top;\n    }\n\n    .dataframe thead th {\n        text-align: right;\n    }\n</style>\n<table border=\"1\" class=\"dataframe\">\n  <thead>\n    <tr style=\"text-align: right;\">\n      <th></th>\n      <th>reportName</th>\n      <th>avg</th>\n      <th>median</th>\n      <th>percentile95</th>\n      <th>max</th>\n    </tr>\n  </thead>\n  <tbody>\n  </tbody>\n</table>\n</div>",
                        "application/vnd.dataresource+json": {
                            "schema": {
                                "fields": [
                                    {
                                        "name": "reportName",
                                        "type": "string"
                                    },
                                    {
                                        "name": "avg",
                                        "type": "number"
                                    },
                                    {
                                        "name": "median",
                                        "type": "number"
                                    },
                                    {
                                        "name": "percentile95",
                                        "type": "number"
                                    },
                                    {
                                        "name": "max",
                                        "type": "number"
                                    }
                                ],
                                "kqmagic_version": "0.1.114"
                            },
                            "data": []
                        }
                    },
                    "metadata": {},
                    "output_type": "display_data"
                },
                {
                    "data": {
                        "text/plain": "<IPython.core.display.HTML object>",
                        "text/html": "<html>\n        <head>\n            \n            \n        </head>\n        <body>\n            <div><p style=' padding: 10px; color: #3a87ad; background-color: #d9edf7; border-color: #bce9f1'>Done&nbsp;(00:01.016):&nbsp;0&nbsp;records</p></div>\n        </body>\n        </html>"
                    },
                    "metadata": {},
                    "output_type": "display_data"
                },
                {
                    "data": {
                        "text/plain": "[]",
                        "text/html": ""
                    },
                    "metadata": {},
                    "execution_count": 22,
                    "output_type": "execute_result"
                }
            ],
            "execution_count": 22
        },
        {
            "cell_type": "code",
            "source": [
                "%%kql\n",
                "// \n",
                "// top 10 reports that have a low sqlratio\n",
                "// \n",
                "// The higher the number called sqlratio is, the more set-based the report is (it tells you how many sql rows are read per sql statement)\n",
                "//\n",
                "let _aadTenantId = aadTenantId;\n",
                "let _environmentName = environmentName;\n",
                "let _extensionId = extensionId;\n",
                "let _startDate = startDate;\n",
                "let _endDate = endDate;\n",
                "traces\n",
                "| where 1==1 \n",
                "    and timestamp >= todatetime(_startDate)\n",
                "    and timestamp <= todatetime(_endDate) + totimespan(24h) - totimespan(1ms)   \n",
                "    and (_aadTenantId == '' or customDimensions.aadTenantId == _aadTenantId)\n",
                "    and (_environmentName == '' or customDimensions.environmentName == _environmentName )\n",
                "    and (_extensionId == '' or customDimensions.extensionId == _extensionId)    \n",
                "    and customDimensions.eventId == 'RT0006'\n",
                "| extend alObjectId = toint(customDimensions.alObjectId)\n",
                "| where alObjectId between (50000 .. 99999) or alObjectId between (1000000 .. 74999999)\n",
                "| extend codeOwnership = case(\n",
                "      alObjectId between (50000 .. 99999), 'ENVIRONMENT'\n",
                "    , alObjectId between (1000000 .. 69999999), 'ISV_ONPREM'\n",
                "    , alObjectId between (70000000 .. 74999999), 'ISV_ONLINE'\n",
                "    , 'MICROSOFT'\n",
                ")\n",
                "| project numberOfRows = toint(customDimensions.numberOfRows)\n",
                ", sqlRowsRead = toint( customDimensions.sqlRowsRead )\n",
                ", sqlExecutes = toint( customDimensions.sqlExecutes )\n",
                ", alObjectName = tostring( customDimensions.alObjectName )\n",
                ", alObjectId = tostring( customDimensions.alObjectId )\n",
                ", codeOwnership\n",
                ", extensionPublisher = tostring(customDimensions.extensionPublisher )\n",
                "| where isnotnull( sqlExecutes ) and isnotnull( sqlRowsRead )\n",
                "| summarize numberOfReportExecutions=count(), totalRows=sum(numberOfRows), totalSQLExecutes = sum(sqlExecutes), totalSQLRowsRead = sum(sqlRowsRead) \n",
                "by alObjectId, alObjectName, codeOwnership\n",
                "| extend sqlratio = toreal(totalSQLRowsRead)/totalSQLExecutes\n",
                ", datasetratio = toreal(totalRows)/totalSQLExecutes\n",
                "| order by sqlratio asc\n",
                "| limit 10"
            ],
            "metadata": {
                "azdata_cell_guid": "593a264d-6673-471c-a835-0a5d5daec84c",
                "extensions": {
                    "azuredatastudio": {
                        "views": []
                    }
                }
            },
            "outputs": [
                {
                    "data": {
                        "text/plain": "<IPython.core.display.HTML object>",
                        "text/html": "<html>\n        <head>\n            \n            \n        </head>\n        <body>\n            <div><p style=' padding: 10px; color: #3a87ad; background-color: #d9edf7; border-color: #bce9f1'>&nbsp;*&nbsp;43d7cb5e-452b-4c08-93ca-a35109847936@applicationinsights</p></div>\n        </body>\n        </html>"
                    },
                    "metadata": {},
                    "output_type": "display_data"
                },
                {
                    "data": {
                        "text/plain": "Empty DataFrame\nColumns: [alObjectId, alObjectName, codeOwnership, numberOfReportExecutions, totalRows, totalSQLExecutes, totalSQLRowsRead, sqlratio, datasetratio]\nIndex: []",
                        "text/html": "<div>\n<style scoped>\n    .dataframe tbody tr th:only-of-type {\n        vertical-align: middle;\n    }\n\n    .dataframe tbody tr th {\n        vertical-align: top;\n    }\n\n    .dataframe thead th {\n        text-align: right;\n    }\n</style>\n<table border=\"1\" class=\"dataframe\">\n  <thead>\n    <tr style=\"text-align: right;\">\n      <th></th>\n      <th>alObjectId</th>\n      <th>alObjectName</th>\n      <th>codeOwnership</th>\n      <th>numberOfReportExecutions</th>\n      <th>totalRows</th>\n      <th>totalSQLExecutes</th>\n      <th>totalSQLRowsRead</th>\n      <th>sqlratio</th>\n      <th>datasetratio</th>\n    </tr>\n  </thead>\n  <tbody>\n  </tbody>\n</table>\n</div>",
                        "application/vnd.dataresource+json": {
                            "schema": {
                                "fields": [
                                    {
                                        "name": "alObjectId",
                                        "type": "string"
                                    },
                                    {
                                        "name": "alObjectName",
                                        "type": "string"
                                    },
                                    {
                                        "name": "codeOwnership",
                                        "type": "string"
                                    },
                                    {
                                        "name": "numberOfReportExecutions",
                                        "type": "integer"
                                    },
                                    {
                                        "name": "totalRows",
                                        "type": "integer"
                                    },
                                    {
                                        "name": "totalSQLExecutes",
                                        "type": "integer"
                                    },
                                    {
                                        "name": "totalSQLRowsRead",
                                        "type": "integer"
                                    },
                                    {
                                        "name": "sqlratio",
                                        "type": "number"
                                    },
                                    {
                                        "name": "datasetratio",
                                        "type": "number"
                                    }
                                ],
                                "kqmagic_version": "0.1.114"
                            },
                            "data": []
                        }
                    },
                    "metadata": {},
                    "output_type": "display_data"
                },
                {
                    "data": {
                        "text/plain": "<IPython.core.display.HTML object>",
                        "text/html": "<html>\n        <head>\n            \n            \n        </head>\n        <body>\n            <div><p style=' padding: 10px; color: #3a87ad; background-color: #d9edf7; border-color: #bce9f1'>Done&nbsp;(00:00.726):&nbsp;0&nbsp;records</p></div>\n        </body>\n        </html>"
                    },
                    "metadata": {},
                    "output_type": "display_data"
                },
                {
                    "data": {
                        "text/plain": "[]",
                        "text/html": ""
                    },
                    "metadata": {},
                    "execution_count": 23,
                    "output_type": "execute_result"
                }
            ],
            "execution_count": 23
        },
        {
            "cell_type": "markdown",
            "source": [
                "## Slow AL code (only available from version 17.1)\n",
                "AL execution is normally very fast in itself. If you see data in this section, you might have implemented an in-efficient algorithm.\n",
                "  \n",
                "Guidelines\n",
                "- It is unlikely that an AL method that only does AL (no calls to external web services or the database) executes for more than 1000 ms.\n",
                "  \n",
                "Resources\n",
                "- Learn more about how to write performant AL code here in the performance tuning guide: [https://docs.microsoft.com/en-us/dynamics365/business-central/dev-itpro/performance/performance-developer#al-performance-patterns](https://docs.microsoft.com/en-us/dynamics365/business-central/dev-itpro/performance/performance-developer#al-performance-patterns)\n",
                "- Long running AL method telemetry docs: [https://docs.microsoft.com/en-us/dynamics365/business-central/dev-itpro/administration/telemetry-al-method-trace](https://docs.microsoft.com/en-us/dynamics365/business-central/dev-itpro/administration/telemetry-al-method-trace)\n",
                "- KQL samples:\n",
                "    - [https://github.com/microsoft/BCTech/blob/master/samples/AppInsights/KQL/Queries/RawData/LongRunningAL.kq](https://github.com/microsoft/BCTech/blob/master/samples/AppInsights/KQL/Queries/RawData/LongRunningAL.kql)l\n",
                "    - [https://github.com/microsoft/BCTech/blob/master/samples/AppInsights/KQL/Queries/PerformanceTuning/SlowALMethods.kql](https://github.com/microsoft/BCTech/blob/master/samples/AppInsights/KQL/Queries/PerformanceTuning/SlowALMethods.kql)"
            ],
            "metadata": {
                "azdata_cell_guid": "42a5907b-2566-4d05-a50c-ea56c91ce55d",
                "extensions": {
                    "azuredatastudio": {
                        "views": []
                    }
                }
            }
        },
        {
            "cell_type": "code",
            "source": [
                "%%kql\n",
                "let _aadTenantId = aadTenantId;\n",
                "let _environmentName = environmentName;\n",
                "let _extensionId = extensionId;\n",
                "let _startDate = startDate;\n",
                "let _endDate = endDate;\n",
                "traces\n",
                "| where 1==1 \n",
                "    and timestamp >= todatetime(_startDate)\n",
                "    and timestamp <= todatetime(_endDate) + totimespan(24h) - totimespan(1ms)   \n",
                "    and (_aadTenantId == '' or customDimensions.aadTenantId == _aadTenantId)\n",
                "    and (_environmentName == '' or customDimensions.environmentName == _environmentName )\n",
                "    and (_extensionId == '' or customDimensions.extensionId == _extensionId)    \n",
                "    and customDimensions.eventId == 'RT0018'\n",
                "| extend alObjectId = toint(customDimensions.alObjectId)\n",
                "| where alObjectId between (50000 .. 99999) or alObjectId between (1000000 .. 74999999)\n",
                "| extend codeOwnership = case(\n",
                "      alObjectId between (50000 .. 99999), 'ENVIRONMENT'\n",
                "    , alObjectId between (1000000 .. 69999999), 'ISV_ONPREM'\n",
                "    , alObjectId between (70000000 .. 74999999), 'ISV_ONLINE'\n",
                "    , 'MICROSOFT'\n",
                ")    \n",
                "| extend clientType = tostring( customDimensions.clientType )\n",
                "| summarize count=count() by clientType, bin(timestamp, 1d)\n",
                "| render timechart title= 'Number of long running AL methods (shown by client/session type)'"
            ],
            "metadata": {
                "azdata_cell_guid": "9a066ca8-c5d3-488a-a367-43ab321e0575",
                "extensions": {
                    "azuredatastudio": {
                        "views": []
                    }
                }
            },
            "outputs": [
                {
                    "data": {
                        "text/plain": "<IPython.core.display.HTML object>",
                        "text/html": "<html>\n        <head>\n            \n            \n        </head>\n        <body>\n            <div><p style=' padding: 10px; color: #3a87ad; background-color: #d9edf7; border-color: #bce9f1'>&nbsp;*&nbsp;43d7cb5e-452b-4c08-93ca-a35109847936@applicationinsights</p></div>\n        </body>\n        </html>"
                    },
                    "metadata": {},
                    "output_type": "display_data"
                },
                {
                    "data": {
                        "text/plain": "<IPython.core.display.HTML object>",
                        "text/html": "<html>\n        <head>\n            <style>#uuid-a2dd4cfed862472d9bb03f3b13bd5e96 {\n                    display: block; \n                    font-style:italic;\n                    font-size:300%;\n                    text-align:center;\n                } </style>\n            <title>Kqlmagic - chart</title>\n        </head>\n        <body>\n            <div id=\"uuid-a2dd4cfed862472d9bb03f3b13bd5e96\"><br><br>EMPTY CHART (no data)<br><br>.</div>\n        </body>\n        </html>"
                    },
                    "metadata": {},
                    "output_type": "display_data"
                },
                {
                    "data": {
                        "text/plain": "<IPython.core.display.HTML object>",
                        "text/html": "<html>\n        <head>\n            \n            \n        </head>\n        <body>\n            <div><p style=' padding: 10px; color: #3a87ad; background-color: #d9edf7; border-color: #bce9f1'>Done&nbsp;(00:01.432):&nbsp;0&nbsp;records</p></div>\n        </body>\n        </html>"
                    },
                    "metadata": {},
                    "output_type": "display_data"
                },
                {
                    "data": {
                        "text/plain": "[]",
                        "text/html": ""
                    },
                    "metadata": {},
                    "execution_count": 24,
                    "output_type": "execute_result"
                }
            ],
            "execution_count": 24
        },
        {
            "cell_type": "code",
            "source": [
                "%%kql\n",
                "// Top 20 slowest AL methods\n",
                "//\n",
                "// \n",
                "let _aadTenantId = aadTenantId;\n",
                "let _environmentName = environmentName;\n",
                "let _extensionId = extensionId;\n",
                "let _startDate = startDate;\n",
                "let _endDate = endDate;\n",
                "traces\n",
                "| where 1==1 \n",
                "    and timestamp >= todatetime(_startDate)\n",
                "    and timestamp <= todatetime(_endDate) + totimespan(24h) - totimespan(1ms)   \n",
                "    and (_aadTenantId == '' or customDimensions.aadTenantId == _aadTenantId)\n",
                "    and (_environmentName == '' or customDimensions.environmentName == _environmentName )\n",
                "    and (_extensionId == '' or customDimensions.extensionId == _extensionId)    \n",
                "    and customDimensions.eventId == 'RT0018'\n",
                "| extend alObjectId = toint(customDimensions.alObjectId)\n",
                "| where alObjectId between (50000 .. 99999) or alObjectId between (1000000 .. 74999999)\n",
                "| extend codeOwnership = case(\n",
                "      alObjectId between (50000 .. 99999), 'ENVIRONMENT'\n",
                "    , alObjectId between (1000000 .. 69999999), 'ISV_ONPREM'\n",
                "    , alObjectId between (70000000 .. 74999999), 'ISV_ONLINE'\n",
                "    , 'MICROSOFT'\n",
                ")    \n",
                "| extend \n",
                "  alMethod = tostring( customDimensions.alMethod )\n",
                ", alObjectName = tostring( customDimensions.alObjectName )\n",
                ", alObjectType = tostring(customDimensions.alObjectType)\n",
                ", executionTime = customDimensions.executionTime\n",
                ", executionTimeInMS = toreal(totimespan(customDimensions.executionTime))/10000 //the datatype for executionTime is timespan \n",
                ", extensionName = tostring( customDimensions.extensionName )\n",
                "| extend executionTimeInSec = round(executionTimeInMS / 1000, 2)\n",
                "| summarize count(), avg( executionTimeInSec ), min( executionTimeInSec ), max( executionTimeInSec ), percentile(executionTimeInSec, 95) by alMethod, alObjectType, alObjectId, alObjectName, extensionName\n",
                "| order by avg_executionTimeInSec desc \n",
                "| limit 20"
            ],
            "metadata": {
                "azdata_cell_guid": "6fec11d2-85b8-4469-b260-4c9b9da4047e",
                "extensions": {
                    "azuredatastudio": {
                        "views": []
                    }
                }
            },
            "outputs": [
                {
                    "data": {
                        "text/plain": "<IPython.core.display.HTML object>",
                        "text/html": "<html>\n        <head>\n            \n            \n        </head>\n        <body>\n            <div><p style=' padding: 10px; color: #3a87ad; background-color: #d9edf7; border-color: #bce9f1'>&nbsp;*&nbsp;43d7cb5e-452b-4c08-93ca-a35109847936@applicationinsights</p></div>\n        </body>\n        </html>"
                    },
                    "metadata": {},
                    "output_type": "display_data"
                },
                {
                    "data": {
                        "text/plain": "Empty DataFrame\nColumns: [alMethod, alObjectType, alObjectId, alObjectName, extensionName, count_, avg_executionTimeInSec, min_executionTimeInSec, max_executionTimeInSec, percentile_executionTimeInSec_95]\nIndex: []",
                        "text/html": "<div>\n<style scoped>\n    .dataframe tbody tr th:only-of-type {\n        vertical-align: middle;\n    }\n\n    .dataframe tbody tr th {\n        vertical-align: top;\n    }\n\n    .dataframe thead th {\n        text-align: right;\n    }\n</style>\n<table border=\"1\" class=\"dataframe\">\n  <thead>\n    <tr style=\"text-align: right;\">\n      <th></th>\n      <th>alMethod</th>\n      <th>alObjectType</th>\n      <th>alObjectId</th>\n      <th>alObjectName</th>\n      <th>extensionName</th>\n      <th>count_</th>\n      <th>avg_executionTimeInSec</th>\n      <th>min_executionTimeInSec</th>\n      <th>max_executionTimeInSec</th>\n      <th>percentile_executionTimeInSec_95</th>\n    </tr>\n  </thead>\n  <tbody>\n  </tbody>\n</table>\n</div>",
                        "application/vnd.dataresource+json": {
                            "schema": {
                                "fields": [
                                    {
                                        "name": "alMethod",
                                        "type": "string"
                                    },
                                    {
                                        "name": "alObjectType",
                                        "type": "string"
                                    },
                                    {
                                        "name": "alObjectId",
                                        "type": "integer"
                                    },
                                    {
                                        "name": "alObjectName",
                                        "type": "string"
                                    },
                                    {
                                        "name": "extensionName",
                                        "type": "string"
                                    },
                                    {
                                        "name": "count_",
                                        "type": "integer"
                                    },
                                    {
                                        "name": "avg_executionTimeInSec",
                                        "type": "number"
                                    },
                                    {
                                        "name": "min_executionTimeInSec",
                                        "type": "number"
                                    },
                                    {
                                        "name": "max_executionTimeInSec",
                                        "type": "number"
                                    },
                                    {
                                        "name": "percentile_executionTimeInSec_95",
                                        "type": "number"
                                    }
                                ],
                                "kqmagic_version": "0.1.114"
                            },
                            "data": []
                        }
                    },
                    "metadata": {},
                    "output_type": "display_data"
                },
                {
                    "data": {
                        "text/plain": "<IPython.core.display.HTML object>",
                        "text/html": "<html>\n        <head>\n            \n            \n        </head>\n        <body>\n            <div><p style=' padding: 10px; color: #3a87ad; background-color: #d9edf7; border-color: #bce9f1'>Done&nbsp;(00:00.751):&nbsp;0&nbsp;records</p></div>\n        </body>\n        </html>"
                    },
                    "metadata": {},
                    "output_type": "display_data"
                },
                {
                    "data": {
                        "text/plain": "[]",
                        "text/html": ""
                    },
                    "metadata": {},
                    "execution_count": 25,
                    "output_type": "execute_result"
                }
            ],
            "execution_count": 25
        },
        {
            "cell_type": "markdown",
            "source": [
                "## Page views (only available in BC Online (SaaS))\n",
                "Page views is measuring the time that the users experience in the browser client.\n",
                "  \n",
                "Guidelines\n",
                "- A card page is perceived as fast if it is responsive in less than 2 seconds and acceptable if it is responsive in less than 5 seconds \n",
                "- A list view is perceived as fast if it is responsive in less than 2 seconds and acceptable if it is responsive in less than 5 seconds \n",
                "  \n",
                "Resources\n",
                "- Page view telemetry docs: [https://docs.microsoft.com/en-us/dynamics365/business-central/dev-itpro/administration/telemetry-page-view-trace](https://docs.microsoft.com/en-us/dynamics365/business-central/dev-itpro/administration/telemetry-page-view-trace)\n",
                "- KQL samples: [https://github.com/microsoft/BCTech/blob/master/samples/AppInsights/KQL/RawData/PageViews.kql](https://github.com/microsoft/BCTech/blob/master/samples/AppInsights/KQL/RawData/PageViews.kql)"
            ],
            "metadata": {
                "azdata_cell_guid": "1452b8b6-3c5f-4b36-b259-33298826a8fb",
                "extensions": {
                    "azuredatastudio": {
                        "views": []
                    }
                }
            }
        },
        {
            "cell_type": "code",
            "source": [
                "%%kql\n",
                "//\n",
                "// Top 10 longest page times (partner-added pages)\n",
                "// \n",
                "let _aadTenantId = aadTenantId;\n",
                "let _environmentName = environmentName;\n",
                "let _extensionId = extensionId;\n",
                "let _startDate = startDate;\n",
                "let _endDate = endDate;\n",
                "pageViews\n",
                "| where 1==1 \n",
                "    and timestamp >= todatetime(_startDate)\n",
                "    and timestamp <= todatetime(_endDate) + totimespan(24h) - totimespan(1ms)   \n",
                "    and (_aadTenantId == '' or customDimensions.aadTenantId == _aadTenantId)\n",
                "    and (_environmentName == '' or customDimensions.environmentName == _environmentName )\n",
                "    and (_extensionId == '' or customDimensions.extensionId == _extensionId)    \n",
                "| extend alObjectId = toint(customDimensions.alObjectId)\n",
                "| where alObjectId between (50000 .. 99999) or alObjectId between (1000000 .. 74999999)\n",
                "| extend objectId = tostring(customDimensions.alObjectId)\n",
                "| extend codeOwnership = case(\n",
                "      alObjectId between (50000 .. 99999), 'ENVIRONMENT'\n",
                "    , alObjectId between (1000000 .. 69999999), 'ISV_ONPREM'\n",
                "    , alObjectId between (70000000 .. 74999999), 'ISV_ONLINE'\n",
                "    , 'MICROSOFT'\n",
                ")\n",
                "| summarize median_load_time_in_MS = percentile(duration,50) by pageName=name, objectId\n",
                "| order by median_load_time_in_MS desc\n",
                "| limit 10"
            ],
            "metadata": {
                "azdata_cell_guid": "6595bc25-3cbf-4b37-bc4f-c62e9d2e2810",
                "extensions": {
                    "azuredatastudio": {
                        "views": []
                    }
                }
            },
            "outputs": [
                {
                    "data": {
                        "text/plain": "<IPython.core.display.HTML object>",
                        "text/html": "<html>\n        <head>\n            \n            \n        </head>\n        <body>\n            <div><p style=' padding: 10px; color: #3a87ad; background-color: #d9edf7; border-color: #bce9f1'>&nbsp;*&nbsp;43d7cb5e-452b-4c08-93ca-a35109847936@applicationinsights</p></div>\n        </body>\n        </html>"
                    },
                    "metadata": {},
                    "output_type": "display_data"
                },
                {
                    "data": {
                        "text/plain": "Empty DataFrame\nColumns: [pageName, objectId, median_load_time_in_MS]\nIndex: []",
                        "text/html": "<div>\n<style scoped>\n    .dataframe tbody tr th:only-of-type {\n        vertical-align: middle;\n    }\n\n    .dataframe tbody tr th {\n        vertical-align: top;\n    }\n\n    .dataframe thead th {\n        text-align: right;\n    }\n</style>\n<table border=\"1\" class=\"dataframe\">\n  <thead>\n    <tr style=\"text-align: right;\">\n      <th></th>\n      <th>pageName</th>\n      <th>objectId</th>\n      <th>median_load_time_in_MS</th>\n    </tr>\n  </thead>\n  <tbody>\n  </tbody>\n</table>\n</div>",
                        "application/vnd.dataresource+json": {
                            "schema": {
                                "fields": [
                                    {
                                        "name": "pageName",
                                        "type": "string"
                                    },
                                    {
                                        "name": "objectId",
                                        "type": "string"
                                    },
                                    {
                                        "name": "median_load_time_in_MS",
                                        "type": "number"
                                    }
                                ],
                                "kqmagic_version": "0.1.114"
                            },
                            "data": []
                        }
                    },
                    "metadata": {},
                    "output_type": "display_data"
                },
                {
                    "data": {
                        "text/plain": "<IPython.core.display.HTML object>",
                        "text/html": "<html>\n        <head>\n            \n            \n        </head>\n        <body>\n            <div><p style=' padding: 10px; color: #3a87ad; background-color: #d9edf7; border-color: #bce9f1'>Done&nbsp;(00:00.800):&nbsp;0&nbsp;records</p></div>\n        </body>\n        </html>"
                    },
                    "metadata": {},
                    "output_type": "display_data"
                },
                {
                    "data": {
                        "text/plain": "[]",
                        "text/html": ""
                    },
                    "metadata": {},
                    "execution_count": 26,
                    "output_type": "execute_result"
                }
            ],
            "execution_count": 26
        }
    ]
}